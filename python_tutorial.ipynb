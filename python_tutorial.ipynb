{
 "cells": [
  {
   "cell_type": "markdown",
   "id": "a99028f4",
   "metadata": {},
   "source": [
    "# Introduction to python: numpy, scipy, pandas, and matplotlib\n",
    "### <div style=\"text-align: right\"> Computational Physics 2023 </div>\n",
    "### <div style=\"text-align: right\"> Author: Kanishk Chauhan </div>"
   ]
  },
  {
   "cell_type": "markdown",
   "id": "b53ad872",
   "metadata": {},
   "source": [
    "Python is amongst the simplest and most powerful programming languages used in all fields of science and engineering. Because of its ease of use and a remarkable documentation by the makers of python and people around the world, answers to most of our questions regarding the syntax, what functions to use, etc. can be found everywhere on the internet. In this tutorial, you will be provided with links to useful websites and documentation to have a look and familiarize yourself with basic python and commonly used libraries (modules). \n",
    "\n",
    "In particular, we will go over numpy, scipy, pandas, and matplotlib in this tutorial. Python by itself has a limited functionality but the packages (libraries) make it powerful and provide us with the data structures and functions which can be used to solve the problems at hand. \n",
    "\n",
    "Before diving into the libraries, let's familiarize ourselves with the basics of python and see what all python alone can do. [Beginners Guide](https://wiki.python.org/moin/BeginnersGuide/Programmers) has a lot of helpful tutorials that we highly recommend.\n",
    "\n",
    "## Section 1: Datatypes, operators, conditions, loops, and functions \n",
    "\n",
    "In the following, we will briefly go over some of the most common things required to do well in computational physics course. For more on the basics of programming with python, [an excellent source is available here.](https://learnxinyminutes.com/docs/python/)\n",
    "\n",
    "### 1.1 Assigning values to variables (no need to specify the type- int, float, etc.)\n",
    "'=' is the assignment operator. If x = y, then the value of 'y' will be assigned to 'x' and as a result, both 'x' and 'y' will carry the same value. Throughout this tutorial, we will use 'print()' function to output the results. Printing is simple in python and the output can be formatted as we like. We can format the output using 'f' before the content we want to print."
   ]
  },
  {
   "cell_type": "code",
   "execution_count": 15,
   "id": "b67be5be",
   "metadata": {},
   "outputs": [
    {
     "name": "stdout",
     "output_type": "stream",
     "text": [
      "10 5.5\n",
      "a = 10 and b = 5.5\n",
      "\n",
      "The variables are  10 5.5 whatever  dude !\n",
      "<class 'int'> <class 'float'> <class 'str'> <class 'str'> <class 'str'>\n"
     ]
    }
   ],
   "source": [
    "a = 10\n",
    "b = 5.5\n",
    "c = 'whatever'\n",
    "d = \"dude\" # notice that both single and double quotes create a string\n",
    "e = '!' # python does not have a character-type. Even a single entity inside '' is a string\n",
    "\n",
    "# printing the output\n",
    "print(a,b)\n",
    "print(f'a = {a} and b = {b}') # formatting the output using 'f' before the content we want to print\n",
    "print() # prints a blank line\n",
    "print(\"The variables are \",a,b,c,'',d,e) # empty quotes add space in the output\n",
    "print(type(a),type(b),type(c),type(d),type(e)) # prints the type of a variable"
   ]
  },
  {
   "cell_type": "markdown",
   "id": "a96e398c",
   "metadata": {},
   "source": [
    "### 1.2 Mathematical operations\n",
    "Python, by default, can do basic mathematical operations like addition, multiplication, etc. Here we present a few examples. Please visit [this](https://www.tutorialspoint.com/python/python_basic_operators.htm) document for further details and more examples."
   ]
  },
  {
   "cell_type": "code",
   "execution_count": 38,
   "id": "6c935b17",
   "metadata": {},
   "outputs": [
    {
     "name": "stdout",
     "output_type": "stream",
     "text": [
      "The sum of a and b is  15.5\n",
      "The sum of c and d is  whatever dude\n",
      "\n",
      "a-b = 4.5\n",
      "\n",
      "a*b = 55.0\n",
      "\n",
      "Division can be done in two ways- a/b that gives 10/5.5 =  1.8181818181818181\n",
      "or a//b that gives  1.0\n"
     ]
    }
   ],
   "source": [
    "print('The sum of a and b is ',a+b)\n",
    "print('The sum of c and d is ',c+' '+d) # yes, the strings can be added too\n",
    "# print(a+c) would not work because one is 'int' and the other is 'string'\n",
    "\n",
    "diff_ab = a-b # creating a new variable and assigning it a value\n",
    "prod_ab = a*b\n",
    "\n",
    "print(f'\\na-b = {diff_ab}') # \\n is to introduce a newline \n",
    "print(f'\\na*b = {prod_ab}')\n",
    "print(f'\\nDivision can be done in two ways- a/b that gives {a}/{b} = ',a/b) # gives the exact answer\n",
    "print('or a//b that gives ',a//b) # integer division is done by '//'. It returns the smaller integer number\n",
    "                                   # e.g. 5//2=2.0"
   ]
  },
  {
   "cell_type": "markdown",
   "id": "ca0dd4d8",
   "metadata": {},
   "source": [
    "### 1.3 List\n",
    "List is an important part of the python data-structures. Lists are dynamic, which means that their size can be changed and their elements can also be changed. There is a lot that can be done to and with a list. We recommend going through [this](https://docs.python.org/3/tutorial/datastructures.html) webpage to get familiar with the things that can be done to and with a list. Please also read about tuples and how they differ from lists. "
   ]
  },
  {
   "cell_type": "code",
   "execution_count": 3,
   "id": "7710fa20",
   "metadata": {},
   "outputs": [
    {
     "name": "stdout",
     "output_type": "stream",
     "text": [
      "[1, 3, 5.6, 'animal', '234', 2]\n",
      "1\n",
      "3\n",
      "5.6\n",
      "animal\n",
      "234\n",
      "2\n",
      "\n",
      " ['another', 1, 'coz', 'y not', 23, 6.5]\n",
      "[1, 3, 5.6, 'animal', '234', 2, 'another', 1, 'coz', 'y not', 23, 6.5]\n",
      "\n",
      " [1, 3, 5.6, 'animal', '234', 2, 'this is a new element']\n",
      "[1, 3, 5.6, 'animal', '234', 2]\n"
     ]
    }
   ],
   "source": [
    "list1 = [1,3,5.6,'animal','234',2]\n",
    "nlist1 = len(list1)\n",
    "print(list1)\n",
    "\n",
    "# using a for loop\n",
    "for i in range(nlist1):\n",
    "    print(list1[i])\n",
    "    \n",
    "list2 = ['another',1,'coz','y not',23, 6.5]\n",
    "print('\\n',list2)\n",
    "\n",
    "# lists can be added- the output is a concatenated list (not the sum of the elements)\n",
    "long_list = list1+list2\n",
    "print(long_list)\n",
    "\n",
    "# the list size can be changed by appending or popping out elements\n",
    "list1.append('this is a new element')\n",
    "print('\\n',list1)\n",
    "list1.pop() # pop() removes the last element of the list\n",
    "print(list1)\n",
    "# for more functions applicable to lists, please visit the webpage linked above"
   ]
  },
  {
   "cell_type": "markdown",
   "id": "884e2593",
   "metadata": {},
   "source": [
    "### 1.4 Boolean operations\n",
    "Boolean result can either be True or False. True and False have numeric values 1 and 0, respectively, i.e., True == 1 and False == 0. <br>\n",
    "'and', 'or', 'not', and comparison operators (<, >, ==, !=, <=, >=) fall under boolean operators. 'not' operator requires only one argument and it simply negates the result. For instance, not Ture == False. 'and' and 'or' require two arguments. The output of 'and' is True if both arguments are true. The output of 'or' is True if one of the arguments is true. The comparison operators hold straightforward mathematical meaning. We present some examples to make it clear."
   ]
  },
  {
   "cell_type": "code",
   "execution_count": 31,
   "id": "b373e5b3",
   "metadata": {},
   "outputs": [
    {
     "name": "stdout",
     "output_type": "stream",
     "text": [
      "False\n",
      "True\n",
      "False\n",
      "False\n",
      "True\n",
      "\n",
      "True\n",
      "False\n",
      "True\n",
      "False\n",
      "\n",
      "True\n",
      "False\n",
      "\n",
      "1.0 1\n",
      "0.0\n"
     ]
    }
   ],
   "source": [
    "print(1 == 2)\n",
    "print(1 != 2)\n",
    "print(1 > 2)\n",
    "print(1 >= 2)\n",
    "print(1 <= 2)\n",
    "\n",
    "print()\n",
    "print(True or False)\n",
    "print(True and False)\n",
    "print(True and True)\n",
    "print(False or False)\n",
    "\n",
    "print()\n",
    "print(1 <= 2 or 1 == 2) # first argument is True but the second is False\n",
    "print(1 <= 2 and 1 >= 2) # first argument is True but the second is False\n",
    "\n",
    "print()\n",
    "print(True*1.0, True*1) # we can convert True and False to float and integer\n",
    "print(False*1.0)"
   ]
  },
  {
   "cell_type": "markdown",
   "id": "fba0e0c8",
   "metadata": {},
   "source": [
    "### 1.5 if-else conditions and loops\n",
    "The simple examples below demonstrate how if-else conditions and loops (while and for) can be used. With each if-else condition, multiple conditions used. For instance, 'if condition1 or condition2 and condition3: '. In this example, if either of the first two conditions is true and the third one is also true, then the statements inside 'if' will be executed."
   ]
  },
  {
   "cell_type": "code",
   "execution_count": 4,
   "id": "3dbcbc4a",
   "metadata": {},
   "outputs": [
    {
     "name": "stdout",
     "output_type": "stream",
     "text": [
      "a is greater than b\n",
      "none!\n",
      "\n",
      "6.5\n",
      "7.5\n",
      "8.5\n",
      "9.5\n",
      "10.5\n",
      "\n",
      "6.5\n",
      "7.5\n",
      "8.5\n",
      "9.5\n",
      "10.5\n",
      "\n",
      "6.5\n",
      "7.5\n",
      "8.5\n",
      "9.5\n",
      "10.5\n",
      "\n",
      "6.5\n",
      "7.5\n",
      "8.5\n",
      "9.5\n",
      "10.5\n"
     ]
    }
   ],
   "source": [
    "a = 10\n",
    "b = 5.5\n",
    "\n",
    "# first example\n",
    "if a > b:\n",
    "    print('a is greater than b')\n",
    "else:\n",
    "    print('nevermind!')\n",
    "\n",
    "# second example\n",
    "if a <= b or a == b:\n",
    "    print('a is greater than b')\n",
    "elif a != b and a < b:\n",
    "    print('b is not equal to a')\n",
    "else: \n",
    "    print('none!')\n",
    "    \n",
    "print()\n",
    "\n",
    "# while loop\n",
    "while b < a:\n",
    "    b = b + 1\n",
    "    print(b)\n",
    "\n",
    "# same can be done using a 'for' loop but we will need to either specify the number of iterations \n",
    "# or use an 'if' condition\n",
    "b = 5.5\n",
    "print()\n",
    "for i in range(5): # we should know the number of required iterations beforehand\n",
    "    b = b + 1\n",
    "    print(b)\n",
    "    \n",
    "b = 5.5\n",
    "print()\n",
    "for i in range(100): # we can provide a large enough number of iterations and use an 'if' condition\n",
    "    if b < a:\n",
    "        b = b + 1\n",
    "        print(b)\n",
    "        \n",
    "b = 5.5\n",
    "print()\n",
    "for i in range(100): # we can provide an arbitarily large number of iterations and use an 'if-else' condition\n",
    "    if b < a:\n",
    "        b = b + 1\n",
    "        print(b)\n",
    "    else:\n",
    "        break\n",
    "\n",
    "# Note that the above two 'for' loops will run a different numbers of iterations. The loop with just the 'if' \n",
    "# condition will run 100 iterations, while the one with 'if-else' will break when b > a (after 5 iterations). \n"
   ]
  },
  {
   "cell_type": "markdown",
   "id": "a05a2f20",
   "metadata": {},
   "source": [
    "### 1.6 Functions\n",
    "Writing functions in python is simple! We use the keyword 'def' before the function name and put '():' at the end. For example, 'def func_name(parameters):'. The 'parameters' in the function definition are called 'arguments' when calling the function and passing the values for the parameters. Hopefully, it will be clear from the examples below. \n",
    "Inside a function, we can manipulate the values of the arguments, create new variables, run loops, etc. If we want an output from a function, we need to use 'return variable_name1, variable_name2, ..., variable_nameN' at the end of the function. Thus, we can have as many output variables returned from the fucntions as we need and they can be of any datatype. We can also write functions without return, e.g., if we just want to print something. A few examples are provided below. \n",
    "<br>A lot of useful information on python fucntions is available on [Programiz](https://www.programiz.com/python-programming/function), [w3schools](https://www.w3schools.com/python/python_functions.asp), and [GeeksofGeeks](https://www.geeksforgeeks.org/python-functions/). All the three sources are great. Please follow the one you like better.\n",
    "<br>We strongly suggest that you practice writing functions because it is something you will do all the time in computational physics course and also in your own research."
   ]
  },
  {
   "cell_type": "code",
   "execution_count": 1,
   "id": "b44e6328",
   "metadata": {},
   "outputs": [
    {
     "name": "stdout",
     "output_type": "stream",
     "text": [
      "Lists provided:  [1, 3, 5.6, 'animal', '234', 2]  and  ['another', 1, 'coz', 'y not', 23, 6.5]\n",
      "The combination of the two is  [1, 3, 5.6, 'animal', '234', 2, 'another', 1, 'coz', 'y not', 23, 6.5]\n",
      "\n",
      "List provided:  [1, 3, 5.6, 'animal', '234', 2]  and the list added is  ['another', 1, 'coz', 'y not', 23, 6.5]\n",
      "The combination of the two is  [1, 3, 5.6, 'animal', '234', 2, 'another', 1, 'coz', 'y not', 23, 6.5]\n",
      "\n",
      "The returned variables are in individual output variables [1, 3, 5.6, 'animal', '234', 2, 'another', 1, 'coz', 'y not', 23, 6.5] [1, 3, 5.6, 'animal', '234', 2] ['another', 1, 'coz', 'y not', 23, 6.5]\n",
      "\n",
      "The returned variables are in a tuple ([1, 3, 5.6, 'animal', '234', 2, 'another', 1, 'coz', 'y not', 23, 6.5], [1, 3, 5.6, 'animal', '234', 2], ['another', 1, 'coz', 'y not', 23, 6.5])\n"
     ]
    }
   ],
   "source": [
    "# a function that adds two lists and prints the output without a return value and parameters\n",
    "def print_list():\n",
    "    list1 = [1,3,5.6,'animal','234',2]\n",
    "    list2 = ['another',1,'coz','y not',23, 6.5]\n",
    "    long_list = list1+list2\n",
    "    print('Lists provided: ',list1,' and ',list2)\n",
    "    print('The combination of the two is ',long_list)\n",
    "    \n",
    "# note that defining a function does not execute it. To run it, we need to call it\n",
    "print_list() # this is how we can make a funciton run by calling it\n",
    "\n",
    "# we could define another function that does the exact same thing as above but takes one parameter (we can also \n",
    "# provide it two, if we like)\n",
    "print()\n",
    "def print_list_withArg(list_input):\n",
    "    list2 = ['another',1,'coz','y not',23, 6.5]\n",
    "    long_list = list_input+list2\n",
    "    print('List provided: ',list_input,' and the list added is ',list2)\n",
    "    print('The combination of the two is ',long_list)\n",
    "    \n",
    "# this time, we need to provide the argument to the function to run it (when we call it)\n",
    "list1 = [1,3,5.6,'animal','234',2] # the list we will pass to the function\n",
    "print_list_withArg(list1) # notice that the parameter name in the function definition has nothing to do with the \n",
    "                          # argument name initialized outside the function.\n",
    "#   **** In the above example, 'list_input' is the function parameter, while 'list1' is the function argument ****\n",
    "\n",
    "# we could define another function that does the exact same thing as above but takes two parameters and returns \n",
    "# three outputs\n",
    "def print_list_withArg_output(list_input1, list2):\n",
    "    long_list = list_input1+list2\n",
    "    return long_list, list_input1, list2\n",
    "    \n",
    "list1 = [1,3,5.6,'animal','234',2]\n",
    "list2 = ['another',1,'coz','y not',23, 6.5]\n",
    " \n",
    "output1, output2, output3 = print_list_withArg_output(list1, list2) # this puts the output in separate variables\n",
    "print('\\nThe returned variables are in individual output variables',output1, output2, output3)\n",
    "function_outputs = print_list_withArg_output(list1, list2) # this puts the three outputs in a tuple\n",
    "print('\\nThe returned variables are in a tuple',function_outputs)"
   ]
  },
  {
   "cell_type": "markdown",
   "id": "04108efa",
   "metadata": {},
   "source": [
    "### Problems\n",
    "1. Create a list of elements of your choice (different data-types) and print the elements one by one if the datatype is 'str' using first a for loop and then a while loop. <br>\n",
    "2. Create two lists (list1 and list2) of numbers- one from 1 to 10 with a spacing of 1 and the other from 2 to 20 with a spacing of 2. Obtain the element-wise sum of list1 and list2, i.e., list1[0]+list2[0], and so on if the i-th element of the list1 is greater than 5. Otherwise, calculate the element wise difference, i.e., list1[0]-list2[0]. <br>\n",
    "4. (Optional) Write a function that takes two parameters, prints them, and returns their sum, difference, product, and whether the numbers are prime or not. Test it by calling it with parameters 23 and 1000. Print your answers (returned variables) outside the function. <br>"
   ]
  },
  {
   "cell_type": "markdown",
   "id": "7e2a4405",
   "metadata": {},
   "source": [
    "## Section 2:  Numpy\n",
    "Numpy stands for numerical python. It provides most of the functionalies required for numerical or statistical computing. Our numerical methos / computational physics course will require us to use this library all the time. There is extensive documentation on numpy data-structures and functions functions. For more on why we need numpy, please visit this [webpage](https://numpy.org/doc/stable/user/whatisnumpy.html). The basics of numpy can be found [here](https://numpy.org/doc/stable/user/absolute_beginners.html) and [there](https://numpy.org/doc/stable/user/quickstart.html). It is easy to get started with numpy. We will go over how to load it in our codes and how to call functions and learn about some array and matrix operations needed for the computational physics course. We suggest going through [numpy fundamentals](https://numpy.org/doc/stable/user/basics.html) online for an extensive documentation. It is not possible to remember all the data types, structures, or functions that numpy offers. Therefore, one has to refer to numpy's official documentation or look for answers on google. Both are great! You may use this link for quick [reference](https://numpy.org/doc/stable/reference/index.html#reference). There are many more sources to learn numpy- they all introduce numpy functions, etc. in their own style- one may work better than the other for you, e.g., [GeeksforGeeks](https://www.geeksforgeeks.org/python-numpy/) and \n",
    "[w3schools](https://www.w3schools.com/python/numpy/numpy_intro.asp). \n",
    "<br>In particular, we will use numpy to generate arrays and matrices, carry out array and matrix operations, generate random numbers, and more.\n",
    "\n",
    "### 2.1 Importing numpy and generating numpy arrays\n",
    "Numpy arrays are fixed in size. It means that if an array is initialized with N elements, its size and shape can not be changed, while the values of the elements can be changed. We can have 1D, 2D, and higher dimensional arrays but we will stick to 1D and 2D.\n"
   ]
  },
  {
   "cell_type": "code",
   "execution_count": 6,
   "id": "57531347",
   "metadata": {},
   "outputs": [
    {
     "name": "stdout",
     "output_type": "stream",
     "text": [
      "[1 2 3 5 6]\n",
      "[1 2 3 5 6]\n",
      "<class 'numpy.ndarray'> <class 'numpy.ndarray'>\n",
      "------------------------------------\n",
      "Array with np.arange()  [1.  1.5 2.  2.5 3.  3.5 4.  4.5 5.  5.5 6.  6.5 7.  7.5 8.  8.5 9.  9.5]\n",
      "\n",
      "Array with np.linspace()  [ 1.          1.47368421  1.94736842  2.42105263  2.89473684  3.36842105\n",
      "  3.84210526  4.31578947  4.78947368  5.26315789  5.73684211  6.21052632\n",
      "  6.68421053  7.15789474  7.63157895  8.10526316  8.57894737  9.05263158\n",
      "  9.52631579 10.        ]\n",
      "------------------------------------\n",
      "The shape of the 2D arrays is  (2, 3)\n",
      "[[1.  2.7 3. ]\n",
      " [4.  5.  6. ]]\n",
      "------------------------------------\n",
      "The shape of the 2D arrays is  (2, 3)\n",
      "The type of the 2D arrays is  <class 'numpy.ndarray'>\n",
      "[[1.  2.7 3. ]\n",
      " [4.  5.  6. ]]\n"
     ]
    }
   ],
   "source": [
    "# we need to first include/import the numpy library in python. We can do that by using 'import'. To give it a \n",
    "# shorter name, we can use 'as' as follows \n",
    "import numpy as np # now one can call any numpy function using np.func_name(parameters)\n",
    "\n",
    "# we can also import all the numpy functions at once, so that we will not have to use np.func_name(parameters). \n",
    "# Instead, func_name(parameters) will be sufficient. We can do it as follows\n",
    "from numpy import *\n",
    "\n",
    "# creating a numpy array from a list (all elements of the list must be numeric)\n",
    "list1 = [1,2,3,5,6]\n",
    "array1 = np.array(list1)\n",
    "print(array1)\n",
    "\n",
    "# another way to do the same as above\n",
    "array2 = np.array([1,2,3,5,6])\n",
    "print(array2)\n",
    "print(type(array1),type(array2)) # all numpy arrays are of type ndarray (n-dimensional array)\n",
    "\n",
    "# we can also use np.arange() and np.linspace() to generate arrays of desired spacing and size, respectively\n",
    "array3 = np.arange(1,10,0.5)#this will create an array of elements from 1 to 10 with a spacing of 0.5 (10 excluded)\n",
    "array4 = np.linspace(1,10,20) # this will create an array with 20 elements from 1 to 10 with equal spacing\n",
    "print('------------------------------------')\n",
    "print('Array with np.arange() ',array3)\n",
    "print('\\nArray with np.linspace() ',array4)\n",
    "\n",
    "##----------- 2-D arrays -----------#\n",
    "\n",
    "# using two lists (lists must be of same size, i.e., same number of elements)\n",
    "print('------------------------------------')\n",
    "list1 = [1,2.7,3]\n",
    "list2 = [4.0,5,6]\n",
    "array2d = np.array([list1,list2])\n",
    "print('The shape of the 2D arrays is ',array2d.shape)\n",
    "print(array2d)\n",
    "\n",
    "# the same can be done directly without lists\n",
    "print('------------------------------------')\n",
    "array2d = np.array([[1,2.7,3],[4.0,5,6]])\n",
    "print('The shape of the 2D arrays is ',array2d.shape)\n",
    "print('The type of the 2D arrays is ',type(array2d)) # 2-D arrays are also ndarray type\n",
    "print(array2d)"
   ]
  },
  {
   "cell_type": "markdown",
   "id": "4eef3d18",
   "metadata": {},
   "source": [
    "### 2.2 Numpy array slicing\n",
    "Many a times we only need a part of the array for calculations. Here we will see how to access specific elements or sections of the arrays. We should remember that the element indexing in python begins at 0. This means that the first element of an array is at index 0. When slicing an array using 'array[m:n]', the slice picks up elements from index m to n-1."
   ]
  },
  {
   "cell_type": "code",
   "execution_count": 9,
   "id": "0f223c31",
   "metadata": {},
   "outputs": [
    {
     "name": "stdout",
     "output_type": "stream",
     "text": [
      "[0 1 2 3 4 5 6 7 8]\n",
      "[3 4 5 6 7]\n",
      "5\n",
      "------------------------------------\n",
      "[[1 2 3 4]\n",
      " [5 6 7 8]]\n",
      "8\n",
      "------------------------------------\n",
      "2nd row of arr2d =  [5 6 7 8]\n",
      "3rd col of arr2d =  [3 7]\n"
     ]
    }
   ],
   "source": [
    "arr = np.arange(0,9) # when spacing is not specified, numpy assumes it to be 1\n",
    "element1 = arr[5] # putting the 5th element of the array in element1\n",
    "arr_slice = arr[3:8] # picking up element at index 3 to the one at 7 in the slice\n",
    "print(arr)\n",
    "print(arr_slice)\n",
    "print(element1)\n",
    "\n",
    "# to access elements of 2D arrays, we need to provide to indices array[row_index,column_index]\n",
    "arr2d = np.arange(1,9).reshape(2,4) # .reshape(m,n) converts a 1D array to a 2D array with m rows and n columns\n",
    "print('------------------------------------')\n",
    "print(arr2d)\n",
    "print(arr2d[1,3]) # prints the element in 2nd row (row index 1) and 4th column (column index 3)\n",
    "\n",
    "# we can also access specific rows or columns\n",
    "row = arr2d[1,:] # picks up all columns of 2nd row\n",
    "col = arr2d[:,2] # picks up all rows of 3rd column\n",
    "print('------------------------------------')\n",
    "print('2nd row of arr2d = ',row)\n",
    "print('3rd col of arr2d = ',col)"
   ]
  },
  {
   "cell_type": "markdown",
   "id": "f95d0d92",
   "metadata": {},
   "source": [
    "### 2.3 Numpy operations\n",
    "if a scalar is added to, subtracted from, multiplied by, or divided by an array, then all elements of the array undergo that operation. One can call it element-wise operation. If two arrays of equal size are added to, subtracted from, multiplied by, or divided by each other, element-wise operation occurs. Raising an array to a power also performs element-wise operation by raising every element to that power. It works for multi-dimensional arrays as well. Some examples below will make it easier to understand. "
   ]
  },
  {
   "cell_type": "code",
   "execution_count": 13,
   "id": "22f6bac0",
   "metadata": {},
   "outputs": [
    {
     "name": "stdout",
     "output_type": "stream",
     "text": [
      "Original array =  [0 1 2 3 4 5 6 7 8]\n",
      "a scalar (=10) added to the original array (arr+a) =  [10 11 12 13 14 15 16 17 18]\n",
      "a scalar subtracted from the original array (arr-a) =  [-10  -9  -8  -7  -6  -5  -4  -3  -2]\n",
      "Original array divided by a scalar (arr/a) =  [0.  0.1 0.2 0.3 0.4 0.5 0.6 0.7 0.8]\n",
      "Original array multiplied by a scalar (arr*a) =  [ 0 10 20 30 40 50 60 70 80]\n",
      "Original array raised to power 4 (arr**4) =  [   0    1   16   81  256  625 1296 2401 4096]\n",
      "------------------------------------\n",
      "Original arrays = [0 1 2 3 4 5 6 7 8] and [1 2 3 4 5 6 7 8 9]\n",
      "sum of the two arrays (arr+arr2) =  [ 1  3  5  7  9 11 13 15 17]\n",
      "subtracting the second array from the first (arr-arr2) =  [-1 -1 -1 -1 -1 -1 -1 -1 -1]\n",
      "dividinjg the first array by the second (arr/arr2) =  [0.         0.5        0.66666667 0.75       0.8        0.83333333\n",
      " 0.85714286 0.875      0.88888889]\n",
      "product of the two arrays (arr*arr2) =  [ 0  2  6 12 20 30 42 56 72]\n",
      "First array raised to the second (arr**arr2) =  [        0         1         8        81      1024     15625    279936\n",
      "   5764801 134217728]\n",
      "------------------------------------\n"
     ]
    }
   ],
   "source": [
    "arr = np.arange(0,9)\n",
    "a = 10\n",
    "\n",
    "# arrays with scalars\n",
    "print('Original array = ',arr)\n",
    "print('a scalar (=10) added to the original array (arr+a) = ',arr+a)\n",
    "print('a scalar subtracted from the original array (arr-a) = ',arr-a)\n",
    "print('Original array divided by a scalar (arr/a) = ',arr/a)\n",
    "print('Original array multiplied by a scalar (arr*a) = ',arr*a)\n",
    "print('Original array raised to power 4 (arr**4) = ',arr**4)\n",
    "print('------------------------------------')\n",
    "\n",
    "# arrays with arrays\n",
    "arr2 = np.arange(1,10) \n",
    "print(f'Original arrays = {arr} and {arr2}')\n",
    "print('sum of the two arrays (arr+arr2) = ',arr+arr2)\n",
    "print('subtracting the second array from the first (arr-arr2) = ',arr-arr2)\n",
    "print('dividinjg the first array by the second (arr/arr2) = ',arr/arr2)\n",
    "print('product of the two arrays (arr*arr2) = ',arr*arr2)\n",
    "print('First array raised to the second (arr**arr2) = ',arr**arr2)\n",
    "print('------------------------------------')"
   ]
  },
  {
   "cell_type": "markdown",
   "id": "6e29fd89",
   "metadata": {},
   "source": [
    "### 2.4 Loading and saving data files with numpy\n",
    "A variety of file formats can be read and saved by numpy. We will go through two of the numpy functions that allow us to do that- [np.loadtxt()](https://numpy.org/doc/stable/reference/generated/numpy.loadtxt.html) and [np.savetxt()](https://numpy.org/doc/stable/reference/generated/numpy.savetxt.html). Clicking on these links will take you the documentation of the two functions. \n",
    "<br> If a data file exists in th edirectory that your current code is in, we can simply type the filename in np.loadtxt(filename). If the file is in some other directory, we need to specify the path along with the filename. np.savetxt() requires a filename (if the file does not already exist, the function automatically generates it) in which the data needs to be saved, the data itself, and formatting, if any. The example below demonstrates how to use these two functions. There is a lot more that numpy offers related to files. Please take help of the internet, there are many good sources to learn from. "
   ]
  },
  {
   "cell_type": "code",
   "execution_count": 12,
   "id": "0f94ea28",
   "metadata": {},
   "outputs": [
    {
     "data": {
      "text/plain": [
       "array([[-7.601,  2.538,  7.   , -9.   ,  3.   ],\n",
       "       [ 6.257,  0.63 , -8.   ,  2.   ,  7.   ],\n",
       "       [-9.515,  6.261, -9.   , -2.   , -7.   ],\n",
       "       [ 9.379, -8.956,  9.   , -3.   , -3.   ],\n",
       "       [-1.811, -8.534,  6.   , -4.   ,  1.   ],\n",
       "       [ 5.768, -7.918, -1.   ,  2.   , -3.   ],\n",
       "       [ 3.849, -5.143,  0.   , -7.   ,  7.   ],\n",
       "       [ 4.923,  5.787, -7.   ,  4.   ,  3.   ],\n",
       "       [-8.541,  7.497, -3.   , -1.   ,  0.   ],\n",
       "       [ 9.208,  7.796, -1.   ,  7.   ,  0.   ],\n",
       "       [-3.114, -7.385, -5.   , -3.   ,  1.   ],\n",
       "       [-0.908,  5.117, -5.   ,  6.   ,  6.   ],\n",
       "       [ 0.397,  6.547, -3.   ,  0.   ,  9.   ],\n",
       "       [ 0.607, -5.307,  4.   ,  0.   ,  9.   ],\n",
       "       [-3.518,  1.78 ,  9.   ,  7.   ,  0.   ],\n",
       "       [ 4.938,  5.343,  5.   ,  3.   , -1.   ],\n",
       "       [ 6.174,  9.611, -8.   ,  8.   ,  9.   ],\n",
       "       [-7.152, -6.624, -2.   ,  9.   ,  6.   ],\n",
       "       [-1.418,  4.387,  4.   , -5.   , -8.   ],\n",
       "       [ 3.933,  1.492, -6.   , -1.   , -9.   ]])"
      ]
     },
     "execution_count": 12,
     "metadata": {},
     "output_type": "execute_result"
    }
   ],
   "source": [
    "import numpy as np\n",
    "\n",
    "X = np.random.uniform(-10,10,size=[20,5]) # the data that we would like to save in a file\n",
    "\n",
    "np.savetxt('NewFIle.dat',X,fmt='%.3f    %.3f    %d    %d    %d') # this way we can store the X data in \n",
    "                                                                 # the NewFile with specified format-\n",
    "                                                                 # first two columns upto 3 decimal places\n",
    "                                                                 # and the last three columns as integers\n",
    "\n",
    "data = np.loadtxt('NewFIle.dat') #  puts the data from the file into the variable 'data'\n",
    "data # prints the loaded data"
   ]
  },
  {
   "cell_type": "markdown",
   "id": "ee0f372d",
   "metadata": {},
   "source": [
    "### 2.5 Numpy functions\n",
    "There is a huge set of functions available in numpy- almost everything we will need for numerical computaing. In this section, we will work on an exercise instead of going through examples since the best way to become an expert is to do it ourselves. The aim is to give you a hands on expeience with numpy so that you become comfortable using it anytime you need it.\n",
    "All the functions can be called by their names and using 'np.' before them if you imported numpy as np. It is advisable to always google the function name and examples whenever you have to use one. It allows you to know what parameters a given function takes and what outputs it generates. \n",
    "\n",
    "### Exercise\n",
    "1. Search for numpy functions that allow you to calculate the sum, mean, standard deviation, maximum value, and minimum value of an array. Find the functions that allow you to insert, delete, and remove the elements from an array. Also find the functions that can be used to directly and indirectly sort arrays (the two are different!). Please familiarize yourselves with what parameters the functions need. \n",
    "\n",
    "2. Go to [GeeksforGeeks](https://www.geeksforgeeks.org/python-numpy/) or \n",
    "[w3schools](https://www.w3schools.com/python/numpy/numpy_intro.asp) to learn how to generate 1D and 2D arrays of random numbers with uniform, exponential, and normal distribution. Generate three arrays of 1000 elements, one for each distribution, and calculate their mean and variance.\n",
    "\n",
    "3. Search for functions that perform dot and cross products. Also look for functions that perform matrix multiplication. For two 2D arrays, do the functions for dot product and the matrix multiplication give the same result? Is there any difference between the two?\n",
    "\n",
    "4. (Optional) Write a function that takes two paramters, generates a matrix (or a 2D array) of size 10 by 10, with elements from a normal distribution with mean = parameter1 and standard deviation = parameter2. Change the elements of the array by multiplying the array by 100 and rounding the elements to the lower integer. Generate a second 10 by 10 array of ones and chnage its elements to 0 if the corresponding elements in the first array are below its mean value. Print both arrays and perform a matrix multiplication of the two. Also calculate the mean and standard deviation of the resultant matrix. Return the results."
   ]
  },
  {
   "cell_type": "markdown",
   "id": "11709fb2",
   "metadata": {},
   "source": [
    "## Section 3: Scipy\n",
    "Scipy is another library often used for scientific computing. It is built on numpy and extends numpy to more functions and better accuracy in some cases. Scipy [user guide](https://docs.scipy.org/doc/scipy/tutorial/index.html#user-guide) provides a list of subpackages in scipy. Some of the subpackages useful for us are linalg, stats, special, fftpack, integrate, and interpolate. Please go to the user guide and get acquanted with the functions included in the aforementioned subpackages. We can import any package (library) just as we did numpy. \n",
    "We will learn more about scipy with some examples and exercises. \n",
    "\n",
    "### 3.1 Integration using scipy\n",
    "Scipy allows us to integrate multi-dimensional functions. We will see examples from 1 and 2D only to understand how it can be used. The example below uses the Gaussian quadrature function for integration (you will get to learn about it in computational physics course). There are many other functions that one can use. Please visit the Scipy [documentation](https://docs.scipy.org/doc/scipy/reference/integrate.html) for more."
   ]
  },
  {
   "cell_type": "code",
   "execution_count": 3,
   "id": "e168d4fd",
   "metadata": {},
   "outputs": [
    {
     "name": "stdout",
     "output_type": "stream",
     "text": [
      "(10.499999998969422, 7.508310907760955e-08)\n",
      "(10.499999998969422, 7.508310907760955e-08)\n"
     ]
    }
   ],
   "source": [
    "import numpy as np\n",
    "from scipy import integrate\n",
    "\n",
    "# the 1D function that we would like to integrate\n",
    "def func1D(x):\n",
    "    return np.exp(-2*x) + p\n",
    "\n",
    "p = 1\n",
    "result1D = integrate.quad(func=func1D,a=0,b=10) # returns the integral value and the error\n",
    "print(result1D) # prints the integral and the error\n",
    "\n",
    "# the 1D function with other variables\n",
    "def func1D(x,p,q):\n",
    "    return np.exp(-2*x) + p + q\n",
    "\n",
    "p = 1\n",
    "q = 0\n",
    "result1D = integrate.quad(func=func1D,a=0,b=10,args=(p,q,)) # if a function requires other parameters, those \n",
    "                                                            # should be passed using 'args' parameter\n",
    "print(result1D) # prints the integral and the error"
   ]
  },
  {
   "cell_type": "markdown",
   "id": "9f0ae8b4",
   "metadata": {},
   "source": [
    "Next, we integrate $\\int_0^{10} \\int_1^2 (e^{-2x} + p^2 + qy) dy dx$. The limit from 1 to 2 is on y-variable and the other is on x. "
   ]
  },
  {
   "cell_type": "code",
   "execution_count": 5,
   "id": "7847338c",
   "metadata": {},
   "outputs": [
    {
     "name": "stdout",
     "output_type": "stream",
     "text": [
      "(40.499999998969415, 7.508310302370994e-08)\n"
     ]
    }
   ],
   "source": [
    "# the 2D function that we would like to integrate\n",
    "def func2D(y,x,p,q):\n",
    "    return np.exp(-2*x) + p**2 + q*y\n",
    "\n",
    "p = 1\n",
    "q = 2\n",
    "\n",
    "result2D = integrate.dblquad(func=func2D,a=0,b=10,gfun=1,hfun=2,args=(p,q,))\n",
    "print(result2D) "
   ]
  },
  {
   "cell_type": "code",
   "execution_count": null,
   "id": "2366adbe",
   "metadata": {},
   "outputs": [],
   "source": []
  },
  {
   "cell_type": "markdown",
   "id": "64e7f8b1",
   "metadata": {},
   "source": [
    "## Section 4: Pandas\n",
    "Pandas is used mainly for data visualilzation, manipulation, and analysis. It is far more powerful and convinient than ms excel for similar tasks. It can load data files of almost all formats and generate a series or a dataframe. A dataframe is simply a representation of tabular data. It is 2D (has rows and columns) and all elements, including complete rows and columns can be manipulated, e.g., deleted, added, imputed, visualized, extracted, etc. We will go over the most basic functionalities offered by pandas. A great source of information on pandas and its capabilities are given on its official [website](https://pandas.pydata.org/docs/user_guide/index.html). \n",
    "\n",
    "### 4.1 Series\n",
    "A series is like a numpy array but a numpy array can't have elements of different datatype while  aseries can. Many statistical methods can be applied to series. Here is an example."
   ]
  },
  {
   "cell_type": "code",
   "execution_count": 21,
   "id": "4325f03c",
   "metadata": {},
   "outputs": [
    {
     "name": "stdout",
     "output_type": "stream",
     "text": [
      "2201.307163110401 4009.3119454495522 3642.7050615310563\n",
      "\n",
      " count       5.000000\n",
      "mean     4009.311945\n",
      "std      3642.705062\n",
      "min       576.577411\n",
      "25%      1757.371082\n",
      "50%      2201.307163\n",
      "75%      6193.076088\n",
      "max      9318.227983\n",
      "Name: Checking Account, dtype: float64\n",
      "\n",
      " count          6\n",
      "unique         6\n",
      "top       animal\n",
      "freq           1\n",
      "dtype: object\n"
     ]
    }
   ],
   "source": [
    "import pandas as pd\n",
    "import numpy as np\n",
    "\n",
    "# numpy array of uniform random numbers on the unit interval\n",
    "list1 = [1,3,5.6,'animal','234',2]\n",
    "arr = 10000*np.random.rand(5)\n",
    "\n",
    "# panda series from numpy array\n",
    "s1 = pd.Series(arr)\n",
    "# pandas series from list\n",
    "s2 = pd.Series(list1)\n",
    "\n",
    "# we can assign a name to the list and change the indices of the data (from 0,1,... to whatever we like)\n",
    "s1.name = \"Checking Account\"\n",
    "s1.index = [\"Jack\", \"Charles\", \"Charlotte\", \"Matt\", \"John\"]\n",
    "\n",
    "# for series that contains only numeric data, we can get some statistics\n",
    "print(s1.median(),s1.mean(),s1.std())\n",
    "\n",
    "# overview (describe() function can us basic info of the data in the series)\n",
    "print('\\n',s1.describe())\n",
    "print('\\n',s2.describe())"
   ]
  },
  {
   "cell_type": "markdown",
   "id": "fab62f4a",
   "metadata": {},
   "source": [
    "### 4.2 Dataframe\n",
    "\n",
    "Generating a dataframe with raw data"
   ]
  },
  {
   "cell_type": "code",
   "execution_count": 23,
   "id": "506064cb",
   "metadata": {},
   "outputs": [
    {
     "name": "stdout",
     "output_type": "stream",
     "text": [
      "<class 'pandas.core.frame.DataFrame'>\n",
      "           Population  Country\n",
      "Stockholm      909976   Sweden\n",
      "London        8615246       UK\n",
      "Rome          2872086    Italy\n",
      "Berlin        3769000  Germany\n"
     ]
    }
   ],
   "source": [
    "frame1 = pd.DataFrame([[909976,\"Sweden\"],\n",
    "                     [8615246,\"UK\"],\n",
    "                     [2872086,\"Italy\"],\n",
    "                     [3769000,\"Germany\"]],\n",
    "                    index=[\"Stockholm\",\"London\",\"Rome\",\"Berlin\"],\n",
    "                    columns = [\"Population\", \"Country\"])\n",
    "print(type(frame1))\n",
    "frame1 # prints the dataframe"
   ]
  },
  {
   "cell_type": "markdown",
   "id": "5ab31d8c",
   "metadata": {},
   "source": [
    "We can also generate a dataframe from a 2D numpy array"
   ]
  },
  {
   "cell_type": "code",
   "execution_count": 27,
   "id": "fc1e1edf",
   "metadata": {},
   "outputs": [
    {
     "data": {
      "text/html": [
       "<div>\n",
       "<style scoped>\n",
       "    .dataframe tbody tr th:only-of-type {\n",
       "        vertical-align: middle;\n",
       "    }\n",
       "\n",
       "    .dataframe tbody tr th {\n",
       "        vertical-align: top;\n",
       "    }\n",
       "\n",
       "    .dataframe thead th {\n",
       "        text-align: right;\n",
       "    }\n",
       "</style>\n",
       "<table border=\"1\" class=\"dataframe\">\n",
       "  <thead>\n",
       "    <tr style=\"text-align: right;\">\n",
       "      <th></th>\n",
       "      <th>0</th>\n",
       "      <th>1</th>\n",
       "      <th>2</th>\n",
       "    </tr>\n",
       "  </thead>\n",
       "  <tbody>\n",
       "    <tr>\n",
       "      <th>0</th>\n",
       "      <td>1</td>\n",
       "      <td>2</td>\n",
       "      <td>3</td>\n",
       "    </tr>\n",
       "    <tr>\n",
       "      <th>1</th>\n",
       "      <td>4</td>\n",
       "      <td>5</td>\n",
       "      <td>6</td>\n",
       "    </tr>\n",
       "    <tr>\n",
       "      <th>2</th>\n",
       "      <td>7</td>\n",
       "      <td>8</td>\n",
       "      <td>9</td>\n",
       "    </tr>\n",
       "    <tr>\n",
       "      <th>3</th>\n",
       "      <td>10</td>\n",
       "      <td>11</td>\n",
       "      <td>12</td>\n",
       "    </tr>\n",
       "    <tr>\n",
       "      <th>4</th>\n",
       "      <td>13</td>\n",
       "      <td>14</td>\n",
       "      <td>15</td>\n",
       "    </tr>\n",
       "  </tbody>\n",
       "</table>\n",
       "</div>"
      ],
      "text/plain": [
       "    0   1   2\n",
       "0   1   2   3\n",
       "1   4   5   6\n",
       "2   7   8   9\n",
       "3  10  11  12\n",
       "4  13  14  15"
      ]
     },
     "execution_count": 27,
     "metadata": {},
     "output_type": "execute_result"
    }
   ],
   "source": [
    "X = np.arange(1,16).reshape(5,3)\n",
    "frame = pd.DataFrame(X)\n",
    "frame"
   ]
  },
  {
   "cell_type": "markdown",
   "id": "fb1a497f",
   "metadata": {},
   "source": [
    "We can change the column names and row indices when we create the dataframe"
   ]
  },
  {
   "cell_type": "code",
   "execution_count": 36,
   "id": "c7b67a1f",
   "metadata": {},
   "outputs": [
    {
     "data": {
      "text/html": [
       "<div>\n",
       "<style scoped>\n",
       "    .dataframe tbody tr th:only-of-type {\n",
       "        vertical-align: middle;\n",
       "    }\n",
       "\n",
       "    .dataframe tbody tr th {\n",
       "        vertical-align: top;\n",
       "    }\n",
       "\n",
       "    .dataframe thead th {\n",
       "        text-align: right;\n",
       "    }\n",
       "</style>\n",
       "<table border=\"1\" class=\"dataframe\">\n",
       "  <thead>\n",
       "    <tr style=\"text-align: right;\">\n",
       "      <th></th>\n",
       "      <th>Ram</th>\n",
       "      <th>Lakhan</th>\n",
       "      <th>Sita</th>\n",
       "    </tr>\n",
       "  </thead>\n",
       "  <tbody>\n",
       "    <tr>\n",
       "      <th>Jack</th>\n",
       "      <td>1</td>\n",
       "      <td>2</td>\n",
       "      <td>3</td>\n",
       "    </tr>\n",
       "    <tr>\n",
       "      <th>Charles</th>\n",
       "      <td>4</td>\n",
       "      <td>5</td>\n",
       "      <td>6</td>\n",
       "    </tr>\n",
       "    <tr>\n",
       "      <th>Charlotte</th>\n",
       "      <td>7</td>\n",
       "      <td>8</td>\n",
       "      <td>9</td>\n",
       "    </tr>\n",
       "    <tr>\n",
       "      <th>Matt</th>\n",
       "      <td>10</td>\n",
       "      <td>11</td>\n",
       "      <td>12</td>\n",
       "    </tr>\n",
       "    <tr>\n",
       "      <th>John</th>\n",
       "      <td>13</td>\n",
       "      <td>14</td>\n",
       "      <td>15</td>\n",
       "    </tr>\n",
       "  </tbody>\n",
       "</table>\n",
       "</div>"
      ],
      "text/plain": [
       "           Ram  Lakhan  Sita\n",
       "Jack         1       2     3\n",
       "Charles      4       5     6\n",
       "Charlotte    7       8     9\n",
       "Matt        10      11    12\n",
       "John        13      14    15"
      ]
     },
     "execution_count": 36,
     "metadata": {},
     "output_type": "execute_result"
    }
   ],
   "source": [
    "X = np.arange(1,16).reshape(5,3)\n",
    "frame = pd.DataFrame(X, index= [\"Jack\", \"Charles\", \"Charlotte\", \"Matt\", \"John\"], \n",
    "                     columns = ['Ram','Lakhan','Sita'])\n",
    "frame"
   ]
  },
  {
   "cell_type": "markdown",
   "id": "52b04ba8",
   "metadata": {},
   "source": [
    "We can access the specific elements, rows, and columns. There are two ways to do access rows and particular elements of the dataframe- one is to use the index of the row and column with function 'iloc' and the other is to simply specify the row and column names with the function 'loc'. To access a column, we just need to specify the column name with the dataframe name without any function. The following examples demonstrates it."
   ]
  },
  {
   "cell_type": "code",
   "execution_count": 46,
   "id": "60dcf71b",
   "metadata": {},
   "outputs": [
    {
     "name": "stdout",
     "output_type": "stream",
     "text": [
      "Ram       4\n",
      "Lakhan    5\n",
      "Sita      6\n",
      "Name: Charles, dtype: int64\n",
      "\n",
      "Ram       4\n",
      "Lakhan    5\n",
      "Sita      6\n",
      "Name: Charles, dtype: int64\n",
      "\n",
      "6\n",
      "\n",
      "6\n",
      "\n",
      "Jack          3\n",
      "Charles       6\n",
      "Charlotte     9\n",
      "Matt         12\n",
      "John         15\n",
      "Name: Sita, dtype: int64\n"
     ]
    }
   ],
   "source": [
    "X = np.arange(1,16).reshape(5,3)\n",
    "frame = pd.DataFrame(X, index= [\"Jack\", \"Charles\", \"Charlotte\", \"Matt\", \"John\"], \n",
    "                     columns = ['Ram','Lakhan','Sita'])\n",
    "\n",
    "\n",
    "# accessing rwos and elements using loc and iloc functions\n",
    "row1 = frame.loc[\"Charles\"]\n",
    "print(row1)\n",
    "print()\n",
    "row2 = frame.iloc[1]\n",
    "print(row2)\n",
    "print()\n",
    "\n",
    "element1 = frame.loc[\"Charles\",\"Sita\"]\n",
    "print(element1)\n",
    "print()\n",
    "element2 = frame.iloc[1,2]\n",
    "print(element2)\n",
    "print()\n",
    "\n",
    "# accessing a column just by using its name\"\n",
    "col = frame[\"Sita\"]\n",
    "print(col)"
   ]
  },
  {
   "cell_type": "markdown",
   "id": "d2f00b08",
   "metadata": {},
   "source": [
    "### 4.3 Functions in pandas\n",
    "\n",
    "There is long list of functions in pandas and it is simply not possible to go through all of those. In this section, we are going to get more familiar with panda functions by doing some exercises instead of looking at examples. \n",
    "\n",
    "#### Exercise\n",
    "\n",
    "1. Read about the functions that allow you to add and remove rows and columns. \n",
    "2. Learn how to insert a series into a dataframe as either a column or a row. \n",
    "3. It is possible to easily load a datafile into a dataframe. Learn about the function that does it. If possible, create a data file using numpy and then load it into dataframe. \n",
    "4. Pandas also allows you to plot the data from individual rows and columns. Go to the official documentation of plotting in pandas and familiarize yourself with how it can be done. You can also have look at other sources like [pydata](https://pandas.pydata.org/docs/user_guide/visualization.html), [GeeksforGeeks](https://www.geeksforgeeks.org/how-to-plot-a-dataframe-using-pandas/), and [w3schools](https://www.w3schools.com/python/pandas/pandas_plotting.asp)."
   ]
  },
  {
   "cell_type": "markdown",
   "id": "9ccecc7f",
   "metadata": {},
   "source": [
    "## Section 5: Plotting with python using matplotlib library\n",
    "Matplotlib is a powerful library for visualization in python. It allows us to plot data from arrays or matrices in a variety of ways with just a few lines of code. Some handouts and cheetsheets for beginners are available on matplotlib's official [webpage](https://matplotlib.org/cheatsheets/) that offer a good start. These should be referred to for making the plots more attractive and informative by using colors combinations, legends, labels, etc. We suggest you bookmark this webpage because it will be the quickest way to get answers to questions related to ploting, other than google, of course!\n",
    "<br> To load this library, use the following statements. Here we import matplotlib.pyplot separately since pyplot is a subpackage of matplotlib, which is amongst the most commonly used subpackages. In the following examples, we will make use of pyplot."
   ]
  },
  {
   "cell_type": "code",
   "execution_count": 1,
   "id": "6c1cb1f6",
   "metadata": {},
   "outputs": [],
   "source": [
    "import matplotlib as mpl\n",
    "import matplotlib.pyplot as plt"
   ]
  },
  {
   "cell_type": "markdown",
   "id": "4ae59023",
   "metadata": {},
   "source": [
    "To create a canvas to plot on, we can use the following methods"
   ]
  },
  {
   "cell_type": "code",
   "execution_count": null,
   "id": "6161b79b",
   "metadata": {},
   "outputs": [],
   "source": [
    "plt.figure() # with default size\n",
    "# OR\n",
    "plt.figure(figsize=(9,5)) # with a specific size"
   ]
  },
  {
   "cell_type": "markdown",
   "id": "a7d5cffa",
   "metadata": {},
   "source": [
    "The following example where we plot the cosine of 'x' vs 'x' shows how this library can be used to plot quickly."
   ]
  },
  {
   "cell_type": "code",
   "execution_count": 2,
   "id": "b426e654",
   "metadata": {},
   "outputs": [
    {
     "data": {
      "image/png": "[encoded data removed]",
      "text/plain": [
       "<Figure size 360x216 with 1 Axes>"
      ]
     },
     "metadata": {
      "needs_background": "light"
     },
     "output_type": "display_data"
    }
   ],
   "source": [
    "import numpy as np\n",
    "\n",
    "x = np.linspace(0, 2 * np.pi, 100)\n",
    "y = np.cos(x)\n",
    "\n",
    "plt.figure(figsize=(5,3)) # generate the canvas\n",
    "plt.plot(x, y) # plot the line\n",
    "plt.show() # display the plot"
   ]
  },
  {
   "cell_type": "markdown",
   "id": "78f07b55",
   "metadata": {},
   "source": [
    "We can add axes labels, legends, change line color, line thickness, and line style. See how we modify the above example to implement all these."
   ]
  },
  {
   "cell_type": "code",
   "execution_count": 4,
   "id": "15ae40f4",
   "metadata": {},
   "outputs": [
    {
     "data": {
      "image/png": "[encoded data removed]",
      "text/plain": [
       "<Figure size 360x216 with 1 Axes>"
      ]
     },
     "metadata": {
      "needs_background": "light"
     },
     "output_type": "display_data"
    }
   ],
   "source": [
    "x = np.linspace(0, 2 * np.pi, 100)\n",
    "y = np.cos(x)\n",
    "\n",
    "plt.figure(figsize=(5,3)) \n",
    "plt.plot(x, y, linewidth=5, linestyle='--',color='red',label='cosine')\n",
    "plt.xlabel('x',fontsize=14)\n",
    "plt.ylabel('cos(x)',fontsize=14,fontweight='bold') # we can make the font bold, if we like\n",
    "plt.legend() # the placement of legend can be changed using 'loc' parameter, e.g., loc='upper right'\n",
    "plt.show() "
   ]
  },
  {
   "cell_type": "markdown",
   "id": "877be916",
   "metadata": {},
   "source": [
    "To create a single or multiple figures on one canvas, we can use 'subplots(rows, columns, ...)' function as follows"
   ]
  },
  {
   "cell_type": "code",
   "execution_count": 9,
   "id": "26cafe2b",
   "metadata": {},
   "outputs": [
    {
     "data": {
      "image/png": "[encoded data removed]",
      "text/plain": [
       "<Figure size 648x216 with 2 Axes>"
      ]
     },
     "metadata": {
      "needs_background": "light"
     },
     "output_type": "display_data"
    }
   ],
   "source": [
    "fig, ax = plt.subplots(1,2,figsize=(9,3))"
   ]
  },
  {
   "cell_type": "markdown",
   "id": "5fc7174a",
   "metadata": {},
   "source": [
    "The 'ax' object above is an array of axis objects with the first figure axis as the first element and the second one as the second element. In order to plot one either one, we should use e.g. 'ax[0].plot()' or 'ax[1].plot()'. The following example should clarify this. "
   ]
  },
  {
   "cell_type": "code",
   "execution_count": 5,
   "id": "aff2b414",
   "metadata": {},
   "outputs": [
    {
     "data": {
      "image/png": "[encoded data removed]",
      "text/plain": [
       "<Figure size 360x216 with 1 Axes>"
      ]
     },
     "metadata": {
      "needs_background": "light"
     },
     "output_type": "display_data"
    }
   ],
   "source": [
    "x = np.linspace(0, 2 * np.pi, 100)\n",
    "y = np.cos(x)\n",
    "\n",
    "# generating a single plot with 'subplots()'\n",
    "fig, ax = plt.subplots(figsize=(5,3)) # ax is a single element itself\n",
    "ax.plot(x, y, linewidth=5, linestyle='--',color='red',label='cosine')\n",
    "ax.set_xlabel('x',fontsize=14)\n",
    "ax.set_ylabel('cos(x)',fontsize=14,fontweight='bold')\n",
    "ax.legend()\n",
    "plt.show() "
   ]
  },
  {
   "cell_type": "markdown",
   "id": "cd1b155f",
   "metadata": {},
   "source": [
    "Notice the difference in the functions used to add axis labels when using the axis object 'ax' instead of 'plt' in the previous example. Some (not all) functions have different names for axis objects but perform the same job as expected. <br> The next example is to show how to generate two plots with subplots()."
   ]
  },
  {
   "cell_type": "code",
   "execution_count": 6,
   "id": "e0e1f1de",
   "metadata": {},
   "outputs": [
    {
     "data": {
      "image/png": "[encoded data removed]",
      "text/plain": [
       "<Figure size 720x216 with 2 Axes>"
      ]
     },
     "metadata": {
      "needs_background": "light"
     },
     "output_type": "display_data"
    }
   ],
   "source": [
    "x = np.linspace(0, 2 * np.pi, 100)\n",
    "y = np.cos(x)\n",
    "z = np.sin(x)\n",
    "\n",
    "fig, ax = plt.subplots(1,2,figsize=(10,3)) # ax is a single element itself\n",
    "ax[0].plot(x, y, linewidth=5, linestyle='--',color='red',label='cosine')\n",
    "ax[0].set_xlabel('x',fontsize=14)\n",
    "ax[0].set_ylabel('cos(x)',fontsize=14,fontweight='bold')\n",
    "ax[0].legend()\n",
    "\n",
    "ax[1].plot(x, z, linewidth=3, linestyle='--',color='red',label='sine')\n",
    "ax[1].set_xlabel('x',fontsize=14)\n",
    "ax[1].set_ylabel('sin(x)',fontsize=14,fontweight='bold')\n",
    "ax[1].legend()\n",
    "plt.show() "
   ]
  },
  {
   "cell_type": "markdown",
   "id": "1c756373",
   "metadata": {},
   "source": [
    "In the following, we will create 2D plots. Amongst the most commonly used 2D plots are image and contour. The corresponding functions are plt.imshow() and plt.contourf(). <br>\n",
    "In the example below, we wll see how to plot image and contour plots for the same data (either with two 1D arrays of random numbers or one 2D array). Please visit [this](https://matplotlib.org/stable/api/_as_gen/matplotlib.pyplot.contourf.html#matplotlib.pyplot.contourf) documentation and [this](https://matplotlib.org/stable/api/_as_gen/matplotlib.pyplot.imshow.html) prior to going through the examples below to get an idea of the required parameters for both. <br>\n",
    "\n",
    "When two 1D arrays, x and y, are given, it is better to generate a meshgrid of x and y by using np.meshgrid(). It allows us to avoid running nested loops to generate z (something that we would like to plot). The following example aims to clarify it."
   ]
  },
  {
   "cell_type": "code",
   "execution_count": 8,
   "id": "ae4674f0",
   "metadata": {},
   "outputs": [
    {
     "data": {
      "image/png": "[encoded data removed]",
      "text/plain": [
       "<Figure size 720x288 with 2 Axes>"
      ]
     },
     "metadata": {
      "needs_background": "light"
     },
     "output_type": "display_data"
    }
   ],
   "source": [
    "x = np.linspace(-6,6,100)\n",
    "y = np.linspace(-6,6,100)\n",
    "\n",
    "Xnew,Ynew = np.meshgrid(x,y)\n",
    "Z = np.sin(Xnew*Ynew) # evaluates Z for all combinations of x and y\n",
    "\n",
    "fig, ax = plt.subplots(1,2,figsize=(10,4)) # ax is a single element itself\n",
    "ax[0].imshow(Z,origin='lower')\n",
    "ax[0].set_xlabel('x',fontsize=14)\n",
    "ax[0].set_ylabel('y',fontsize=14)\n",
    "ax[0].set_title('With imshow()',fontsize=14)\n",
    "\n",
    "ax[1].contourf(Xnew,Ynew, Z)\n",
    "ax[1].set_xlabel('x',fontsize=14)\n",
    "ax[1].set_ylabel('y',fontsize=14)\n",
    "ax[1].set_title('With contourf()',fontsize=14)\n",
    "plt.show() "
   ]
  },
  {
   "cell_type": "code",
   "execution_count": null,
   "id": "5073c7ed",
   "metadata": {},
   "outputs": [],
   "source": []
  }
 ],
 "metadata": {
  "kernelspec": {
   "display_name": "Python 3",
   "language": "python",
   "name": "python3"
  },
  "language_info": {
   "codemirror_mode": {
    "name": "ipython",
    "version": 3
   },
   "file_extension": ".py",
   "mimetype": "text/x-python",
   "name": "python",
   "nbconvert_exporter": "python",
   "pygments_lexer": "ipython3",
   "version": "3.8.8"
  }
 },
 "nbformat": 4,
 "nbformat_minor": 5
}
