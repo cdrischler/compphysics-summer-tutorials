{
 "cells": [
  {
   "cell_type": "markdown",
   "id": "a99028f4",
   "metadata": {},
   "source": [
    "# Tutorial on the Basics of Python\n",
    "\n",
    "<p style=\"font-size:16px\"> Computational Physics <br> Tutor: Rawan M. Nowier <br> Original Author: Kanishk Chauhan  </p>\n",
    "\n",
    "***\n",
    "\n",
    "Python is amongst the simplest and most powerful programming languages used in all fields of science and engineering. Because of its ease of use and a remarkable documentation by the makers of python and people around the world, answers to most of our questions regarding the syntax, what functions to use, etc. can be found everywhere on the internet. In this tutorial, we will go over the basics of python while providing you with links to useful websites and documentation to familiarize yourself with basic python and commonly used libraries (modules).\n",
    "\n",
    "Python by itself has a limited functionality but the packages (libraries) such as Numpy, SciPy, Pandas, and Matplotlib make it powerful and provide us with the data structures and functions which can be used to solve the problems at hand. \n",
    "\n",
    "Before diving into the libraries, let's familiarize ourselves with the basics of python and see what all python alone can do. [Beginners Guide](https://wiki.python.org/moin/BeginnersGuide/Programmers) has a lot of helpful tutorials that we highly recommend.\n",
    "\n",
    "This tutorial should take us 90 minutes to finish.\n"
   ]
  },
  {
   "cell_type": "markdown",
   "id": "4a658ef7",
   "metadata": {},
   "source": [
    "## Variables and Operators\n",
    "\n",
    "In the following, we will briefly go over some of the most common things required to do well in computational physics course. For more on the basics of programming with python, [an excellent source is available here.](https://learnxinyminutes.com/docs/python/) <br><br> \n",
    "First, let's start with a simple command to print out \"Hello, World!\" using the `print()` function. Throughout this tutorial, we will use `print()` function to output results."
   ]
  },
  {
   "cell_type": "code",
   "execution_count": 9,
   "id": "2fbc9478",
   "metadata": {
    "ExecuteTime": {
     "end_time": "2024-05-07T20:33:22.683538Z",
     "start_time": "2024-05-07T20:33:22.679040Z"
    }
   },
   "outputs": [
    {
     "name": "stdout",
     "output_type": "stream",
     "text": [
      "Hello, World!\n"
     ]
    }
   ],
   "source": [
    "# this is a comment\n",
    "print(\"Hello, World!\") "
   ]
  },
  {
   "cell_type": "markdown",
   "id": "8d5e66c3",
   "metadata": {},
   "source": [
    "Printing is simple in python and the output can be formatted as we like. We can format the output using `f` before the content we want to print as you will see in the following sections. <br><br> Another thing you will see throughout are comments. These are very helpful when it comes to documentation. Comments in python start with #.\n",
    "\n",
    "Python will ignore string literals that are not assigned to a variable. Thus, you can add a block of comments in your code as follows:"
   ]
  },
  {
   "cell_type": "code",
   "execution_count": 10,
   "id": "253809e9",
   "metadata": {
    "ExecuteTime": {
     "end_time": "2024-05-07T20:45:55.545507Z",
     "start_time": "2024-05-07T20:45:55.538669Z"
    }
   },
   "outputs": [
    {
     "name": "stdout",
     "output_type": "stream",
     "text": [
      "Hello, World!\n"
     ]
    }
   ],
   "source": [
    "\"\"\"\n",
    "This is a block of \n",
    "comments written in \n",
    "more than one line\n",
    "\"\"\"\n",
    "print(\"Hello, World!\")"
   ]
  },
  {
   "cell_type": "markdown",
   "id": "b53ad872",
   "metadata": {},
   "source": [
    "### Assigning values to variables and data types\n",
    "The assignment operator is `=`. If `x = y`, then the value of `y` will be assigned to `x` and as a result, both `x` and `y` will carry the same value. "
   ]
  },
  {
   "cell_type": "code",
   "execution_count": 5,
   "id": "b67be5be",
   "metadata": {
    "ExecuteTime": {
     "end_time": "2024-05-07T18:43:44.854030Z",
     "start_time": "2024-05-07T18:43:44.847602Z"
    }
   },
   "outputs": [
    {
     "name": "stdout",
     "output_type": "stream",
     "text": [
      "10 5.5\n",
      "a=10 and b=5.5\n",
      "\n",
      "The variables are 10 5.5 whatever  dude !\n",
      "<class 'int'> <class 'float'> <class 'str'> <class 'str'> <class 'str'>\n"
     ]
    }
   ],
   "source": [
    "a = 10\n",
    "b = 5.5\n",
    "c = 'whatever'\n",
    "d = \"dude\" # notice that both single and double quotes create a string\n",
    "e = '!' # python does not have a character-type. Even a single entity inside '' is a string\n",
    "\n",
    "# printing the output\n",
    "print(a, b)\n",
    "print(f'a={a} and b={b}') # formatting the output using 'f' before the content we want to print\n",
    "print() # prints a blank line\n",
    "print(\"The variables are\",a, b, c,'',d,e) # empty quotes add space in the output\n",
    "print(type(a), type(b), type(c), type(d), type(e)) # prints the type of a variable"
   ]
  },
  {
   "cell_type": "markdown",
   "id": "6b824b4d",
   "metadata": {},
   "source": [
    "You don't need declare the type of your variable, you can even change its type later. An example:"
   ]
  },
  {
   "cell_type": "code",
   "execution_count": 2,
   "id": "94f9c211",
   "metadata": {
    "ExecuteTime": {
     "end_time": "2024-05-20T20:05:42.737381Z",
     "start_time": "2024-05-20T20:05:42.732883Z"
    }
   },
   "outputs": [
    {
     "name": "stdout",
     "output_type": "stream",
     "text": [
      "three <class 'str'>\n"
     ]
    }
   ],
   "source": [
    "x = 3       # x is of type int\n",
    "x = \"three\" # x is now of type str\n",
    "print(x, type(x))\n",
    "\n",
    "y = '3'"
   ]
  },
  {
   "cell_type": "markdown",
   "id": "a237a6fe",
   "metadata": {},
   "source": [
    "You can also specify the type of the variable through casting:"
   ]
  },
  {
   "cell_type": "code",
   "execution_count": 23,
   "id": "b0f8b044",
   "metadata": {
    "ExecuteTime": {
     "end_time": "2024-05-07T20:54:01.464457Z",
     "start_time": "2024-05-07T20:54:01.459256Z"
    }
   },
   "outputs": [
    {
     "name": "stdout",
     "output_type": "stream",
     "text": [
      "x = 3 <class 'str'>\n",
      "y = 3 <class 'int'>\n",
      "z = 3.0 <class 'float'>\n"
     ]
    }
   ],
   "source": [
    "x = str(3)    # x will be '3'\n",
    "y = int(3)    # y will be 3\n",
    "z = float(3)  # z will be 3.0\n",
    "\n",
    "print(f'x = {x} {type(x)}\\ny = {y} {type(y)}\\nz = {z} {type(z)}')"
   ]
  },
  {
   "cell_type": "markdown",
   "id": "2f704eba",
   "metadata": {},
   "source": [
    "You can assign values to multiple variables in one line:"
   ]
  },
  {
   "cell_type": "code",
   "execution_count": 27,
   "id": "aec02656",
   "metadata": {
    "ExecuteTime": {
     "end_time": "2024-05-07T21:07:46.920397Z",
     "start_time": "2024-05-07T21:07:46.916233Z"
    }
   },
   "outputs": [
    {
     "name": "stdout",
     "output_type": "stream",
     "text": [
      "1 2 3\n"
     ]
    }
   ],
   "source": [
    "x, y, z = 1, 2 ,3\n",
    "\n",
    "print(x,y,z)"
   ]
  },
  {
   "cell_type": "markdown",
   "id": "ddb147df",
   "metadata": {},
   "source": [
    "### Variable names"
   ]
  },
  {
   "cell_type": "markdown",
   "id": "03adf192",
   "metadata": {},
   "source": [
    "Variable names are case-sensitive in python:"
   ]
  },
  {
   "cell_type": "code",
   "execution_count": 24,
   "id": "f514f0c5",
   "metadata": {
    "ExecuteTime": {
     "end_time": "2024-05-07T20:55:34.899292Z",
     "start_time": "2024-05-07T20:55:34.894994Z"
    }
   },
   "outputs": [
    {
     "name": "stdout",
     "output_type": "stream",
     "text": [
      "3 three\n"
     ]
    }
   ],
   "source": [
    "x = 3\n",
    "X = \"three\"\n",
    "#X will not overwrite x\n",
    "\n",
    "print(x, X)"
   ]
  },
  {
   "cell_type": "markdown",
   "id": "1ca59d1f",
   "metadata": {},
   "source": [
    "A variable can have names as brief as `x` or `y`. It can also have a more descriptive name such as `name`, `fullname` or `full_name`. Here are rules for naming Python variables:\n",
    "* Must start with a letter or the underscore character\n",
    "* Cannot start with a number\n",
    "* Can only contain alpha-numeric characters and underscores (A-z, 0-9, and _ )\n",
    "* Cannot be any of Python's keywords (if, True, for, etc.)."
   ]
  },
  {
   "cell_type": "markdown",
   "id": "a96e398c",
   "metadata": {},
   "source": [
    "### Mathematical operations\n",
    "Python, by default, can do basic mathematical operations like addition, multiplication, etc. Here we present a few examples. Please visit [this](https://www.tutorialspoint.com/python/python_basic_operators.htm) document for further details and more examples."
   ]
  },
  {
   "cell_type": "code",
   "execution_count": 7,
   "id": "6c935b17",
   "metadata": {
    "ExecuteTime": {
     "end_time": "2024-05-07T18:45:49.762436Z",
     "start_time": "2024-05-07T18:45:49.755867Z"
    }
   },
   "outputs": [
    {
     "name": "stdout",
     "output_type": "stream",
     "text": [
      "The sum of a and b is  15.5\n",
      "The sum of c and d is  whatever dude!\n",
      "\n",
      "a-b = 4.5\n",
      "\n",
      "a*b = 55.0\n",
      "\n",
      "Division can be done in two ways: a/b gives 10/5.5 = 1.8181818181818181\n",
      "and a//b gives = 1.0\n"
     ]
    }
   ],
   "source": [
    "print('The sum of a and b is ', a+b)\n",
    "print('The sum of c and d is ',c+' '+d+e) # yes, strings can be added too\n",
    "# print(a+c) would not work because one is 'int' and the other is 'string'\n",
    "\n",
    "diff_ab = a-b # creating a new variable and assigning it a value\n",
    "prod_ab = a*b\n",
    "\n",
    "print(f'\\na-b = {diff_ab}') # \\n is to introduce a newline \n",
    "print(f'\\na*b = {prod_ab}')\n",
    "print(f'\\nDivision can be done in two ways: a/b gives {a}/{b} =',a/b) # gives the exact answer\n",
    "print('and a//b gives =',a//b) # integer division is done by '//'. It returns the smaller integer number\n",
    "                                   # e.g. 5//2=2.0"
   ]
  },
  {
   "cell_type": "markdown",
   "id": "eec343e6",
   "metadata": {},
   "source": [
    "Here is the list of mathematical operations:\n",
    "\n",
    "* Addition: `+`\n",
    "* Subtraction: `-`\n",
    "* Multiplication: `*`\n",
    "* Division: `/`\n",
    "* Modulus: `%`\n",
    "* Exponentiation: `**`\n",
    "* Floor division: `//`\n",
    "\n",
    "For more types of operators, [click here](https://www.geeksforgeeks.org/python-operators/#).\n",
    "\n",
    "> One thing you will find useful is formating your printing to control how many digits you want displayed. The will come in handy when you are asked to what order your results are. Check the example below:"
   ]
  },
  {
   "cell_type": "code",
   "execution_count": 144,
   "id": "1ae07f62",
   "metadata": {
    "ExecuteTime": {
     "end_time": "2024-05-09T01:12:55.674724Z",
     "start_time": "2024-05-09T01:12:55.663769Z"
    }
   },
   "outputs": [
    {
     "name": "stdout",
     "output_type": "stream",
     "text": [
      "0.6135458167330677\n",
      "0.61\n",
      "6.14e-01\n",
      "\n",
      "5.000\n",
      "5.000000e+00\n"
     ]
    }
   ],
   "source": [
    "z = 154/251\n",
    "\n",
    "print(z)\n",
    "print(f'{z:.2f}')  ## 3 significant digits\n",
    "print(f'{z:.2e}')  ## 3 significant digits in scientific notion\n",
    "\n",
    "print(f'\\n{5:.3f}')\n",
    "print(f'{5:5e}')"
   ]
  },
  {
   "cell_type": "markdown",
   "id": "ca0dd4d8",
   "metadata": {},
   "source": [
    "### Lists\n",
    "Lists are an important part of the python data-structures and are used to store multiple items in a single variable. Lists are dynamic, which means that their size can be changed and their elements can also be changed. There is a lot that can be done to and with a list. We recommend going through [this](https://docs.python.org/3/tutorial/datastructures.html) webpage to get familiar with the things that can be done to and with a list. Please also read about tuples and how they differ from lists. "
   ]
  },
  {
   "cell_type": "code",
   "execution_count": 9,
   "id": "7710fa20",
   "metadata": {
    "ExecuteTime": {
     "end_time": "2024-05-20T20:21:59.327250Z",
     "start_time": "2024-05-20T20:21:59.322854Z"
    }
   },
   "outputs": [
    {
     "name": "stdout",
     "output_type": "stream",
     "text": [
      "[1, 3, 5.6, 'animal', '234', 2]\n",
      "\n",
      " ['another', 1, 'coz', 'y not', 23, 6.5]\n",
      "[1, 3, 5.6, 'animal', '234', 2, 'another', 1, 'coz', 'y not', 23, 6.5]\n",
      "\n",
      " [1, 3, 5.6, 'animal', '234', 2, 'this is a new element']\n",
      "[1, 3, 5.6, 'animal', '234', 2]\n"
     ]
    }
   ],
   "source": [
    "list1 = [1,3,5.6,'animal','234',2]\n",
    "print(list1)\n",
    "\n",
    "list2 = ['another',1,'coz','y not',23, 6.5]\n",
    "print('\\n',list2)\n",
    "\n",
    "# lists can be added- the output is a concatenated list (not the sum of the elements)\n",
    "long_list = list1+list2\n",
    "print(long_list)\n",
    "\n",
    "# the list size can be changed by appending or popping out elements\n",
    "list1.append('this is a new element')\n",
    "print('\\n',list1)\n",
    "list1.pop() # pop() removes the last element of the list\n",
    "print(list1)"
   ]
  },
  {
   "cell_type": "markdown",
   "id": "8cdbcbca",
   "metadata": {},
   "source": [
    "One very important feature that you will find useful when dealing with lists, especially when looping over one, is to find its length (or how many elements it has) using the line:\n",
    "```python\n",
    "len(list1)\n",
    "```"
   ]
  },
  {
   "cell_type": "code",
   "execution_count": 5,
   "id": "d95afb3e",
   "metadata": {
    "ExecuteTime": {
     "end_time": "2024-05-20T20:21:01.608653Z",
     "start_time": "2024-05-20T20:21:01.604986Z"
    }
   },
   "outputs": [
    {
     "name": "stdout",
     "output_type": "stream",
     "text": [
      "the length of the list: 4\n"
     ]
    }
   ],
   "source": [
    "list1 = [0,1,2,3]\n",
    "print('the length of the list:', len(list1))"
   ]
  },
  {
   "cell_type": "markdown",
   "id": "80b8c1eb",
   "metadata": {},
   "source": [
    "to access single elements of the list:"
   ]
  },
  {
   "cell_type": "code",
   "execution_count": 6,
   "id": "a930ad77",
   "metadata": {
    "ExecuteTime": {
     "end_time": "2024-05-20T20:21:03.196408Z",
     "start_time": "2024-05-20T20:21:03.193132Z"
    }
   },
   "outputs": [
    {
     "name": "stdout",
     "output_type": "stream",
     "text": [
      "2\n"
     ]
    }
   ],
   "source": [
    "print(list1[2])"
   ]
  },
  {
   "cell_type": "markdown",
   "id": "0d4ff147",
   "metadata": {},
   "source": [
    "to create an empty list:"
   ]
  },
  {
   "cell_type": "code",
   "execution_count": 8,
   "id": "7a62a33d",
   "metadata": {
    "ExecuteTime": {
     "end_time": "2024-05-20T20:21:53.496251Z",
     "start_time": "2024-05-20T20:21:53.491984Z"
    }
   },
   "outputs": [
    {
     "name": "stdout",
     "output_type": "stream",
     "text": [
      "[] 0\n"
     ]
    }
   ],
   "source": [
    "empty_list = []\n",
    "\n",
    "print(empty_list, len(empty_list))"
   ]
  },
  {
   "cell_type": "markdown",
   "id": "d916e9b2",
   "metadata": {},
   "source": [
    "for more functions applicable to lists, please visit the webpage linked above."
   ]
  },
  {
   "cell_type": "markdown",
   "id": "45affd3f",
   "metadata": {},
   "source": [
    "### Dictionary\n",
    "Dictionary stores pairs of values (key and value). It is used to store data differently than lists and arrays. Just like lists, dictionaries can store keys and values of any type. We can also have nested dictionaries where keys can have dictionaries as values (an example provided below). For further reading, please visit [GeeksforGeeks](https://www.geeksforgeeks.org/python-dictionary/). "
   ]
  },
  {
   "cell_type": "code",
   "execution_count": 10,
   "id": "1747bfad",
   "metadata": {
    "ExecuteTime": {
     "end_time": "2024-05-20T21:18:16.955196Z",
     "start_time": "2024-05-20T21:18:16.943390Z"
    }
   },
   "outputs": [
    {
     "name": "stdout",
     "output_type": "stream",
     "text": [
      "{1: 'name', 'second element': 'age', 3: 'gender'}\n",
      "name age\n",
      "\n",
      "Printing dictionary items in a for loop\n",
      "(1, 'name')\n",
      "('second element', 'age')\n",
      "(3, 'gender')\n",
      "\n",
      "Accessing keys and values\n",
      "dict_keys([1, 'second element', 3]) dict_values(['name', 'age', 'gender'])\n",
      "\n",
      "{'first element': 'name', 2: 'age', 'last element (a dictionary)': {1: 'Ram', 2: 'Bharose'}}\n"
     ]
    }
   ],
   "source": [
    "# One easy way to create a dictionary\n",
    "Dict = {1:'name','second element':'age',3:'gender'}\n",
    "\n",
    "print(Dict)\n",
    "print(Dict[1],Dict['second element']) # accessing the element value by key\n",
    "\n",
    "# accessing elements in a loop\n",
    "print('\\nPrinting dictionary items in a for loop')\n",
    "for item in Dict.items():\n",
    "    print(item)\n",
    "    \n",
    "# accessing all keys and values at once\n",
    "print('\\nAccessing keys and values')\n",
    "keys = Dict.keys()\n",
    "values = Dict.values()\n",
    "print(keys,values)\n",
    "print()\n",
    "\n",
    "# # Another easy way to create a dictionary (Nested dictionary, as an example)\n",
    "Dict1 = {} # first, let's build an empty dictionary\n",
    "Dict1['first element'] = 'name'\n",
    "Dict1[2] = 'age'\n",
    "Dict1['last element (a dictionary)'] = {1:'Ram',2:'Bharose'}\n",
    "print(Dict1)"
   ]
  },
  {
   "cell_type": "markdown",
   "id": "884e2593",
   "metadata": {},
   "source": [
    "### Boolean operations\n",
    "Boolean result can either be True or False. True and False have numeric values 1 and 0, respectively, i.e., True == 1 and False == 0. <br>\n",
    "'and', 'or', 'not', and comparison operators (<, >, ==, !=, <=, >=) fall under boolean operators. 'not' operator requires only one argument and it simply negates the result. For instance, not Ture == False. 'and' and 'or' require two arguments. The output of 'and' is True if both arguments are true. The output of 'or' is True if one of the arguments is true. The comparison operators hold straightforward mathematical meaning. We present some examples to make it clear."
   ]
  },
  {
   "cell_type": "code",
   "execution_count": 35,
   "id": "b373e5b3",
   "metadata": {
    "ExecuteTime": {
     "end_time": "2024-05-07T23:38:13.872937Z",
     "start_time": "2024-05-07T23:38:13.861624Z"
    }
   },
   "outputs": [
    {
     "name": "stdout",
     "output_type": "stream",
     "text": [
      "is 1 == 2? False\n",
      "is 1 != 2? True\n",
      "is 1 > 2? False\n",
      "is 1 >= 2? False\n",
      "is 1 <= 2? True\n",
      "\n",
      "True\n",
      "False\n",
      "True\n",
      "False\n",
      "\n",
      "True\n",
      "False\n",
      "\n",
      "1.0 1\n",
      "0.0\n"
     ]
    }
   ],
   "source": [
    "print(f'is 1 == 2? {1 == 2}')\n",
    "print(f'is 1 != 2? {1 != 2}')\n",
    "print(f'is 1 > 2? {1 > 2}')\n",
    "print(f'is 1 >= 2? {1 >= 2}')\n",
    "print(f'is 1 <= 2? {1 <= 2}')\n",
    "\n",
    "print()\n",
    "print(True or False)\n",
    "print(True and False)\n",
    "print(True and True)\n",
    "print(False or False)\n",
    "\n",
    "print()\n",
    "print(1 <= 2 or 1 == 2) # first argument is True but the second is False\n",
    "print(1 <= 2 and 1 >= 2) # first argument is True but the second is False\n",
    "\n",
    "print()\n",
    "print(True*1.0, True*1) # we can convert True and False to float and integer\n",
    "print(False*1.0)"
   ]
  },
  {
   "cell_type": "code",
   "execution_count": 12,
   "id": "56bc753e",
   "metadata": {
    "ExecuteTime": {
     "end_time": "2024-05-20T21:23:56.826786Z",
     "start_time": "2024-05-20T21:23:56.818038Z"
    }
   },
   "outputs": [
    {
     "name": "stdout",
     "output_type": "stream",
     "text": [
      "0\n",
      "3\n"
     ]
    }
   ],
   "source": [
    "list_1 = [False, False, False]\n",
    "list_2 = [True, True, True]\n",
    "\n",
    "print(sum(list_1))\n",
    "print(sum(list_2))"
   ]
  },
  {
   "cell_type": "markdown",
   "id": "6cdd7eab",
   "metadata": {},
   "source": [
    "## Conditions and Loops\n",
    "The simple examples below demonstrate how if-else conditions and loops (while and for) can be used. With each if-else condition, multiple conditions used. For instance, 'if condition1 or condition2 and condition3: '. In this example, if either of the first two conditions is true and the third one is also true, then the statements inside 'if' will be executed.\n",
    "\n",
    "> One important characteristic of the Python language is indentation as it uses is to indicate a block of code, the case with if conditions, functions and for/while loops. The colon `:` is what indicates an upcoming block of code."
   ]
  },
  {
   "cell_type": "code",
   "execution_count": 4,
   "id": "3dbcbc4a",
   "metadata": {},
   "outputs": [
    {
     "name": "stdout",
     "output_type": "stream",
     "text": [
      "a is greater than b\n",
      "none!\n",
      "\n",
      "6.5\n",
      "7.5\n",
      "8.5\n",
      "9.5\n",
      "10.5\n",
      "\n",
      "6.5\n",
      "7.5\n",
      "8.5\n",
      "9.5\n",
      "10.5\n",
      "\n",
      "6.5\n",
      "7.5\n",
      "8.5\n",
      "9.5\n",
      "10.5\n",
      "\n",
      "6.5\n",
      "7.5\n",
      "8.5\n",
      "9.5\n",
      "10.5\n"
     ]
    }
   ],
   "source": [
    "a = 10\n",
    "b = 5.5\n",
    "\n",
    "# first example\n",
    "if a > b:\n",
    "    print('a is greater than b')\n",
    "else:\n",
    "    print('nevermind!')\n",
    "\n",
    "# second example\n",
    "if a <= b or a == b:\n",
    "    print('a is greater than b')\n",
    "elif a != b and a < b:\n",
    "    print('b is not equal to a')\n",
    "else: \n",
    "    print('none!')\n",
    "    \n",
    "print()\n",
    "\n",
    "# while loop\n",
    "while b < a:\n",
    "    b = b + 1\n",
    "    print(b)\n",
    "\n",
    "# same can be done using a 'for' loop but we will need to either specify the number of iterations \n",
    "# or use an 'if' condition\n",
    "b = 5.5\n",
    "print()\n",
    "for i in range(5): # we should know the number of required iterations beforehand\n",
    "    b = b + 1\n",
    "    print(b)\n",
    "    \n",
    "b = 5.5\n",
    "print()\n",
    "for i in range(100): # we can provide a large enough number of iterations and use an 'if' condition\n",
    "    if b < a:\n",
    "        b = b + 1\n",
    "        print(b)\n",
    "        \n",
    "b = 5.5\n",
    "print()\n",
    "for i in range(100): # we can provide an arbitarily large number of iterations and use an 'if-else' condition\n",
    "    if b < a:\n",
    "        b = b + 1\n",
    "        print(b)\n",
    "    else:\n",
    "        break\n",
    "\n",
    "# Note that the above two 'for' loops will run a different numbers of iterations. The loop with just the 'if' \n",
    "# condition will run 100 iterations, while the one with 'if-else' will break when b > a (after 5 iterations). \n"
   ]
  },
  {
   "cell_type": "markdown",
   "id": "2dddea75",
   "metadata": {},
   "source": [
    "***\n",
    "<span style=\"color: blue\"> <b>Exercise 1: Use a for loop to store all even numbers from 0 to 20 in a list. <br></b> \n",
    "    1) Start by creating an empty list. <br> 2) Run a for loop that goes from 0 to 20 (remember that `range(a,b)` does not include the endpoint `b`). <br> 3) Setup a condition to only append values whose division by 2 gives 0. <br> 4) Print the list when you are done </span> \n",
    "\n",
    "***"
   ]
  },
  {
   "cell_type": "markdown",
   "id": "a05a2f20",
   "metadata": {},
   "source": [
    "## Functions\n",
    "\n",
    "### Homemade functions\n",
    "\n",
    "Writing functions in python is simple! We use the keyword `def` before the function name and put `():` at the end. For example, `def func_name(parameters):`. The `parameters` in the function definition are called `arguments` when calling the function and passing the values for the parameters. Hopefully, it will be clear from the examples below. \n",
    "Inside a function, we can manipulate the values of the arguments, create new variables, run loops, etc. If we want an output from a function, we need to use `return variable_name1, variable_name2, ..., variable_nameN` at the end of the function. Thus, we can have as many output variables returned from the fucntions as we need and they can be of any datatype. We can also write functions without return, e.g., if we just want to print something. A few examples are provided below. \n",
    "<br>A lot of useful information on python fucntions is available on [Programiz](https://www.programiz.com/python-programming/function), [w3schools](https://www.w3schools.com/python/python_functions.asp), and [GeeksofGeeks](https://www.geeksforgeeks.org/python-functions/). All the three sources are great. Please follow the one you like better.\n",
    "<br>We strongly suggest that you practice writing functions because it is something you will do all the time in computational physics course and also in your own research."
   ]
  },
  {
   "cell_type": "code",
   "execution_count": 38,
   "id": "56bb90f4",
   "metadata": {
    "ExecuteTime": {
     "end_time": "2024-05-08T00:05:10.815532Z",
     "start_time": "2024-05-08T00:05:10.810258Z"
    }
   },
   "outputs": [
    {
     "name": "stdout",
     "output_type": "stream",
     "text": [
      "Hello from a function!\n"
     ]
    }
   ],
   "source": [
    "# First example with no parameters passed or values returned\n",
    "def hello_function():\n",
    "    print(\"Hello from a function!\")\n",
    "    \n",
    "hello_function()"
   ]
  },
  {
   "cell_type": "code",
   "execution_count": 43,
   "id": "7c5898a5",
   "metadata": {
    "ExecuteTime": {
     "end_time": "2024-05-08T00:08:37.338705Z",
     "start_time": "2024-05-08T00:08:37.280098Z"
    }
   },
   "outputs": [
    {
     "name": "stdout",
     "output_type": "stream",
     "text": [
      "4\n"
     ]
    }
   ],
   "source": [
    "# Second example that takes a variable and returns it squared\n",
    "def square(x):\n",
    "    return x**2\n",
    "\n",
    "y = square(2)\n",
    "print(y)"
   ]
  },
  {
   "cell_type": "code",
   "execution_count": 44,
   "id": "b44e6328",
   "metadata": {
    "ExecuteTime": {
     "end_time": "2024-05-08T00:11:48.866072Z",
     "start_time": "2024-05-08T00:11:48.853888Z"
    }
   },
   "outputs": [
    {
     "name": "stdout",
     "output_type": "stream",
     "text": [
      "Lists provided:  [1, 3, 5.6, 'animal', '234', 2]  and  ['another', 1, 'coz', 'y not', 23, 6.5]\n",
      "The combination of the two is  [1, 3, 5.6, 'animal', '234', 2, 'another', 1, 'coz', 'y not', 23, 6.5]\n",
      "\n",
      "List provided:  [1, 3, 5.6, 'animal', '234', 2]  and the list added is  ['another', 1, 'coz', 'y not', 23, 6.5]\n",
      "The combination of the two is  [1, 3, 5.6, 'animal', '234', 2, 'another', 1, 'coz', 'y not', 23, 6.5]\n",
      "\n",
      "The returned variables are in individual output variables [1, 3, 5.6, 'animal', '234', 2, 'another', 1, 'coz', 'y not', 23, 6.5] [1, 3, 5.6, 'animal', '234', 2] ['another', 1, 'coz', 'y not', 23, 6.5]\n",
      "\n",
      "The returned variables are in a tuple ([1, 3, 5.6, 'animal', '234', 2, 'another', 1, 'coz', 'y not', 23, 6.5], [1, 3, 5.6, 'animal', '234', 2], ['another', 1, 'coz', 'y not', 23, 6.5])\n"
     ]
    }
   ],
   "source": [
    "## More examples ##\n",
    "\n",
    "# a function that adds two lists and prints the output without a return value and parameters\n",
    "def print_list():\n",
    "    list1 = [1,3,5.6,'animal','234',2]\n",
    "    list2 = ['another',1,'coz','y not',23, 6.5]\n",
    "    long_list = list1+list2\n",
    "    print('Lists provided: ',list1,' and ',list2)\n",
    "    print('The combination of the two is ',long_list)\n",
    "    \n",
    "# note that defining a function does not execute it. To run it, we need to call it\n",
    "print_list() # this is how we can make a funciton run by calling it\n",
    "\n",
    "# we could define another function that does the exact same thing as above but takes one parameter (we can also \n",
    "# provide it two, if we like)\n",
    "print()\n",
    "def print_list_withArg(list_input):\n",
    "    list2 = ['another',1,'coz','y not',23, 6.5]\n",
    "    long_list = list_input+list2\n",
    "    print('List provided: ',list_input,' and the list added is ',list2)\n",
    "    print('The combination of the two is ',long_list)\n",
    "    \n",
    "# this time, we need to provide the argument to the function to run it (when we call it)\n",
    "list1 = [1,3,5.6,'animal','234',2] # the list we will pass to the function\n",
    "print_list_withArg(list1) # notice that the parameter name in the function definition has nothing to do with the \n",
    "                          # argument name initialized outside the function.\n",
    "#   **** In the above example, 'list_input' is the function parameter, while 'list1' is the function argument ****\n",
    "\n",
    "# we could define another function that does the exact same thing as above but takes two parameters and returns \n",
    "# three outputs\n",
    "def print_list_withArg_output(list_input1, list2):\n",
    "    long_list = list_input1+list2\n",
    "    return long_list, list_input1, list2\n",
    "    \n",
    "list1 = [1,3,5.6,'animal','234',2]\n",
    "list2 = ['another',1,'coz','y not',23, 6.5]\n",
    " \n",
    "output1, output2, output3 = print_list_withArg_output(list1, list2) # this puts the output in separate variables\n",
    "print('\\nThe returned variables are in individual output variables',output1, output2, output3)\n",
    "function_outputs = print_list_withArg_output(list1, list2) # this puts the three outputs in a tuple\n",
    "print('\\nThe returned variables are in a tuple',function_outputs)"
   ]
  },
  {
   "cell_type": "markdown",
   "id": "e50a5954",
   "metadata": {},
   "source": [
    "### Built-in Functions\n",
    "\n",
    "There are many built-in functions you can use directly. For the full list, [click here](https://www.w3schools.com/python/python_ref_functions.asp).\n",
    "\n",
    "Here are a few examples:"
   ]
  },
  {
   "cell_type": "code",
   "execution_count": 48,
   "id": "3332728b",
   "metadata": {
    "ExecuteTime": {
     "end_time": "2024-05-08T00:18:37.732114Z",
     "start_time": "2024-05-08T00:18:37.727753Z"
    }
   },
   "outputs": [
    {
     "name": "stdout",
     "output_type": "stream",
     "text": [
      "3\n",
      "2\n",
      "-3 4\n"
     ]
    }
   ],
   "source": [
    "x = -3\n",
    "y = 4\n",
    "z = 1\n",
    "\n",
    "# function to return the absolute value of a variable\n",
    "print(abs(x))\n",
    "\n",
    "a_list = [x,y,z]\n",
    "\n",
    "# function to return the sum of items in a list\n",
    "print(sum(a_list))\n",
    "\n",
    "# Two functions to return the min and max of a list\n",
    "print(min(a_list), max(a_list))"
   ]
  },
  {
   "cell_type": "markdown",
   "id": "b121871b",
   "metadata": {},
   "source": [
    "***\n",
    "<span style=\"color: blue\"> <b>Exercise 2: Write your own function that takes a list and returns the sum of its elements, then compare what you get with the built-in `sum()` function. </b> </span> \n",
    "\n",
    "***"
   ]
  },
  {
   "cell_type": "markdown",
   "id": "14bfeea4",
   "metadata": {},
   "source": [
    "## Python Modules\n",
    "\n",
    "You can consider a module to be a file containing a set of functions you can import and use in your code. You can either write your own module, or use one of the many modules available out there. When it comes to Python, there are many great modules that can be used and are actually the reason the Python language is most popular. Modules made calculations such as solving DEs, solving integrals, Fourier transforms, and more that you will learn about in your Computational Physics class as simple as a one line code.\n",
    "\n",
    "In this tutorial, we will go over the most popular modules that will often use in your python programming and will most definitely need in your upcoming computational course or in your research."
   ]
  },
  {
   "cell_type": "markdown",
   "id": "7e2a4405",
   "metadata": {},
   "source": [
    "## NumPy\n",
    "\n",
    "Numpy stands for numerical python. It provides most of the functionalities required for numerical or statistical computing. Our numerical methods / computational physics course will require us to use this library all the time. There is extensive documentation on NumPy data-structures and functions functions. For more on why we need NumPy, please visit this [webpage](https://numpy.org/doc/stable/user/whatisnumpy.html). The basics of NumPy can be found [here](https://numpy.org/doc/stable/user/absolute_beginners.html) and [there](https://numpy.org/doc/stable/user/quickstart.html).\n",
    "\n",
    "We will go over how to load it in our codes and how to call functions and learn about some array and matrix operations needed for the computational physics course. \n",
    "\n",
    "We suggest going through [NumPy fundamentals](https://numpy.org/doc/stable/user/basics.html) online for an extensive documentation. It is not possible to remember all the data types, structures, or functions that NumPy offers. Therefore, one has to refer to NumPy's official documentation or look for answers on google. Both are great! You may use this link for quick [reference](https://numpy.org/doc/stable/reference/index.html#reference). There are many more sources to learn NumPy- they all introduce NumPy functions, etc. in their own style- one may work better than the other for you, e.g., [GeeksforGeeks](https://www.geeksforgeeks.org/python-numpy/) and \n",
    "[w3schools](https://www.w3schools.com/python/numpy/numpy_intro.asp). \n",
    "\n",
    "> You need to make sure that NumPy is installed on your local machine to be able to use it. [Click here](https://numpy.org/install/) to look into how to do so.\n"
   ]
  },
  {
   "cell_type": "markdown",
   "id": "e2e32a0d",
   "metadata": {},
   "source": [
    "### Importing NumPy and generating NumPy arrays\n",
    "NumPy arrays are fixed in size. It means that if an array is initialized with N elements, its size and shape can not be changed, while the values of the elements can be changed. We can have 1D, 2D, and higher dimensional arrays but we will stick to 1D and 2D in this tutorial.\n",
    "\n",
    "For any module, we need to first include/import the library in python. We can do that by using `import`. To give it a \n",
    "shorter name, we can use `as`. The most common short-name used for NumPy is `np` and so the line for importing the module will be:\n",
    "```python\n",
    "    import numpy as np\n",
    "```\n",
    "now one can call any NumPy function using `np.func_name(parameters)`. Let's now look into how to create a NumPy array. You can do so using the line:\n",
    "```python\n",
    "    array1 = np.array([1,2,3,4])\n",
    "```\n",
    "This gets you a 1D array with 4 elements. You can use `np.shape(array1)` to check the dimensions of any array you have."
   ]
  },
  {
   "cell_type": "code",
   "execution_count": 59,
   "id": "d8df7fcd",
   "metadata": {
    "ExecuteTime": {
     "end_time": "2024-05-08T19:19:14.312669Z",
     "start_time": "2024-05-08T19:19:14.304058Z"
    }
   },
   "outputs": [
    {
     "name": "stdout",
     "output_type": "stream",
     "text": [
      "[1 2 7 5]\n",
      "<class 'numpy.ndarray'>\n",
      "(4,)\n"
     ]
    }
   ],
   "source": [
    "import numpy as np\n",
    "\n",
    "# You can create a numpy array as follows:\n",
    "array1 = np.array([1,2,7,5])\n",
    "print(array1)\n",
    "print(type(array1)) # all numpy arrays are of type ndarray (n-dimensional array)\n",
    "print(np.shape(array1))"
   ]
  },
  {
   "cell_type": "markdown",
   "id": "df34c124",
   "metadata": {},
   "source": [
    "You can also convert a list to a numpy array as follows:"
   ]
  },
  {
   "cell_type": "code",
   "execution_count": 62,
   "id": "f37be904",
   "metadata": {
    "ExecuteTime": {
     "end_time": "2024-05-08T19:23:51.820960Z",
     "start_time": "2024-05-08T19:23:51.813701Z"
    }
   },
   "outputs": [
    {
     "name": "stdout",
     "output_type": "stream",
     "text": [
      "[8 7 2 1]\n",
      "<class 'numpy.ndarray'>\n"
     ]
    }
   ],
   "source": [
    "# creating a numpy array from a list (all elements of the list must be numeric)\n",
    "list1 = [8,7,2,1]\n",
    "array2 = np.array(list1)\n",
    "print(array2)\n",
    "print(type(array2)) # all numpy arrays are of type ndarray (n-dimensional array)"
   ]
  },
  {
   "cell_type": "markdown",
   "id": "3fcd5ebd",
   "metadata": {},
   "source": [
    "You can create a 2D array, you have to enclose it with two brackets:"
   ]
  },
  {
   "cell_type": "code",
   "execution_count": 68,
   "id": "9532bba3",
   "metadata": {
    "ExecuteTime": {
     "end_time": "2024-05-08T19:49:33.250431Z",
     "start_time": "2024-05-08T19:49:33.242899Z"
    }
   },
   "outputs": [
    {
     "name": "stdout",
     "output_type": "stream",
     "text": [
      "[[1 2 7 5]\n",
      " [8 7 2 1]]\n",
      "<class 'numpy.ndarray'>\n",
      "The shape of the array is  (2, 4)\n",
      "\n",
      "------------------------------------\n",
      "The shape of the 2D array is  (2, 3)\n",
      "[[1.  2.7 3. ]\n",
      " [4.  5.  6. ]]\n"
     ]
    }
   ],
   "source": [
    "# You can create a 2D numpy array as follows:\n",
    "array3 = np.array(([1,2,7,5], [8,7,2,1]))\n",
    "print(array3)\n",
    "print(type(array3)) # all numpy arrays are of type ndarray (n-dimensional array)\n",
    "print('The shape of the array is ', np.shape(array3))\n",
    "\n",
    "# using two lists (lists must be of same size, i.e., same number of elements)\n",
    "print('\\n------------------------------------')\n",
    "list1 = [1,2.7,3]\n",
    "list2 = [4.0,5,6]\n",
    "array2d = np.array([list1,list2])\n",
    "print('The shape of the 2D array is ', array2d.shape)\n",
    "print(array2d)"
   ]
  },
  {
   "cell_type": "markdown",
   "id": "3a197da8",
   "metadata": {},
   "source": [
    "Two very useful functions are the `np.arange()` and `np.linspace()` to generate arrays of desired spacing and size, respectively. These are especially useful when making plots.\n"
   ]
  },
  {
   "cell_type": "code",
   "execution_count": 77,
   "id": "57531347",
   "metadata": {
    "ExecuteTime": {
     "end_time": "2024-05-08T20:12:50.502292Z",
     "start_time": "2024-05-08T20:12:50.495393Z"
    }
   },
   "outputs": [
    {
     "name": "stdout",
     "output_type": "stream",
     "text": [
      "Array with np.arange():\n",
      " [1.  1.5 2.  2.5 3.  3.5 4.  4.5 5.  5.5 6.  6.5 7.  7.5 8.  8.5 9.  9.5]\n",
      "\n",
      "------------------------------------\n",
      "\n",
      "Array with np.linspace():\n",
      " [ 1.          1.47368421  1.94736842  2.42105263  2.89473684  3.36842105\n",
      "  3.84210526  4.31578947  4.78947368  5.26315789  5.73684211  6.21052632\n",
      "  6.68421053  7.15789474  7.63157895  8.10526316  8.57894737  9.05263158\n",
      "  9.52631579 10.        ]\n"
     ]
    }
   ],
   "source": [
    "array4 = np.arange(1,10,0.5) # this will create an array of elements from 1 to 10 with a spacing of 0.5 (10 excluded)\n",
    "array5 = np.linspace(1,10,20) # this will create an array with 20 elements from 1 to 10 with equal spacing\n",
    "\n",
    "print('Array with np.arange():\\n',array4)\n",
    "print('\\n------------------------------------')\n",
    "print('\\nArray with np.linspace():\\n',array5)"
   ]
  },
  {
   "cell_type": "markdown",
   "id": "4eef3d18",
   "metadata": {},
   "source": [
    "### Numpy array slicing\n",
    "We often only need a part of the array for the calculations. You can access specific elements or sections of the arrays by 'slicing' an array using 'array[m:n]'. The slice then picks up elements from index m to n-1.\n",
    ">We should remember that the element indexing in python begins at 0. This means that the first element of an array is at index 0. "
   ]
  },
  {
   "cell_type": "code",
   "execution_count": 99,
   "id": "0f223c31",
   "metadata": {
    "ExecuteTime": {
     "end_time": "2024-05-08T20:28:59.479898Z",
     "start_time": "2024-05-08T20:28:59.473386Z"
    }
   },
   "outputs": [
    {
     "name": "stdout",
     "output_type": "stream",
     "text": [
      "original array: [0 1 2 3 4 5 6 7 8]\n",
      "fourth to eighth elements of the array: [3 4 5 6 7]\n",
      "sixth element: 5\n",
      "sixth element to the end of the array: [5 6 7 8]\n"
     ]
    }
   ],
   "source": [
    "arr = np.arange(0,9) # when spacing is not specified, numpy assumes it to be 1\n",
    "arr_slice = arr[3:8] # picking up element at index 3 to the one at 7 in the slice\n",
    "element1 = arr[5] # putting the 6th element of the array in element1\n",
    "arr_slice2 = arr[5:] # picking up element at index 5 to the end\n",
    "\n",
    "\n",
    "print('original array:', arr)\n",
    "print('fourth to eighth elements of the array:', arr_slice)\n",
    "print('sixth element:', element1)\n",
    "print('sixth element to the end of the array:', arr_slice2)\n"
   ]
  },
  {
   "cell_type": "markdown",
   "id": "e88851ea",
   "metadata": {},
   "source": [
    "If you need to access the array in reverse, you can use negative indices. Here is an example: "
   ]
  },
  {
   "cell_type": "code",
   "execution_count": 106,
   "id": "ae937f4f",
   "metadata": {
    "ExecuteTime": {
     "end_time": "2024-05-08T20:33:43.327491Z",
     "start_time": "2024-05-08T20:33:43.321573Z"
    }
   },
   "outputs": [
    {
     "name": "stdout",
     "output_type": "stream",
     "text": [
      "original array: [0 1 2 3 4 5 6 7 8]\n",
      "length of array: 9\n",
      "last element of the array: 8\n",
      "arr[len(arr)-3]: 6\n",
      "from [len(arr)-3] to the end: [6 7 8]\n"
     ]
    }
   ],
   "source": [
    "arr = np.arange(0,9)\n",
    "element1 = arr[-1] # the last element of the array\n",
    "arr_slice = arr[-3:] # picking up element at index [len(arr)-3] to the end\n",
    "\n",
    "print('original array:', arr)\n",
    "print('length of array:', len(arr))\n",
    "print('last element of the array:', element1)\n",
    "print('arr[len(arr)-3]:', len(arr)-3)\n",
    "print('from [len(arr)-3] to the end:', arr_slice)\n"
   ]
  },
  {
   "cell_type": "code",
   "execution_count": 107,
   "id": "19a39fac",
   "metadata": {
    "ExecuteTime": {
     "end_time": "2024-05-08T20:34:20.760439Z",
     "start_time": "2024-05-08T20:34:20.753917Z"
    }
   },
   "outputs": [
    {
     "name": "stdout",
     "output_type": "stream",
     "text": [
      "------------------------------------\n",
      "[[1 2 3 4]\n",
      " [5 6 7 8]]\n",
      "8\n",
      "------------------------------------\n",
      "2nd row of arr2d =  [5 6 7 8]\n",
      "3rd col of arr2d =  [3 7]\n"
     ]
    }
   ],
   "source": [
    "# to access elements of 2D arrays, we need to provide to indices array[row_index,column_index]\n",
    "arr2d = np.arange(1,9).reshape(2,4) # .reshape(m,n) converts a 1D array to a 2D array with m rows and n columns\n",
    "print('------------------------------------')\n",
    "print(arr2d)\n",
    "print(arr2d[1,3]) # prints the element in 2nd row (row index 1) and 4th column (column index 3)\n",
    "\n",
    "# we can also access specific rows or columns\n",
    "row = arr2d[1,:] # picks up all columns of 2nd row\n",
    "col = arr2d[:,2] # picks up all rows of 3rd column\n",
    "print('------------------------------------')\n",
    "print('2nd row of arr2d = ',row)\n",
    "print('3rd col of arr2d = ',col)"
   ]
  },
  {
   "cell_type": "markdown",
   "id": "f95d0d92",
   "metadata": {},
   "source": [
    "### NumPy operations\n",
    "if a scalar is added to, subtracted from, multiplied by, or divided by an array, then all elements of the array undergo that operation. One can call it element-wise operation. If two arrays of equal size are added to, subtracted from, multiplied by, or divided by each other, element-wise operation occurs. Raising an array to a power also performs element-wise operation by raising every element to that power. It works for multi-dimensional arrays as well. Some examples below will make it easier to understand. "
   ]
  },
  {
   "cell_type": "code",
   "execution_count": 108,
   "id": "22f6bac0",
   "metadata": {
    "ExecuteTime": {
     "end_time": "2024-05-08T20:36:00.395976Z",
     "start_time": "2024-05-08T20:36:00.379530Z"
    }
   },
   "outputs": [
    {
     "name": "stdout",
     "output_type": "stream",
     "text": [
      "Original array =  [0 1 2 3 4 5 6 7 8]\n",
      "a scalar (=10) added to the original array (arr+a) =  [10 11 12 13 14 15 16 17 18]\n",
      "a scalar subtracted from the original array (arr-a) =  [-10  -9  -8  -7  -6  -5  -4  -3  -2]\n",
      "Original array divided by a scalar (arr/a) =  [0.  0.1 0.2 0.3 0.4 0.5 0.6 0.7 0.8]\n",
      "Original array multiplied by a scalar (arr*a) =  [ 0 10 20 30 40 50 60 70 80]\n",
      "Original array raised to power 4 (arr**4) =  [   0    1   16   81  256  625 1296 2401 4096]\n",
      "\n",
      "------------------------------------\n",
      "\n",
      "Original arrays = [0 1 2 3 4 5 6 7 8] and [1 2 3 4 5 6 7 8 9]\n",
      "sum of the two arrays (arr+arr2) =  [ 1  3  5  7  9 11 13 15 17]\n",
      "subtracting the second array from the first (arr-arr2) =  [-1 -1 -1 -1 -1 -1 -1 -1 -1]\n",
      "dividinjg the first array by the second (arr/arr2) =  [0.         0.5        0.66666667 0.75       0.8        0.83333333\n",
      " 0.85714286 0.875      0.88888889]\n",
      "product of the two arrays (arr*arr2) =  [ 0  2  6 12 20 30 42 56 72]\n",
      "First array raised to the second (arr**arr2) =  [        0         1         8        81      1024     15625    279936\n",
      "   5764801 134217728]\n",
      "\n",
      "------------------------------------\n",
      "\n"
     ]
    }
   ],
   "source": [
    "arr = np.arange(0,9)\n",
    "a = 10\n",
    "\n",
    "# arrays with scalars\n",
    "print('Original array = ',arr)\n",
    "print('a scalar (=10) added to the original array (arr+a) = ',arr+a)\n",
    "print('a scalar subtracted from the original array (arr-a) = ',arr-a)\n",
    "print('Original array divided by a scalar (arr/a) = ',arr/a)\n",
    "print('Original array multiplied by a scalar (arr*a) = ',arr*a)\n",
    "print('Original array raised to power 4 (arr**4) = ',arr**4)\n",
    "print('\\n------------------------------------\\n')\n",
    "\n",
    "# arrays with arrays\n",
    "arr2 = np.arange(1,10) \n",
    "print(f'Original arrays = {arr} and {arr2}')\n",
    "print('sum of the two arrays (arr+arr2) = ',arr+arr2)\n",
    "print('subtracting the second array from the first (arr-arr2) = ',arr-arr2)\n",
    "print('dividinjg the first array by the second (arr/arr2) = ',arr/arr2)\n",
    "print('product of the two arrays (arr*arr2) = ',arr*arr2)\n",
    "print('First array raised to the second (arr**arr2) = ',arr**arr2)\n",
    "print('\\n------------------------------------\\n')"
   ]
  },
  {
   "cell_type": "markdown",
   "id": "6e29fd89",
   "metadata": {},
   "source": [
    "### Loading and saving data files with numpy\n",
    "A variety of file formats can be read and saved by numpy. We will go through two of the numpy functions that allow us to do that- [np.loadtxt()](https://numpy.org/doc/stable/reference/generated/numpy.loadtxt.html) and [np.savetxt()](https://numpy.org/doc/stable/reference/generated/numpy.savetxt.html). Clicking on these links will take you the documentation of the two functions. \n",
    "<br> If a data file exists in th edirectory that your current code is in, we can simply type the filename in np.loadtxt(filename). If the file is in some other directory, we need to specify the path along with the filename. np.savetxt() requires a filename (if the file does not already exist, the function automatically generates it) in which the data needs to be saved, the data itself, and formatting, if any. The example below demonstrates how to use these two functions. There is a lot more that numpy offers related to files. Please take help of the internet, there are many good sources to learn from. "
   ]
  },
  {
   "cell_type": "code",
   "execution_count": 13,
   "id": "0f94ea28",
   "metadata": {
    "ExecuteTime": {
     "end_time": "2024-05-20T23:58:12.856921Z",
     "start_time": "2024-05-20T23:58:12.796768Z"
    }
   },
   "outputs": [
    {
     "data": {
      "text/plain": [
       "array([[-6.18 ,  2.233, -7.   ,  6.   ,  5.   ],\n",
       "       [-4.558,  1.657,  8.   ,  1.   ,  5.   ],\n",
       "       [ 9.48 ,  2.075, -5.   , -1.   , -6.   ],\n",
       "       [-1.373,  1.16 ,  7.   , -6.   ,  5.   ],\n",
       "       [-3.874, -6.319,  2.   ,  6.   , -8.   ],\n",
       "       [-6.768, -8.058,  4.   ,  0.   , -7.   ],\n",
       "       [-2.208, -8.935,  0.   , -1.   ,  0.   ],\n",
       "       [-5.094, -7.5  , -7.   , -4.   ,  0.   ],\n",
       "       [-2.429,  4.053, -3.   ,  6.   , -2.   ],\n",
       "       [ 1.325,  9.471,  2.   , -2.   , -1.   ],\n",
       "       [ 3.474, -9.67 ,  0.   , -5.   ,  6.   ],\n",
       "       [-2.048, -5.987,  9.   ,  2.   ,  8.   ],\n",
       "       [ 1.693, -0.249,  3.   , -9.   ,  2.   ],\n",
       "       [ 4.776,  4.797, -2.   ,  0.   ,  2.   ],\n",
       "       [-8.599,  6.102, -8.   ,  3.   ,  0.   ],\n",
       "       [ 6.415,  8.019, -1.   , -3.   ,  7.   ],\n",
       "       [ 9.603,  0.878,  0.   , -8.   ,  3.   ],\n",
       "       [-1.281, -7.862,  0.   ,  0.   ,  0.   ],\n",
       "       [ 8.476,  9.369,  6.   ,  7.   ,  6.   ],\n",
       "       [ 1.555,  0.093,  2.   ,  6.   , -7.   ]])"
      ]
     },
     "execution_count": 13,
     "metadata": {},
     "output_type": "execute_result"
    }
   ],
   "source": [
    "import numpy as np\n",
    "\n",
    "X = np.random.uniform(-10,10,size=[20,5]) # the data that we would like to save in a file\n",
    "\n",
    "np.savetxt('NewFIle.dat',X,fmt='%.3f    %.3f    %d    %d    %d') # this way we can store the X data in \n",
    "                                                                 # the NewFile with specified format-\n",
    "                                                                 # first two columns upto 3 decimal places\n",
    "                                                                 # and the last three columns as integers\n",
    "\n",
    "data = np.loadtxt('NewFIle.dat') #  puts the data from the file into the variable 'data'\n",
    "data # prints the loaded data"
   ]
  },
  {
   "cell_type": "markdown",
   "id": "27640ca4",
   "metadata": {},
   "source": [
    "### Linear algebra using numpy\n",
    "Numpy includes funcitons that can applied to arrays to obtain the determinant, eigenvalues, eigenvectors, inverse, products, and solve equations. We simply need to import linalg package in numpy to use the functions."
   ]
  },
  {
   "cell_type": "code",
   "execution_count": 38,
   "id": "ac430d0a",
   "metadata": {},
   "outputs": [
    {
     "name": "stdout",
     "output_type": "stream",
     "text": [
      "The matrix is  [[1 2 3]\n",
      " [4 5 6]\n",
      " [7 8 9]]\n",
      "\n",
      "Determinnat of A is  6.66133814775094e-16\n",
      "\n",
      "Inverse of A is  [[-4.50359963e+15  9.00719925e+15 -4.50359963e+15]\n",
      " [ 9.00719925e+15 -1.80143985e+16  9.00719925e+15]\n",
      " [-4.50359963e+15  9.00719925e+15 -4.50359963e+15]]\n",
      "\n",
      "Eigenvalues of A are:  [ 1.61168440e+01 -1.11684397e+00 -4.22209278e-16]\n",
      "\n",
      "Eigenvectors of A are:  [[-0.23197069 -0.78583024  0.40824829]\n",
      " [-0.52532209 -0.08675134 -0.81649658]\n",
      " [-0.8186735   0.61232756  0.40824829]]\n",
      "\n",
      "Solution for the equations (values of x1 and x2) '2x1 + 5x2 = 8' and '3x1 - 9x2 = 0' are  2.181818181818182 0.7272727272727273\n"
     ]
    }
   ],
   "source": [
    "import numpy as np\n",
    "from numpy import linalg as lg\n",
    "\n",
    "A = np.arange(1,10).reshape(3,3)\n",
    "determinant = lg.det(A)\n",
    "A_inv = lg.inv(A) # inverse of A\n",
    "\n",
    "print(\"The matrix is \",A)\n",
    "print(\"\\nDeterminnat of A is \",determinant)\n",
    "print(\"\\nInverse of A is \",A_inv)\n",
    "\n",
    "# Eigenvalues and eigenvectors can be calculated together using eig()\n",
    "eigvals, eigvecs = lg.eig(A)\n",
    "print(\"\\nEigenvalues of A are: \",eigvals)\n",
    "print(\"\\nEigenvectors of A are: \",eigvecs)\n",
    "\n",
    "# Solving a set of linear equations AX=B, A- 2D array, X and B- 1D arrays\n",
    "# Eq.1: 2x1 + 5x2 = 8\n",
    "# Eq.2: 3x1 - 9x2 = 0\n",
    "# solve for x1 and x2\n",
    "A = np.array([[2,5],[3,-9]])\n",
    "B = np.array([8,0])\n",
    "x1,x2 = lg.solve(A,B)\n",
    "print(\"\\nSolution for the equations (values of x1 and x2) '2x1 + 5x2 = 8' and '3x1 - 9x2 = 0' are \",x1,x2)"
   ]
  },
  {
   "cell_type": "markdown",
   "id": "ee0f372d",
   "metadata": {},
   "source": [
    "### Other NumPy functions\n",
    "There is a huge set of functions available in NumPy- almost everything we will need for numerical computing. The aim is to give you a hands on expeience with NumPy so that you become comfortable using it anytime you need it.\n",
    "\n",
    "All the functions can be called by their names and using `np.` before them if you imported NumPy as np. It is advisable to always google the function name and examples whenever you have to use one. It allows you to know what parameters a given function takes and what outputs it generates. \n",
    "\n",
    "Here are a few useful examples for NumPy functions:"
   ]
  },
  {
   "cell_type": "code",
   "execution_count": 125,
   "id": "19345b94",
   "metadata": {
    "ExecuteTime": {
     "end_time": "2024-05-08T21:36:56.533727Z",
     "start_time": "2024-05-08T21:36:56.516829Z"
    }
   },
   "outputs": [
    {
     "name": "stdout",
     "output_type": "stream",
     "text": [
      "Original array: [ 3  2  2  1  2 -4]\n",
      "The mean = 1.0\n",
      "The standard deviation = 2.309401076758503\n",
      "The index of largest element = 0, which is 3\n",
      "The index of smallest element = 5, which is -4\n",
      "Sorted array: [-4  1  2  2  2  3]\n",
      "The indices where the array is equal to 2: [1 2 4]\n",
      "Absolute values: [3 2 2 1 2 4]\n",
      "Sum of array: 6\n",
      "Sum of the absolute values of the array: 14\n"
     ]
    }
   ],
   "source": [
    "arr = np.array([3,2,2,1,2,-4])\n",
    "\n",
    "print(f'Original array: {arr}') \n",
    "print(f'The mean = {np.mean(arr)}')\n",
    "print(f'The standard deviation = {np.std(arr)}') \n",
    "print(f'The index of largest element = {np.argmax(arr)}, which is {np.max(arr)}')\n",
    "print(f'The index of smallest element = {np.argmin(arr)}, which is {np.min(arr)}')\n",
    "print(f'Sorted array: {np.sort(arr)}') # sorts array in ascending order\n",
    "print(f'The indices where the array is equal to 2: {np.where(arr==2)[0]}')\n",
    "print(f'Absolute values: {np.abs(arr)}')\n",
    "print(f'Sum of array: {np.sum(arr)}')\n",
    "print(f'Sum of the absolute values of the array: {np.sum(np.abs(arr))}')"
   ]
  },
  {
   "cell_type": "markdown",
   "id": "a8a4a461",
   "metadata": {},
   "source": [
    "***\n",
    "<span style=\"color: blue\"> <b>Exercise 3: Create a numpy array with only even numbers from 0 to 10 (including 10) using `np.arange()`. Then, with a for loop, calculate the mean of your array. Compare your answer with the result of `np.mean()`. </b> <br><br> Hint: You can refer to the previous exercise for calculating the sum of a list along with len(array) to finish calculating the average of your array. </span> \n",
    "\n",
    "***"
   ]
  },
  {
   "cell_type": "markdown",
   "id": "11709fb2",
   "metadata": {},
   "source": [
    "## Other Modules\n",
    "There are many other modules that can be used in Python. We'll briefly go over two of them, but feel free to google for more.\n"
   ]
  },
  {
   "cell_type": "markdown",
   "id": "7ea3a0e3",
   "metadata": {},
   "source": [
    "### SciPy\n",
    "\n",
    "SciPy is another library often used for scientific computing. It is built on NumPy and extends it to more functions and better accuracy in some cases. SciPy [user guide](https://docs.scipy.org/doc/scipy/tutorial/index.html#user-guide) provides a list of sub-packages. Some of the sub-packages useful for us are `linalg`, `stats`, `special`, `fftpack`, `integrate`, and `interpolate`. Please go over to the user guide and get acquainted with these functions. We can import any package (library) just as we did NumPy. \n"
   ]
  },
  {
   "cell_type": "markdown",
   "id": "64e7f8b1",
   "metadata": {},
   "source": [
    "### Pandas\n",
    "Pandas is used mainly for data visualilzation, manipulation, and analysis. It is far more powerful and convinient than microsoft excel for similar tasks. It can load data files of almost all formats and generate a series or a dataframe. A dataframe is simply a representation of tabular data. It is 2D (has rows and columns) and all elements, including complete rows and columns can be manipulated, e.g., deleted, added, imputed, visualized, extracted, etc. A great source of information on pandas and its capabilities are given on its official [website](https://pandas.pydata.org/docs/user_guide/index.html). "
   ]
  },
  {
   "cell_type": "markdown",
   "id": "fab62f4a",
   "metadata": {},
   "source": [
    "An example of how data is represented in a Pandas dataframe is given below:"
   ]
  },
  {
   "cell_type": "code",
   "execution_count": 127,
   "id": "506064cb",
   "metadata": {
    "ExecuteTime": {
     "end_time": "2024-05-09T00:47:09.357719Z",
     "start_time": "2024-05-09T00:46:41.558672Z"
    }
   },
   "outputs": [
    {
     "name": "stdout",
     "output_type": "stream",
     "text": [
      "<class 'pandas.core.frame.DataFrame'>\n"
     ]
    },
    {
     "data": {
      "text/html": [
       "<div>\n",
       "<style scoped>\n",
       "    .dataframe tbody tr th:only-of-type {\n",
       "        vertical-align: middle;\n",
       "    }\n",
       "\n",
       "    .dataframe tbody tr th {\n",
       "        vertical-align: top;\n",
       "    }\n",
       "\n",
       "    .dataframe thead th {\n",
       "        text-align: right;\n",
       "    }\n",
       "</style>\n",
       "<table border=\"1\" class=\"dataframe\">\n",
       "  <thead>\n",
       "    <tr style=\"text-align: right;\">\n",
       "      <th></th>\n",
       "      <th>Population</th>\n",
       "      <th>Country</th>\n",
       "    </tr>\n",
       "  </thead>\n",
       "  <tbody>\n",
       "    <tr>\n",
       "      <th>Stockholm</th>\n",
       "      <td>909976</td>\n",
       "      <td>Sweden</td>\n",
       "    </tr>\n",
       "    <tr>\n",
       "      <th>London</th>\n",
       "      <td>8615246</td>\n",
       "      <td>UK</td>\n",
       "    </tr>\n",
       "    <tr>\n",
       "      <th>Rome</th>\n",
       "      <td>2872086</td>\n",
       "      <td>Italy</td>\n",
       "    </tr>\n",
       "    <tr>\n",
       "      <th>Berlin</th>\n",
       "      <td>3769000</td>\n",
       "      <td>Germany</td>\n",
       "    </tr>\n",
       "  </tbody>\n",
       "</table>\n",
       "</div>"
      ],
      "text/plain": [
       "           Population  Country\n",
       "Stockholm      909976   Sweden\n",
       "London        8615246       UK\n",
       "Rome          2872086    Italy\n",
       "Berlin        3769000  Germany"
      ]
     },
     "execution_count": 127,
     "metadata": {},
     "output_type": "execute_result"
    }
   ],
   "source": [
    "import pandas as pd\n",
    "frame1 = pd.DataFrame([[909976,\"Sweden\"],\n",
    "                     [8615246,\"UK\"],\n",
    "                     [2872086,\"Italy\"],\n",
    "                     [3769000,\"Germany\"]],\n",
    "                    index=[\"Stockholm\",\"London\",\"Rome\",\"Berlin\"],\n",
    "                    columns = [\"Population\", \"Country\"])\n",
    "print(type(frame1))\n",
    "frame1 # prints the dataframe"
   ]
  },
  {
   "cell_type": "markdown",
   "id": "5ab31d8c",
   "metadata": {},
   "source": [
    "We can also generate a dataframe from a 2D numpy array"
   ]
  },
  {
   "cell_type": "code",
   "execution_count": 3,
   "id": "fc1e1edf",
   "metadata": {},
   "outputs": [
    {
     "data": {
      "text/html": [
       "<div>\n",
       "<style scoped>\n",
       "    .dataframe tbody tr th:only-of-type {\n",
       "        vertical-align: middle;\n",
       "    }\n",
       "\n",
       "    .dataframe tbody tr th {\n",
       "        vertical-align: top;\n",
       "    }\n",
       "\n",
       "    .dataframe thead th {\n",
       "        text-align: right;\n",
       "    }\n",
       "</style>\n",
       "<table border=\"1\" class=\"dataframe\">\n",
       "  <thead>\n",
       "    <tr style=\"text-align: right;\">\n",
       "      <th></th>\n",
       "      <th>0</th>\n",
       "      <th>1</th>\n",
       "      <th>2</th>\n",
       "    </tr>\n",
       "  </thead>\n",
       "  <tbody>\n",
       "    <tr>\n",
       "      <th>0</th>\n",
       "      <td>1</td>\n",
       "      <td>2</td>\n",
       "      <td>3</td>\n",
       "    </tr>\n",
       "    <tr>\n",
       "      <th>1</th>\n",
       "      <td>4</td>\n",
       "      <td>5</td>\n",
       "      <td>6</td>\n",
       "    </tr>\n",
       "    <tr>\n",
       "      <th>2</th>\n",
       "      <td>7</td>\n",
       "      <td>8</td>\n",
       "      <td>9</td>\n",
       "    </tr>\n",
       "    <tr>\n",
       "      <th>3</th>\n",
       "      <td>10</td>\n",
       "      <td>11</td>\n",
       "      <td>12</td>\n",
       "    </tr>\n",
       "    <tr>\n",
       "      <th>4</th>\n",
       "      <td>13</td>\n",
       "      <td>14</td>\n",
       "      <td>15</td>\n",
       "    </tr>\n",
       "  </tbody>\n",
       "</table>\n",
       "</div>"
      ],
      "text/plain": [
       "    0   1   2\n",
       "0   1   2   3\n",
       "1   4   5   6\n",
       "2   7   8   9\n",
       "3  10  11  12\n",
       "4  13  14  15"
      ]
     },
     "execution_count": 3,
     "metadata": {},
     "output_type": "execute_result"
    }
   ],
   "source": [
    "X = np.arange(1,16).reshape(5,3)\n",
    "frame = pd.DataFrame(X)\n",
    "frame"
   ]
  },
  {
   "cell_type": "markdown",
   "id": "8d2e3637",
   "metadata": {},
   "source": [
    "Pandas also allows reading from and writing to various file formats like csv, json, excel, etc. Please visit [RealPython](https://realpython.com/pandas-read-write-files/#using-the-pandas-read_csv-and-to_csv-functions) for concise description for all formats.\n"
   ]
  },
  {
   "cell_type": "markdown",
   "id": "cfe9c0ac",
   "metadata": {},
   "source": [
    "## Concluding Remarks\n",
    "\n",
    "Congratulations! You have completed the basic Python tutorial. There are tons of tutorials and resources out there you can use to learn more about Python or the modules most commonly used when coding in Python. You will learn with more practice, however, as there will be specific questions you will look for. Try solving the following problems in your own time:"
   ]
  },
  {
   "cell_type": "markdown",
   "id": "04108efa",
   "metadata": {},
   "source": [
    "1. Create a list of elements of your choice (different data-types) and print the elements one by one if the datatype is 'str' using first a for loop and then a while loop. <br><br>\n",
    "\n",
    "2. Create two lists (list1 and list2) of numbers- one from 1 to 10 with a spacing of 1 and the other from 2 to 20 with a spacing of 2. Obtain the element-wise sum of list1 and list2, i.e., list1[0]+list2[0], and so on if the i-th element of the list1 is greater than 5. Otherwise, calculate the element wise difference, i.e., list1[0]-list2[0]. <br><br>\n",
    "\n",
    "3. (Optional) Write a function that takes two parameters, prints them, and returns their sum, difference, product, and whether the numbers are prime or not. Test it by calling it with parameters 23 and 1000. Print your answers (returned variables) outside the function. <br><br>\n",
    "\n",
    "4. Find the functions that allow you to insert, delete, and remove the elements from an array. Also find the functions that can be used to directly and indirectly sort arrays (the two are different!). Please familiarize yourselves with what parameters the functions need. <br><br>\n",
    "\n",
    "5. Go to [GeeksforGeeks](https://www.geeksforgeeks.org/python-numpy/) or \n",
    "[w3schools](https://www.w3schools.com/python/numpy/numpy_intro.asp) to learn how to generate 1D and 2D arrays of random numbers with uniform, exponential, and normal distribution. Generate three arrays of 1000 elements, one for each distribution, and calculate their mean and variance. <br><br>\n",
    "\n",
    "6. Search for functions that perform dot and cross products. Also look for functions that perform matrix multiplication. For two 2D arrays, do the functions for dot product and the matrix multiplication give the same result? Is there any difference between the two? <br><br>\n",
    "\n",
    "7. (Optional) Write a function that takes two paramters, generates a matrix (or a 2D array) of size 10 by 10, with elements from a normal distribution with mean = parameter1 and standard deviation = parameter2. Change the elements of the array by multiplying the array by 100 and rounding the elements to the lower integer. Generate a second 10 by 10 array of ones and chnage its elements to 0 if the corresponding elements in the first array are below its mean value. Print both arrays and perform a matrix multiplication of the two. Also calculate the mean and standard deviation of the resultant matrix. Return the results.\n",
    "\n",
    "\n",
    "***"
   ]
  },
  {
   "cell_type": "code",
   "execution_count": null,
   "id": "efd2f7ef",
   "metadata": {},
   "outputs": [],
   "source": []
  }
 ],
 "metadata": {
  "hide_input": false,
  "kernelspec": {
   "display_name": "Python 3 (ipykernel)",
   "language": "python",
   "name": "python3"
  },
  "language_info": {
   "codemirror_mode": {
    "name": "ipython",
    "version": 3
   },
   "file_extension": ".py",
   "mimetype": "text/x-python",
   "name": "python",
   "nbconvert_exporter": "python",
   "pygments_lexer": "ipython3",
   "version": "3.11.4"
  },
  "toc": {
   "base_numbering": 1,
   "nav_menu": {},
   "number_sections": true,
   "sideBar": true,
   "skip_h1_title": true,
   "title_cell": "Table of Contents",
   "title_sidebar": "Contents",
   "toc_cell": false,
   "toc_position": {
    "height": "calc(100% - 180px)",
    "left": "10px",
    "top": "150px",
    "width": "506.3px"
   },
   "toc_section_display": true,
   "toc_window_display": false
  },
  "varInspector": {
   "cols": {
    "lenName": 16,
    "lenType": 16,
    "lenVar": 40
   },
   "kernels_config": {
    "python": {
     "delete_cmd_postfix": "",
     "delete_cmd_prefix": "del ",
     "library": "var_list.py",
     "varRefreshCmd": "print(var_dic_list())"
    },
    "r": {
     "delete_cmd_postfix": ") ",
     "delete_cmd_prefix": "rm(",
     "library": "var_list.r",
     "varRefreshCmd": "cat(var_dic_list()) "
    }
   },
   "types_to_exclude": [
    "module",
    "function",
    "builtin_function_or_method",
    "instance",
    "_Feature"
   ],
   "window_display": false
  }
 },
 "nbformat": 4,
 "nbformat_minor": 5
}
