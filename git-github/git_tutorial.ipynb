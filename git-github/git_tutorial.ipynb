{
 "cells": [
  {
   "cell_type": "markdown",
   "metadata": {},
   "source": [
    "# Tutorial: Git/GitHub\n",
    "\n",
    "`Git` is a **distributed version control system (VCS)** created to track changes in source code throughout the software development process. \n",
    "\n",
    "**It enables multiple developers to collaborate on a project, manage various file versions, and easily revert to earlier versions when necessary.** \n",
    "\n",
    "`Git` is widely adopted and is regarded as the standard for version control in software development.\n",
    "\n",
    "## Why Use Git?\n",
    "\n",
    "Here are the key reasons:\n",
    "\n",
    "**Collaboration:**  \n",
    "Git facilitates collaboration among multiple developers working on the same project, allowing them to work concurrently and merge their changes.\n",
    "\n",
    "**Version History:**  \n",
    "Git provides a complete history of your project, making it easy to revert to previous versions if necessary.\n",
    "\n",
    "**Backup and Recovery:**  \n",
    "Since each user has a full copy of the repository, it serves as a backup. The project can be restored from any user's copy if the main server goes down. \n",
    "\n",
    "Important note: it only serves as a backup if the repository is cloned on multiple independent devices.\n",
    "\n",
    "**Flexibility:**  \n",
    "Git's branching and merging capabilities allow for flexible workflows, making it easy to manage complex projects and experiment with new ideas.\n",
    "\n",
    "## Features\n",
    "\n",
    "**Version Control:**  \n",
    "`Git` tracks changes to files over time, allowing you to see who made changes, when they were made, and what those changes were.\n",
    "\n",
    "**Distributed Architecture:**  \n",
    "Unlike centralized systems, each user has a complete copy of the repository, including its entire history. This feature enables offline work and simplifies collaboration.\n",
    "\n",
    "**Branching and Merging:**  \n",
    "`Git` allows the creation of separate branches for developing new features or fixing bugs without affecting the main codebase. These branches can be merged back together later.\n",
    "\n",
    "**Staging Area:**  \n",
    "The staging area (also known as the index) lets you select specific changes to include in your next commit.\n",
    "\n",
    "**Commit:**  \n",
    "A commit is a snapshot of your changes, creating a new version of your project.\n",
    "\n",
    "**Remote Repositories:**  \n",
    "`Git` enables you to connect to remote servers (such as GitHub, GitLab, or Bitbucket) for sharing your work and collaborating with others."
   ]
  },
  {
   "cell_type": "markdown",
   "metadata": {},
   "source": [
    "## Import commands to know about\n",
    "\n",
    "* `git help`\n",
    "* `git status`\n",
    "* `git init`\n",
    "* `git commit`\n",
    "* `git diff`\n",
    "* `git log`\n",
    "* `git branch`\n",
    "* `git clone`\n",
    "* `git push`\n",
    "* `git pull`\n",
    "* `git revert`\n",
    "\n",
    "In the following, we will discuss (and use!) most of these commands."
   ]
  },
  {
   "cell_type": "markdown",
   "metadata": {},
   "source": [
    "## Installing git\n",
    "\n",
    "It's likely that git is already pre-installed on your UNIX system. If not, here are ways to install it:\n",
    "\n",
    "```shell\n",
    "brew install git # on MacOS\n",
    "sudo apt-get install git # on Ubuntu Linux\n",
    "```\n",
    "\n",
    "To check that `git` is installed properly, run\n",
    "\n",
    "```shell\n",
    "git --version\n",
    "```\n",
    "\n",
    "Before we can get started, we need to tell `git` who we are:\n",
    "```shell\n",
    "git config --global user.name '<insert your name>'\n",
    "git config --global user.email '<insert your email address>'\n",
    "```\n",
    "\n",
    "Please make sure to change the two commands to reflect your name and email address."
   ]
  },
  {
   "cell_type": "markdown",
   "metadata": {},
   "source": [
    "## Creating and cloning a repository\n",
    "To create an empty repository called `gitdemo`, we use the command\n",
    "\n",
    "```shell\n",
    "git init demo\n",
    "```\n",
    "\n",
    "Note that `demo` is used here as a dummy name for the repository. Feel free to use descriptive name for your projects.\n",
    "To clone (i.e., copy) an existing repository, we use\n",
    "\n",
    "```shell\n",
    "git clone https://github.com/cdrischler/compphysics-summer-tutorials\n",
    "```\n",
    "\n",
    "This clones the specified repository. `clone` also takes another argument, which specifies the desired name of the local copy. Otherwise, the name of the repository as specified remotely will be used.\n",
    "\n",
    "Note: it's preferred clone via secure protocols such as SSH.\n",
    "\n",
    "Once the repository is created or cloned, we can `cd` into it."
   ]
  },
  {
   "cell_type": "markdown",
   "metadata": {},
   "source": [
    "## Status\n",
    "Probably, the most used `git` command is \n",
    "```shell\n",
    "git status\n",
    "```\n",
    "\n",
    "Using this command, we get a summary of the current status of the working directory. It shows if we have modified, added, or removed files, and more.\n",
    "\n",
    "## Adding files and committing changes in\n",
    "\n",
    "To add a new file `<filename>` to the repository, we first create the file and then use \n",
    "\n",
    "```shell\n",
    "git add <filename>\n",
    "```\n",
    "\n",
    "We can create such as file conveniently from this Jupyter notebook, or we could use\n",
    "```shell\n",
    "vim README\n",
    "```"
   ]
  },
  {
   "cell_type": "code",
   "execution_count": null,
   "metadata": {
    "collapsed": false
   },
   "outputs": [
    {
     "name": "stdout",
     "output_type": "stream",
     "text": [
      "Writing README\n"
     ]
    }
   ],
   "source": [
    "%%file README\n",
    "\n",
    "Lorem ipsum dolor sit amet, consectetur adipiscing elit. Duis ullamcorper velit ac risus sagittis congue. "
   ]
  },
  {
   "cell_type": "markdown",
   "metadata": {},
   "source": [
    "What do you expect when running the following command?\n",
    "\n",
    "```shell\n",
    "git status\n",
    "```\n",
    "\n",
    "After having added the file `README`, the command `git status` lists it as an *untracked* file. \n",
    "\n",
    "To make `git` track the file, we need to add it (to the staging index):\n",
    "\n",
    "```shell\n",
    "git add README\n",
    "```\n",
    "\n",
    "Now, it is listed as a *new file* that has not yet been commited to the repository, as `git` status tell us:\n",
    "\n",
    "```shell\n",
    "git status\n",
    "```\n",
    "\n",
    "Next, we have to `commit` the changes to our repository:\n",
    "\n",
    "```shell\n",
    "git commit -m \"Added a README file\"\n",
    "```\n",
    "\n",
    "The `-m` argument allows us to specify a commit message, which should always be descriptive of what was changed. If you don't add the `-m` argument, your default editor will open, allowing you to compose longer and more descriptive commit messages.\n",
    "\n",
    "Now, `git status` should tell us that there are no local change in the working directory:\n",
    "\n",
    "```shell\n",
    "git status\n",
    "```\n",
    "\n",
    "In other words, our working directory is clean."
   ]
  },
  {
   "cell_type": "markdown",
   "metadata": {},
   "source": [
    "## Commiting changes"
   ]
  },
  {
   "cell_type": "markdown",
   "metadata": {},
   "source": [
    "`git status` lists tracked files that have been changed as *modified*.\n",
    "Let's change the file we just created by adding another paragraph."
   ]
  },
  {
   "cell_type": "code",
   "execution_count": null,
   "metadata": {
    "collapsed": false
   },
   "outputs": [
    {
     "name": "stdout",
     "output_type": "stream",
     "text": [
      "Overwriting README\n"
     ]
    }
   ],
   "source": [
    "%%file README\n",
    "\n",
    "Lorem ipsum dolor sit amet, consectetur adipiscing elit. Duis ullamcorper velit ac risus sagittis congue. \n",
    "\n",
    "Fusce ut arcu sed massa scelerisque ultrices. Phase vitae tellus porttitor, elementum nulla ac, dignissim eros."
   ]
  },
  {
   "cell_type": "markdown",
   "metadata": {
    "collapsed": false
   },
   "source": [
    "What do you expect the output of this line to be?\n",
    "\n",
    "```shell\n",
    "git status\n",
    "```\n",
    "\n",
    "Next, we commit this change in:\n",
    "\n",
    "```shell\n",
    "git commit -m \"Added a paragraph to the README file\"\n",
    "```\n",
    "\n",
    "What do you expect the output of this line to be?\n",
    "\n",
    "```shell\n",
    "git status\n",
    "```"
   ]
  },
  {
   "cell_type": "markdown",
   "metadata": {},
   "source": [
    "## Removing and moving files\n",
    "\n",
    "To remove the file `<filename>` in the repository, we use \n",
    "\n",
    "```shell \n",
    "git rm <filename>\n",
    "```"
   ]
  },
  {
   "cell_type": "code",
   "execution_count": null,
   "metadata": {
    "collapsed": false
   },
   "outputs": [
    {
     "name": "stdout",
     "output_type": "stream",
     "text": [
      "Writing tmpfile\n"
     ]
    }
   ],
   "source": [
    "%%file tmpfile\n",
    "\n",
    "This is a temporary file that was not meant to be added to the repository."
   ]
  },
  {
   "cell_type": "markdown",
   "metadata": {},
   "source": [
    "Let's pretend we add this file unintentionally to the repository:\n",
    "\n",
    "```shell\n",
    "git add tmpfile\n",
    "git commit -m \"adding file tmpfile\"\n",
    "git status\n",
    "```\n",
    "\n",
    "Ah, we didn't intend to so let's remove it again.\n",
    "\n",
    "```shell\n",
    "git rm tmpfile\n",
    "git commit -m \"remove temporary file that was unintentionally added\" \n",
    "git status\n",
    "```\n",
    "\n",
    "Note that we corrected the \"mistake\". But `git` keeps track of all changes, intended and unintended ones. This is a huge upside!\n",
    "\n",
    "Likewise, for simply moving a file `<filename>` in the repository, we use \n",
    "\n",
    "```shell \n",
    "git mv <filename>"
   ]
  },
  {
   "cell_type": "markdown",
   "metadata": {},
   "source": [
    "## Commit logs"
   ]
  },
  {
   "cell_type": "markdown",
   "metadata": {},
   "source": [
    "The messages that are added to the commit command are supposed to give a brief yet informative description of the content of the commit. \n",
    "\n",
    "We inspect the repository's history  using the command:\n",
    "\n",
    "```shell\n",
    "git log\n",
    "```\n",
    "\n",
    "Note that each commit is assigned a unique identifier, a SHA, which looks like `9b704e12f58b8275ff7950e97f25d6fd889ffc07`.\n",
    "\n",
    "Each commit is also specifies the author, with contact information, who created it and the time at which it was created."
   ]
  },
  {
   "cell_type": "markdown",
   "metadata": {},
   "source": [
    "## Diff\n",
    "\n",
    "To see changes with respect to the staging area, we use \n",
    "```shell \n",
    "git diff\n",
    "```\n",
    "\n",
    "Let's give it a try:"
   ]
  },
  {
   "cell_type": "code",
   "execution_count": null,
   "metadata": {
    "collapsed": false
   },
   "outputs": [
    {
     "name": "stdout",
     "output_type": "stream",
     "text": [
      "Overwriting README\n"
     ]
    }
   ],
   "source": [
    "%%file README\n",
    "\n",
    "Lorem ipsum dolor sit amet, consectetur adipiscing elit. Duis est nunc ullamcorper velit ac risus sagittis congue. \n",
    "\n",
    "Fusce ut arcu sed massa scelerisque ultrices. Phase vitae tellus porttitor, elementum nulla ac, dignissim eros."
   ]
  },
  {
   "cell_type": "markdown",
   "metadata": {
    "collapsed": false
   },
   "source": [
    "Now, let's see what the changes are:\n",
    "\n",
    "```\n",
    "git diff README\n",
    "```"
   ]
  },
  {
   "cell_type": "markdown",
   "metadata": {},
   "source": [
    "What has changed?\n",
    "\n",
    "If `README` is omitted, we will get a `diff` of all modified files in the working directory."
   ]
  },
  {
   "cell_type": "markdown",
   "metadata": {},
   "source": [
    "## Discard changes in the working directory"
   ]
  },
  {
   "cell_type": "markdown",
   "metadata": {},
   "source": [
    "To discard changes in the working directory and revert to the version of a file stored in the repository, we use:\n",
    "\n",
    "```shell\n",
    "git checkout -- README\n",
    "git status\n",
    "```"
   ]
  },
  {
   "cell_type": "markdown",
   "metadata": {},
   "source": [
    "## Examine previous revisions"
   ]
  },
  {
   "cell_type": "markdown",
   "metadata": {},
   "source": [
    "If we want to get the code for a specific revision, we use the command `git checkout` and pass the SHA of the commit we want to checkout:\n",
    "\n",
    "```shell\n",
    "git log\n",
    "git checkout <insert SHA: looks like c79d7cfa77d831f4bfbb15ea76721949118c10ec>\n",
    "```\n",
    "\n",
    "Now, explore repository at the previous snapshot you just checked out. What do you find?\n",
    "\n",
    "We return to the latest version of our repository using:\n",
    "\n",
    "```shell\n",
    "git checkout main \n",
    "```\n",
    "\n",
    "You can verify that we are back in the latest version, e.g.,\n",
    "\n",
    "```shell\n",
    "less README\n",
    "git status\n",
    "```"
   ]
  },
  {
   "cell_type": "markdown",
   "metadata": {},
   "source": [
    "## Revert\n",
    "\n",
    "To revert a modifications in a commit, we use \n",
    "\n",
    "```shell\n",
    "git revert <SHA>\n",
    "```\n",
    "\n",
    "The default editor will open, allowing the user to compose a commit message detailing why this commit is reverted."
   ]
  },
  {
   "cell_type": "markdown",
   "metadata": {},
   "source": [
    "## Branching\n",
    "\n",
    "Branches allow us to **create different versions** of the working directory within the same repository. \n",
    "\n",
    "They are particularly useful for **experimental development** or new features that involves significant changes, which could potentially disrupt the functionality of the main branch (e.g., where the release version is located). \n",
    "\n",
    "Once the development of a branch reaches a stable state, it can be **merged** into the main branch. \n",
    "\n",
    "Using the strategy of branching, development, and merging is effective when multiple people are **collaborating** on the same shared repository. \n",
    "\n",
    "However, even in repositories managed by a single author, it can be beneficial to maintain the main branch in a working state (e.g., containing the release version). \n",
    "\n",
    "**It is advisable to create a branch before implementing a new feature and later merge it back into the main branch.**\n",
    "\n",
    "We create a new branch called `feature` using\n",
    "\n",
    "```shell\n",
    "git checkout -c feature\n",
    "```\n",
    "\n",
    "To list a branches, we use\n",
    "\n",
    "```shell\n",
    "git branch -a\n",
    "```\n",
    "\n",
    "We switch back to the `main` branch (or like so to any another (existing) branch):\n",
    "\n",
    "```shell\n",
    "git checkout main\n",
    "```\n",
    "\n",
    "Now, let's go back to `feature` and make some changes:\n",
    "\n",
    "```shell\n",
    "git checkout feature\n",
    "```\n",
    "\n",
    "Note that we didn't specify `-c`, which creates a new branch."
   ]
  },
  {
   "cell_type": "code",
   "execution_count": null,
   "metadata": {},
   "outputs": [],
   "source": [
    "%%file README\n",
    "\n",
    "Lorem ipsum dolor sit amet, consectetur adipiscing elit. Cras eleifend erat nec augue aliquet, non sollicitudin augue maximus. Sed laoreet laoreet enim vitae pretium. Fusce non nisi massa. Nulla egestas massa in congue imperdiet. Phase at dignissim leo. Donec at dictum mauris. Suspendisse quam velit, luctus vitae blandit rhoncus, suscipit at sem. Nullam facilisis feugiat pharetra. Curabitur eu iaculis urna.\n",
    "\n",
    "Nulla ullamcorper dignissim ex, id pulvinar est consectetur eu. Lorem ipsum dolor sit amet, consectetur adipiscing elit. Sed a odio vestibulum, porttitor ipsum sed, tempor tellus. In consectetur condimentum lorem non interdum. Fusce nec efficitur urna, sed tempor sapien. Nunc nunc eros, rutrum a iaculis in, luctus eu dui. Fusce convallis enim odio, sit amet luctus velit pulvinar eget. Phase eu ipsum molestie, efficitur nibh ac, sodales leo. Aliquam malesuada odio non accumsan aliquet. Nulla ex metus, aliquam at lectus non, sollicitudin semper turpis. Suspendisse nec porttitor orci. "
   ]
  },
  {
   "cell_type": "markdown",
   "metadata": {},
   "source": [
    "What do you expect from the lines below?\n",
    "\n",
    "```shell\n",
    "git commit -m \"edited README in feature branch\"\n",
    "git branch\n",
    "git checkout main\n",
    "git branch\n",
    "```\n",
    "\n",
    "We can merge an existing branch and all its edits into another branch (for example the `main` branch) like this:\n",
    "\n",
    "To do so, we need to `checkout` to the target branch, here `main`:\n",
    "```shell\n",
    "git checkout main\n",
    "git merge feature\n",
    "git branch \n",
    "```\n",
    "\n",
    "After the merge is complete, we can delete the branch `feature` using:\n",
    "\n",
    "```shell\n",
    "git branch -d feature\n",
    "git branch\n",
    "less README\n",
    "```\n",
    "\n",
    "**What happens if you merge two branches in which the same file has been edited?**\n",
    "\n",
    "If two different lines in the file were changed, `git` can automatically merge the two files. The merged file will contain both edited lines. \n",
    "\n",
    "This feature makes Git, especially in combination with remote repositories, an **excellent tool for collaboration**!\n",
    "\n",
    "However, if the same line was changed, then Git has no way to know which one is the \"correct\" one. \n",
    "\n",
    "The result is a so-called **merge conflict**. That means, the Git user has to decide manually which one (or neither) to use. \n",
    "\n",
    "If you in this situation, you can abort the merge (without losing your data) using\n",
    "\n",
    "```shell\n",
    "git merge --abort\n",
    "```\n",
    "\n",
    "To identify which file caused the merge conflict, use `git status`, locate the file(s) that were changed in both branches, and edit them as needed. \n",
    "\n",
    "Git marks the conflicting edits in the file(s) that caused the merge conflict. Convenient, right?"
   ]
  },
  {
   "cell_type": "markdown",
   "metadata": {},
   "source": [
    "## Interfacing with remote repositories\n",
    "\n",
    "Cloned repositories, e.g., those from `GitHub`, know the web address of the remote repository is originated from (i.e., the `origin` repository).\n",
    "\n",
    "```shell\n",
    "git remote\n",
    "git remote show origin\n",
    "```\n",
    "\n",
    "We \n",
    "* retrieve changes from the `origin` repository by \"pulling\" and \n",
    "* update the `origin` repository with our change by \"pushing\".\n",
    "\n",
    "```shell\n",
    "git pull origin\n",
    "```\n",
    "\n",
    "The keyword `origin` is optional because `origin` is the default remote repository.\n",
    "\n",
    "This procedure allows us to work with multiple remote repositories simultaneously.\n",
    "\n",
    "The usual workflow is as follows:\n",
    "\n",
    "1. Before we start working, we `git pull` to make sure we have the most recent version of the repository.\n",
    "2. We make changes in our working directory.\n",
    "3. We `git add` and then `git commit` changes to our local repository. \n",
    "4. We `git push` thoses commits to the remote repository.\n",
    "\n",
    "For example:\n",
    "\n",
    "```shell\n",
    "git status\n",
    "git pull\n",
    "git add README\n",
    "git commit -m \"added README\" \n",
    "git push\n",
    "```\n",
    "\n",
    "Note that `git push` requires read/write access to the remote repository, which you may not have."
   ]
  },
  {
   "cell_type": "markdown",
   "metadata": {},
   "source": [
    "## GitHub and similar service providers\n",
    "\n",
    "`GitHub` is a popular hosting service for `git` repositories, widely used for both open- and closed-source projects.\n",
    "\n",
    "Using a hosted repository makes it easy to collaborate with your colleagues on the same repository, which may contain source code or LaTeX documents, or both at the same time. \n",
    "\n",
    "`GitHub` offers a graphical user interface, allowing you to browse the code, view commit logs, and track issues, among other features.\n",
    "\n",
    "**Popular hosting services for git:**\n",
    "- GitHub (free subscription with you Ohio U email address)\n",
    "- GitLab\n",
    "- Bitbucket"
   ]
  }
 ],
 "metadata": {
  "kernelspec": {
   "display_name": "Python 3",
   "language": "python",
   "name": "python3"
  },
  "language_info": {
   "codemirror_mode": {
    "name": "ipython",
    "version": 2
   },
   "file_extension": ".py",
   "mimetype": "text/x-python",
   "name": "python",
   "nbconvert_exporter": "python",
   "pygments_lexer": "ipython2",
   "version": "3.13.3"
  }
 },
 "nbformat": 4,
 "nbformat_minor": 0
}
