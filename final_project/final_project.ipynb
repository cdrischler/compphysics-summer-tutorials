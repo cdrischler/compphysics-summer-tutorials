{
 "cells": [
  {
   "cell_type": "markdown",
   "id": "733191be",
   "metadata": {},
   "source": [
    "# Final Project: a small research project\n",
    "\n",
    "**Course Title: Special Topics in Physics: 2024 Summer Tutorials on Computational Physics (PHYS 6900)**   \n",
    "**Submit all files by Thursday, June 14, 2024, at 4 pm by emailing them to <drischler@ohio.edu> in a zipped folder.**\n",
    "\n",
    "**Rules:**\n",
    "\n",
    "* You can use all resources discussed in the tutorials. You are NOT allowed to use any AI resources, including ChatGPT.\n",
    "* **Collaborating with other students attending this class is allowed and encouraged.** However, plain copying of solutions is not allowed.\n",
    "* Answer the questions in this Jupyter notebook and use `Python3` for your computations. Solutions in other programming languages will not be accepted.\n",
    "* Comment your programs adequately so we know that you understand your code. Your functions should have at least a one-line [docstring](https://peps.python.org/pep-0257/) that explains its purpose.\n",
    "* This Jupyter notebook is expected to run from the top to the bottom. Restart the kernel and run all cells in order, e.g., using `Kernel > Restart & Run All` to check.\n",
    "* Label your plots adequately, e.g., so we know what is plotted and what the axes mean. Show legends with meaningful labels if more than one dataset is plotted.\n",
    "* Explain your solutions clearly through coherent text and, if necessary, expressions in markdown cells.\n",
    "* Your are highly encouraged to work on **optional exercises** if your time permits it."
   ]
  },
  {
   "cell_type": "markdown",
   "id": "5ae0a58f",
   "metadata": {},
   "source": [
    "## Radial Growth of Axons in Rats\n",
    "\n",
    "Neurons are the basic unit of the nervous system. They communicate by means of electrical signals, which are transmitted along the length of their axons. The [axon](https://en.wikipedia.org/wiki/Axon) is a long slender projection that extends from the neuronal cell body. The rate of propagation of these signals, and in turn, neuronal function, is influenced by the axon’s diameter; the larger the diameter, the faster signals travel. Thus, the growth of axonal diameter is a crucial developmental process to understand. <br><br>\n",
    "Neurofilaments (NFs) are the most abundant structures that are known for their space-filling role in the axon. They are protein polymers transported along microtubule tracks in the axon. Experimental studies by Hoffman et al. (1984) on the sciatic nerve of rats demonstrated that the number of NFs increases with the axonal cross-sectional area, highlighting NFs' contribution to axonal growth.\n",
    "<br><br>\n",
    "In [this very recent study](https://doi.org/10.1091/mbc.E22-12-0565), these experimental morphometric data were extracted and used to constrain the computational model developed to quantitatively describe how NFs contribute to the modulation of axonal diameter. Results showed that an increase in their influx from the cell body and slowing of their transport along the axon are the two mechanisms in which they help regulate radial growth through development.\n",
    "<br><br>\n",
    "In this exercise, we will simulate a small research project: you will use the morphometric data collected by Hoffman et al. (1984 and 1985) from growing axons in the sciatic nerve of rats up to 18 weeks of age to:\n",
    "\n",
    "1) Plot the data along with the equations describing them;\n",
    "2) Analyze the data to extract crucial information about axonal growth; and\n",
    "3) Compare your findings with the data and interpretations presented in the referenced study.\n",
    "\n",
    "We will also practice the other skills you have learned in the 2024 Summer Tutorials, including UNIX and Git. Let's get started.\n",
    "***"
   ]
  },
  {
   "cell_type": "markdown",
   "id": "19e6cf26",
   "metadata": {},
   "source": [
    "## Growth Curve\n",
    "\n",
    "### Import and plot the time vs. area data. \n",
    "\n",
    "The goal here is to produce a graph similar to Figure 1A in [this paper](https://www.molbiolcell.org/doi/epdf/10.1091/mbc.E22-12-0565).\n",
    "\n",
    "* Download the course's GitHub repository to your hard drive. Which `git` command did you use? Navigate to the exercise folder. \n",
    "  * Create the new subdirectory `datap`. How?\n",
    "  * Navigate into the folder. What is the current path? List the content of this folder with details.\n",
    "  * Step out of the folder `datap`. Move the two data files to `datap` all at once. How? (Hint: Wildcards)\n",
    "  * Delete the folder `datap`. How?\n",
    "  * Retrieve the two data files from the repository. Which `git` command did you use?\n",
    "  * Create the new subdirectory `data` and move the two data files into that new folder.\n",
    "  * Add a comment line to the beginning of each of the two data files using the text editor `vi`. The comment should include the date and the origin of the data (i.e., the link to the paper and the scientific citation).\n",
    "  * Check the status of the repository. Add the new folder structure to the repository and commit. How did you choose your commit message?\n",
    "  * How would you upload your changes if you had read/write access to the remote repository on GitHub?\n",
    "\n",
    "* You can use NumPy or Pandas to import the data from the `time_area_(Hoff.85)` file in the folder `data`. Make sure to include `','` as the delimiter and import the data as `float`. Print the data once imported. You should have a 13x2 matrix, the first column represents time in weeks and the second column is the axonal cross-sectional area $A$ in units of $\\mu m^2$. Check the documentation of the read-in function you used if the comment line causes an issue. <br><br>\n",
    "\n",
    "* Slice the imported data and assign the first (time) column to one variable and the second (area) column to another variable; that way, you have two one-dimensional arrays. <br><br>\n",
    "\n",
    "* Plot the data. Make sure to add the appropriate labels for the axes with the area on the y-axis and time on the x-axis. Don't forget to include the units! Use $\\LaTeX$ commands.<br><br>\n",
    "\n",
    "* Have the limits of the **x-axis** be: $0 \\rightarrow 21$ and **y-axis** be: $0 \\rightarrow 100$. <br><br>\n",
    "\n",
    "* To get the same scaling as in the original figure, have the ticks of the **x-axis** range from 0 to 23 in steps of 3. You can use `np.arange` to do so. <br><br>\n",
    "\n",
    "* You can use any marker style or color. Just make sure the data points are plotted using **symbols**, not lines."
   ]
  },
  {
   "cell_type": "code",
   "execution_count": null,
   "id": "d9e64ef5",
   "metadata": {},
   "outputs": [],
   "source": []
  },
  {
   "cell_type": "markdown",
   "id": "6c955e9e",
   "metadata": {},
   "source": [
    "### Axonal area through time\n",
    "\n",
    "A linear regression was performed on the data to find an equation that describes how the area changes through growth. The resultant relationship obtained is (refer to Eq. (1) in the paper)\n",
    "\n",
    "$$\n",
    "A(t) = 2.93~t + 16.2 \n",
    "$$\n",
    "\n",
    "* Define a function that takes a variable $x$ and returns the result of this equation. <br><br>\n",
    "* Generate an array with times of $t_i = 0$ as the first element and $t_f = 21$ weeks as the last element with 100 elements in between. You can use either `np.arange` or `np.linspace`. <br><br>\n",
    "* Use the function and the array with the times you have defined to calculate the axonal area. Plot the resultant line on the same graph as the data with the same labels and axes attributes as before. Label the data points as 'data' and the line as 'regression'. Don't forget to show the legend. You should now have the same graph as the original Figure 1A.\n",
    "* Export the final figure to `figure_1_matplotlib.pdf`."
   ]
  },
  {
   "cell_type": "code",
   "execution_count": null,
   "id": "7b58db03",
   "metadata": {},
   "outputs": [],
   "source": []
  },
  {
   "cell_type": "markdown",
   "id": "d7dc6d1d",
   "metadata": {},
   "source": [
    "**Optional:** Recreate the same figure in `gnuplot`. Define the linear function, $A(t) = a~t + b$, and then set the two parameters to $a = 2.93$ and $b = 16.2$. Export the result to the PDF `figure_1_gnuplot.pdf`."
   ]
  },
  {
   "cell_type": "markdown",
   "id": "7a8dc67d",
   "metadata": {},
   "source": [
    "## Neurofilaments Abundance\n",
    "\n",
    "Now, let's look into the NF data obtained from Hoffman et al. (1984). Let's use Python and `matplotlib`.\n",
    "\n",
    "### Import and plot the area vs. NF data\n",
    "\n",
    "* Follow the same steps as before to import, print and plot the number of NFs as a function of axonal area, using the data from the `area_nf_(Hoff.84)` in the folder `data`. You should have the same data plot as Figure 1B in the paper. Don't forget to include the units in your labels. <br><br>\n",
    "\n",
    "* Set the limits of the $x$ and $y$ axes as well as the ranges of their ticks to appear exactly the same as the original Figure 1B. <br><br>\n",
    "\n",
    "* Again, since these are data points, use symbols with no lines connecting them. <br><br>\n",
    "\n",
    "* Check the [Numpy documentation](https://numpy.org/doc/stable/index.html) as to whether it implements a function to perform a simple (polynomial) fit to the data. If so, perform such a model fit. What degree do you suggest for the polynomial? What are the fitted parameters of the model? <br><br>\n",
    "\n",
    "* Add a legend and export the final figure to `figure_1b.pdf`."
   ]
  },
  {
   "cell_type": "code",
   "execution_count": null,
   "id": "8a94969f",
   "metadata": {},
   "outputs": [],
   "source": []
  },
  {
   "cell_type": "markdown",
   "id": "daef1f8f",
   "metadata": {},
   "source": [
    "### Optional: The number of NFs as a function of time\n",
    "\n",
    "Another linear regression was performed on the area vs. NFs data to find the relationship between them, and the regression resulted in the equation (Eq. (2) in the paper)\n",
    "\n",
    "$$\n",
    "N_{NF}(A) = 115~A - 88\n",
    "$$\n",
    "\n",
    "> Bonus: you can reproduce the original Figure 1B by generating an array of areas ranging from $A=0 \\rightarrow 80~\\mu m^2$ with enough elements to calculate the corresponding number of NFs using this equation."
   ]
  },
  {
   "cell_type": "markdown",
   "id": "fadb1c80",
   "metadata": {},
   "source": [
    "* Using this equation along with Eq. (1), find the number of NFs as a function of time, and define another function with the resultant equation for $N_{NF}(t)$. <br><br>\n",
    "\n",
    "* Using your defined function, find the number of NFs after 3 months of growth. (Hint: your equation for $N_{NF}(t)$ should have the time in the units of weeks. This point of growth in time is a significant stage of development for the axon. Feel free to read the paper to find out more about this critical stage of growth.<br><br>\n",
    "\n",
    "* Generate a time array that ranges from 3 to 21 weeks with whatever length you choose. You can use the time array you have generated before. Use your defined function for $N_{NF}(t)$ to calculate the number of NFs for each element of this array and plot your results. What do you expect your plot to look like?"
   ]
  },
  {
   "cell_type": "code",
   "execution_count": null,
   "id": "928b42f9",
   "metadata": {},
   "outputs": [],
   "source": []
  },
  {
   "cell_type": "markdown",
   "id": "46fef600",
   "metadata": {},
   "source": [
    "## Optional: Estimating uncertainties\n",
    "\n",
    "The original Hoffman et al. papers did not include error bars with any data point plotted. You can try to run your own analysis. In the following, you will calculate the means and errors associated with the time vs. area data. <br><br> You can see that for all times (except at 18 weeks), the measurement of the area was taken three times. Given that the data was also extracted from Figure 6 in [Hoffman et al. (1985)](https://www.jneurosci.org/content/jneuro/5/11/2920.full.pdf) using a plot digitizer software, uncertainties arose in the time data as well. Here is how you can calculate the uncertainties in both times extracted and areas measured:\n",
    "\n",
    "* Exclude the last data point and use the `np.mean` and `np.std` functions to calculate the means and standard deviations of the times and areas that have relatively close values (first three points, second three points and so on). In other words, you will divide the dataset into groups, each with three points. \n",
    "> Hint: use a `for` or a `while` statement that loops over the length of the arrays minus one with a loop step of 3 and store your averages and standard deviations in new arrays/lists.\n",
    "<br><br>\n",
    "* The `np.std` function calculates the standard deviation of a certain array along a certain axis ([see the documentation](https://numpy.org/doc/stable/reference/generated/numpy.std.html)), that is the deviation of the elements of that array from their mean, i.e,<br><br>\n",
    "$$\n",
    "\\sigma_x = \\sqrt{\\frac{\\sum_i {\\left( {x_i-\\bar x} \\right)^2}}{N} }\n",
    "$$ <br> where $N$ is the number of data points involved in calculating one mean (3 in our case). What we really want here is the standard error of the mean, i.e. <br><br>\n",
    "$$\n",
    "\\boxed{\\sigma_{\\bar x} = \\frac{\\sigma_x}{\\sqrt{N}}}\n",
    "$$ <br>To calculate the standard errors in the time and area means, use the arrays/lists resultant from your calculations of the standard deviations in the boxed equations.\n",
    "> Hint: if you stored your standard deviations in lists, make sure to first convert them to NumPy arrays. This will allow you to perform easier, single-lined calculations.\n",
    "<br><br>\n",
    "* Refer back to your first plot and verify your results: do your results make sense? Where do you find variability the most? "
   ]
  },
  {
   "cell_type": "code",
   "execution_count": null,
   "id": "6846eb6f",
   "metadata": {},
   "outputs": [],
   "source": []
  },
  {
   "cell_type": "markdown",
   "id": "278b0e2f",
   "metadata": {},
   "source": [
    "## Optional: Wrapping up\n",
    "\n",
    "Make sure you are signed up for a free [GitHub](https://github.com/) account (necessary for the Computational Physics lecture in the fall). You can even get GitHub Pro for free [through Ohio University](https://help.ohio.edu/TDClient/30/Portal/KB/ArticleDet?ID=499). Just follow the link and the instructions.  \n",
    "\n",
    "Please answer the following questions: What does..\n",
    "\n",
    "* ... `git status` show?\n",
    "* ... `git diff` show? Why is the output useful?\n",
    "\n",
    "Add all of these changes in this folder to your local Git repository. Choose a meaningful commit message.\n",
    "* Which `git` commands do you need for that? \n",
    "* What does `git log` show?\n",
    "* What do `git status` and `git diff` show?\n",
    "* Which `git` command would you use to share your work with your collaborators on GitHub?\n",
    "\n",
    "Please answer the following questions:\n",
    "\n",
    "1. Does Git back up your data? Explain.\n",
    "2. What is a branch? Explain the concept of branching. Why is it so useful?\n",
    "3. Does Git automatically add new files to the repository and start tracking them?\n",
    "4. What is a SHA and what (important) role does it play for Git?\n",
    "\n",
    "Zip the entire folder in which this Jupyter notebook resides, including **all** files, and email the zipped file to <drischler@ohio.edu> by June 13 at 4 pm. The notebook has to run entirely, from the top to the bottom."
   ]
  },
  {
   "cell_type": "markdown",
   "id": "e8941e2c",
   "metadata": {},
   "source": [
    "## References\n",
    "\n",
    "* Hoffman, P., Griffin, J., Gold, B., & Price, D. (1985). Slowing of neurofilament transport and the radial growth of developing nerve fibers. the Journal of Neuroscience, 5(11), 2920–2929. https://doi.org/10.1523/jneurosci.05-11-02920.1985 <br><br>\n",
    "\n",
    "* Hoffman, P. N., Griffin, J. W., & Price, D. L. (1984). Control of axonal caliber by neurofilament transport. the Journal of Cell Biology, 99(2), 705–714. https://doi.org/10.1083/jcb.99.2.705 <br><br>\n",
    "\n",
    "* Nowier, R. M., Friedman, A., Brown, A., & Jung, P. (2023). The role of neurofilament transport in the radial growth of myelinated axons. Molecular Biology of the Cell, 34(6). https://doi.org/10.1091/mbc.e22-12-0565\n"
   ]
  }
 ],
 "metadata": {
  "hide_input": false,
  "kernelspec": {
   "display_name": "Python 3 (ipykernel)",
   "language": "python",
   "name": "python3"
  },
  "language_info": {
   "codemirror_mode": {
    "name": "ipython",
    "version": 3
   },
   "file_extension": ".py",
   "mimetype": "text/x-python",
   "name": "python",
   "nbconvert_exporter": "python",
   "pygments_lexer": "ipython3",
   "version": "3.11.4"
  },
  "toc": {
   "base_numbering": 1,
   "nav_menu": {
    "height": "328px",
    "width": "302px"
   },
   "number_sections": true,
   "sideBar": true,
   "skip_h1_title": true,
   "title_cell": "Table of Contents",
   "title_sidebar": "Contents",
   "toc_cell": false,
   "toc_position": {
    "height": "calc(100% - 180px)",
    "left": "10px",
    "top": "150px",
    "width": "307.2px"
   },
   "toc_section_display": false,
   "toc_window_display": false
  },
  "varInspector": {
   "cols": {
    "lenName": 16,
    "lenType": 16,
    "lenVar": 40
   },
   "kernels_config": {
    "python": {
     "delete_cmd_postfix": "",
     "delete_cmd_prefix": "del ",
     "library": "var_list.py",
     "varRefreshCmd": "print(var_dic_list())"
    },
    "r": {
     "delete_cmd_postfix": ") ",
     "delete_cmd_prefix": "rm(",
     "library": "var_list.r",
     "varRefreshCmd": "cat(var_dic_list()) "
    }
   },
   "types_to_exclude": [
    "module",
    "function",
    "builtin_function_or_method",
    "instance",
    "_Feature"
   ],
   "window_display": false
  }
 },
 "nbformat": 4,
 "nbformat_minor": 5
}
