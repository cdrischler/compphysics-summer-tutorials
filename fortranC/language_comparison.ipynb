{
 "cells": [
  {
   "cell_type": "markdown",
   "id": "2cb6c2d3",
   "metadata": {},
   "source": [
    "# Implementations of the `exp` function"
   ]
  },
  {
   "cell_type": "code",
   "execution_count": 1,
   "id": "5cac64f8",
   "metadata": {},
   "outputs": [],
   "source": [
    "num_eval = 1000\n",
    "x_eval = 2."
   ]
  },
  {
   "cell_type": "markdown",
   "id": "927bafee",
   "metadata": {},
   "source": [
    "## C++"
   ]
  },
  {
   "cell_type": "markdown",
   "id": "f081ffb1",
   "metadata": {},
   "source": [
    "Let's use this Jupyter notebook to write a `cpp` file with an implementation of the `exp` function"
   ]
  },
  {
   "cell_type": "code",
   "execution_count": 2,
   "id": "e6e48668",
   "metadata": {},
   "outputs": [
    {
     "name": "stdout",
     "output_type": "stream",
     "text": [
      "Overwriting cexp_func.cpp\n"
     ]
    }
   ],
   "source": [
    "%%file cexp_func.cpp\n",
    "#include <cstdio>\n",
    "#include <cstdlib>\n",
    "#include <cmath>\n",
    "\n",
    "extern \"C\" // required when using C++ compiler\n",
    "double sum_exp(int nmax, double x){\n",
    "    double sum = 1.0;\n",
    "    double element = 1.0;\n",
    "    // summation\n",
    "    for(int n=1; n<=nmax; n++) {\n",
    "        element *= x / static_cast<double>(n);\n",
    "        sum += element;\n",
    "    }\n",
    "    return sum;\n",
    "}\n",
    "\n",
    "\n",
    "int main(int argc, char* argv[]){\n",
    "    int nmax = 1;\n",
    "    if(argc > 1)\n",
    "        nmax = atoi(argv[1]);\n",
    "    for(int i=2; i<argc; i++){\n",
    "        double x = atof(argv[i]);\n",
    "        double tmp = sum_exp(nmax, x);\n",
    "        printf(\"exp( %.2f ) = %.4f (error: %.e)\\n\", x, tmp, exp(x)-tmp);\n",
    "    }\n",
    "    return 0;\n",
    "}\n"
   ]
  },
  {
   "cell_type": "markdown",
   "id": "4a1db5ba",
   "metadata": {},
   "source": [
    "Now, we can compile the generate file and execute it:"
   ]
  },
  {
   "cell_type": "code",
   "execution_count": 3,
   "id": "34b543ec",
   "metadata": {},
   "outputs": [
    {
     "name": "stdout",
     "output_type": "stream",
     "text": [
      "exp( 1.00 ) = 2.7183 (error: 3e-08)\r\n",
      "exp( 2.00 ) = 7.3890 (error: 6e-05)\r\n",
      "exp( -3.00 ) = 0.0533 (error: -4e-03)\r\n"
     ]
    }
   ],
   "source": [
    "!g++ -O3 -o cexp_func cexp_func.cpp\n",
    "!./cexp_func 10 1 2 -3"
   ]
  },
  {
   "cell_type": "markdown",
   "id": "6f2c9fea",
   "metadata": {},
   "source": [
    "Note that the first argument is `nmax` followed by the arguments at which to evaluate the `exp` function."
   ]
  },
  {
   "cell_type": "code",
   "execution_count": 4,
   "id": "492dfa54",
   "metadata": {},
   "outputs": [],
   "source": [
    "!g++ -O3 -fPIC -shared -o cexp_func.so cexp_func.cpp"
   ]
  },
  {
   "cell_type": "code",
   "execution_count": 5,
   "id": "db240a0f",
   "metadata": {},
   "outputs": [
    {
     "name": "stdout",
     "output_type": "stream",
     "text": [
      "1.7 µs ± 34.1 ns per loop (mean ± std. dev. of 7 runs, 1,000,000 loops each)\n"
     ]
    }
   ],
   "source": [
    "from ctypes import *\n",
    "clib = CDLL(\"./cexp_func.so\")\n",
    "sp = clib.sum_exp\n",
    "sp.argtypes = [c_int, c_double]\n",
    "sp.restype = c_double\n",
    "%timeit sp(num_eval, x_eval)"
   ]
  },
  {
   "cell_type": "markdown",
   "id": "9d28497f",
   "metadata": {},
   "source": [
    "## Python implementation"
   ]
  },
  {
   "cell_type": "markdown",
   "id": "2d28f032",
   "metadata": {},
   "source": [
    "### Plain Python\n",
    "Let's write the same function in Python."
   ]
  },
  {
   "cell_type": "code",
   "execution_count": 6,
   "id": "72a02484",
   "metadata": {},
   "outputs": [],
   "source": [
    "def sum_exp(nmax, x):\n",
    "    sum = 1.0;\n",
    "    element = 1.0;\n",
    "    for n in range(1,nmax+1):\n",
    "        element *= x / n\n",
    "        sum += element;\n",
    "    return sum;"
   ]
  },
  {
   "cell_type": "code",
   "execution_count": 7,
   "id": "c1604a22",
   "metadata": {},
   "outputs": [
    {
     "name": "stdout",
     "output_type": "stream",
     "text": [
      "unit test passed\n"
     ]
    }
   ],
   "source": [
    "import numpy as np\n",
    "def unittest_sum_exp(nmax, x):\n",
    "    diff = sum_exp(nmax, x) - np.exp(x) \n",
    "    if np.isclose(diff, 0.):\n",
    "        print(\"unit test passed\")\n",
    "    else:\n",
    "        raise ValueError(\"something's wrong with the Python implementation of `exp`\")\n",
    "unittest_sum_exp(num_eval, x_eval)"
   ]
  },
  {
   "cell_type": "code",
   "execution_count": 8,
   "id": "e06baca4",
   "metadata": {},
   "outputs": [
    {
     "name": "stdout",
     "output_type": "stream",
     "text": [
      "56.4 µs ± 1.89 µs per loop (mean ± std. dev. of 7 runs, 10,000 loops each)\n"
     ]
    }
   ],
   "source": [
    "%timeit sum_exp(num_eval, x_eval)"
   ]
  },
  {
   "cell_type": "markdown",
   "id": "0af913c3",
   "metadata": {},
   "source": [
    "### with Numba"
   ]
  },
  {
   "cell_type": "markdown",
   "id": "e0d762ce",
   "metadata": {},
   "source": [
    "You might need to install numba first:\n",
    "```shell\n",
    "!python3 -m pip install numba\n",
    "```"
   ]
  },
  {
   "cell_type": "code",
   "execution_count": 9,
   "id": "c560ec61",
   "metadata": {},
   "outputs": [],
   "source": [
    "import numba as nb\n",
    "@nb.jit(nopython=True, fastmath=True)\n",
    "def sum_exp(nmax, x):\n",
    "    sum = 1.0;\n",
    "    element = 1.0;\n",
    "    for n in range(1,nmax+1):\n",
    "        element *= x / n\n",
    "        sum += element;\n",
    "    return sum;\n",
    "sum_exp(num_eval, x_eval);"
   ]
  },
  {
   "cell_type": "code",
   "execution_count": 10,
   "id": "aa65dc10",
   "metadata": {},
   "outputs": [
    {
     "name": "stdout",
     "output_type": "stream",
     "text": [
      "4.57 µs ± 162 ns per loop (mean ± std. dev. of 7 runs, 100,000 loops each)\n"
     ]
    }
   ],
   "source": [
    "%timeit sum_exp(num_eval, x_eval)"
   ]
  },
  {
   "cell_type": "markdown",
   "id": "aba1fab0",
   "metadata": {},
   "source": [
    "## Fortran"
   ]
  },
  {
   "cell_type": "code",
   "execution_count": 11,
   "id": "86af4808",
   "metadata": {},
   "outputs": [
    {
     "name": "stdout",
     "output_type": "stream",
     "text": [
      "Overwriting fexp_func.f90\n"
     ]
    }
   ],
   "source": [
    "%%file fexp_func.f90\n",
    "subroutine fexp_func (nmax, x, sum)\n",
    "  integer, intent(in) :: nmax\n",
    "  real(8), intent(in)  :: x\n",
    "  real(8), intent(out) :: sum \n",
    "  real(8) :: element \n",
    "  sum = 1.d0\n",
    "  element = 1.d0      \n",
    "  do n = 1, nmax, 1    \n",
    "     element = element * x / float(n)\n",
    "     sum = sum + element\n",
    "  end do\n",
    "end subroutine fexp_func"
   ]
  },
  {
   "cell_type": "code",
   "execution_count": 12,
   "id": "81a319ef",
   "metadata": {},
   "outputs": [
    {
     "name": "stdout",
     "output_type": "stream",
     "text": [
      "\u001b[39mrunning build\u001b[0m\n",
      "\u001b[39mrunning config_cc\u001b[0m\n",
      "\u001b[39mINFO: unifing config_cc, config, build_clib, build_ext, build commands --compiler options\u001b[0m\n",
      "\u001b[39mrunning config_fc\u001b[0m\n",
      "\u001b[39mINFO: unifing config_fc, config, build_clib, build_ext, build commands --fcompiler options\u001b[0m\n",
      "\u001b[39mrunning build_src\u001b[0m\n",
      "\u001b[39mINFO: build_src\u001b[0m\n",
      "\u001b[39mINFO: building extension \"fexp_func\" sources\u001b[0m\n",
      "\u001b[39mINFO: f2py options: []\u001b[0m\n",
      "\u001b[39mINFO: f2py:> /var/folders/kn/6_p1475d0wd6sbc0jmc9t8jr0000gn/T/tmpdu36w36g/src.macosx-13-x86_64-3.11/fexp_funcmodule.c\u001b[0m\n",
      "\u001b[39mcreating /var/folders/kn/6_p1475d0wd6sbc0jmc9t8jr0000gn/T/tmpdu36w36g/src.macosx-13-x86_64-3.11\u001b[0m\n",
      "Reading fortran codes...\n",
      "\tReading file 'fexp_func.f90' (format:free)\n",
      "Post-processing...\n",
      "\tBlock: fexp_func\n",
      "\t\t\tBlock: fexp_func\n",
      "Applying post-processing hooks...\n",
      "  character_backward_compatibility_hook\n",
      "Post-processing (stage 2)...\n",
      "Building modules...\n",
      "    Building module \"fexp_func\"...\n",
      "    Generating possibly empty wrappers\"\n",
      "    Maybe empty \"fexp_func-f2pywrappers.f\"\n",
      "        Constructing wrapper function \"fexp_func\"...\n",
      "          sum = fexp_func(nmax,x)\n",
      "    Wrote C/API module \"fexp_func\" to file \"/var/folders/kn/6_p1475d0wd6sbc0jmc9t8jr0000gn/T/tmpdu36w36g/src.macosx-13-x86_64-3.11/fexp_funcmodule.c\"\n",
      "\u001b[39mINFO:   adding '/var/folders/kn/6_p1475d0wd6sbc0jmc9t8jr0000gn/T/tmpdu36w36g/src.macosx-13-x86_64-3.11/fortranobject.c' to sources.\u001b[0m\n",
      "\u001b[39mINFO:   adding '/var/folders/kn/6_p1475d0wd6sbc0jmc9t8jr0000gn/T/tmpdu36w36g/src.macosx-13-x86_64-3.11' to include_dirs.\u001b[0m\n",
      "\u001b[39mcopying /usr/local/lib/python3.11/site-packages/numpy/f2py/src/fortranobject.c -> /var/folders/kn/6_p1475d0wd6sbc0jmc9t8jr0000gn/T/tmpdu36w36g/src.macosx-13-x86_64-3.11\u001b[0m\n",
      "\u001b[39mcopying /usr/local/lib/python3.11/site-packages/numpy/f2py/src/fortranobject.h -> /var/folders/kn/6_p1475d0wd6sbc0jmc9t8jr0000gn/T/tmpdu36w36g/src.macosx-13-x86_64-3.11\u001b[0m\n",
      "\u001b[39mINFO:   adding '/var/folders/kn/6_p1475d0wd6sbc0jmc9t8jr0000gn/T/tmpdu36w36g/src.macosx-13-x86_64-3.11/fexp_func-f2pywrappers.f' to sources.\u001b[0m\n",
      "\u001b[39mINFO: build_src: building npy-pkg config files\u001b[0m\n",
      "/usr/local/lib/python3.11/site-packages/setuptools/command/install.py:34: SetuptoolsDeprecationWarning: setup.py install is deprecated. Use build and pip and other standards-based tools.\n",
      "  warnings.warn(\n",
      "\u001b[39mrunning build_ext\u001b[0m\n",
      "\u001b[39mINFO: customize UnixCCompiler\u001b[0m\n",
      "\u001b[39mINFO: customize UnixCCompiler using build_ext\u001b[0m\n",
      "\u001b[39mINFO: get_default_fcompiler: matching types: '['gnu95', 'nag', 'nagfor', 'absoft', 'ibm', 'intel', 'gnu', 'g95', 'pg']'\u001b[0m\n",
      "\u001b[39mINFO: customize Gnu95FCompiler\u001b[0m\n",
      "\u001b[39mINFO: Found executable /usr/local/bin/gfortran\u001b[0m\n",
      "\u001b[39mINFO: customize Gnu95FCompiler\u001b[0m\n",
      "\u001b[39mINFO: customize Gnu95FCompiler using build_ext\u001b[0m\n",
      "\u001b[39mINFO: building 'fexp_func' extension\u001b[0m\n",
      "\u001b[39mINFO: compiling C sources\u001b[0m\n",
      "\u001b[39mINFO: C compiler: gcc-13 -Wsign-compare -Wunreachable-code -fno-common -dynamic -DNDEBUG -g -fwrapv -O3 -Wall -isysroot /Library/Developer/CommandLineTools/SDKs/MacOSX13.sdk\n",
      "\u001b[0m\n",
      "\u001b[39mcreating /var/folders/kn/6_p1475d0wd6sbc0jmc9t8jr0000gn/T/tmpdu36w36g/var\u001b[0m\n",
      "\u001b[39mcreating /var/folders/kn/6_p1475d0wd6sbc0jmc9t8jr0000gn/T/tmpdu36w36g/var/folders\u001b[0m\n",
      "\u001b[39mcreating /var/folders/kn/6_p1475d0wd6sbc0jmc9t8jr0000gn/T/tmpdu36w36g/var/folders/kn\u001b[0m\n",
      "\u001b[39mcreating /var/folders/kn/6_p1475d0wd6sbc0jmc9t8jr0000gn/T/tmpdu36w36g/var/folders/kn/6_p1475d0wd6sbc0jmc9t8jr0000gn\u001b[0m\n",
      "\u001b[39mcreating /var/folders/kn/6_p1475d0wd6sbc0jmc9t8jr0000gn/T/tmpdu36w36g/var/folders/kn/6_p1475d0wd6sbc0jmc9t8jr0000gn/T\u001b[0m\n",
      "\u001b[39mcreating /var/folders/kn/6_p1475d0wd6sbc0jmc9t8jr0000gn/T/tmpdu36w36g/var/folders/kn/6_p1475d0wd6sbc0jmc9t8jr0000gn/T/tmpdu36w36g\u001b[0m\n",
      "\u001b[39mcreating /var/folders/kn/6_p1475d0wd6sbc0jmc9t8jr0000gn/T/tmpdu36w36g/var/folders/kn/6_p1475d0wd6sbc0jmc9t8jr0000gn/T/tmpdu36w36g/src.macosx-13-x86_64-3.11\u001b[0m\n",
      "\u001b[39mINFO: compile options: '-DNPY_DISABLE_OPTIMIZATION=1 -I/var/folders/kn/6_p1475d0wd6sbc0jmc9t8jr0000gn/T/tmpdu36w36g/src.macosx-13-x86_64-3.11 -I/usr/local/lib/python3.11/site-packages/numpy/core/include -I/usr/local/opt/python@3.11/Frameworks/Python.framework/Versions/3.11/include/python3.11 -c'\u001b[0m\n",
      "\u001b[39mINFO: gcc-13: /var/folders/kn/6_p1475d0wd6sbc0jmc9t8jr0000gn/T/tmpdu36w36g/src.macosx-13-x86_64-3.11/fexp_funcmodule.c\u001b[0m\n",
      "\u001b[39mINFO: gcc-13: /var/folders/kn/6_p1475d0wd6sbc0jmc9t8jr0000gn/T/tmpdu36w36g/src.macosx-13-x86_64-3.11/fortranobject.c\u001b[0m\n",
      "\u001b[39mINFO: compiling Fortran sources\u001b[0m\n",
      "\u001b[39mINFO: Fortran f77 compiler: /usr/local/bin/gfortran -Wall -g -ffixed-form -fno-second-underscore -fPIC -O3\n",
      "Fortran f90 compiler: /usr/local/bin/gfortran -Wall -g -fno-second-underscore -fPIC -O3\n",
      "Fortran fix compiler: /usr/local/bin/gfortran -Wall -g -ffixed-form -fno-second-underscore -Wall -g -fno-second-underscore -fPIC -O3\u001b[0m\n",
      "\u001b[39mINFO: compile options: '-I/var/folders/kn/6_p1475d0wd6sbc0jmc9t8jr0000gn/T/tmpdu36w36g/src.macosx-13-x86_64-3.11 -I/usr/local/lib/python3.11/site-packages/numpy/core/include -I/usr/local/opt/python@3.11/Frameworks/Python.framework/Versions/3.11/include/python3.11 -c'\u001b[0m\n",
      "\u001b[39mINFO: gfortran:f90: fexp_func.f90\u001b[0m\n",
      "\u001b[39mINFO: gfortran:f77: /var/folders/kn/6_p1475d0wd6sbc0jmc9t8jr0000gn/T/tmpdu36w36g/src.macosx-13-x86_64-3.11/fexp_func-f2pywrappers.f\u001b[0m\n",
      "\u001b[39mINFO: /usr/local/bin/gfortran -Wall -g -Wall -g -undefined dynamic_lookup -bundle /var/folders/kn/6_p1475d0wd6sbc0jmc9t8jr0000gn/T/tmpdu36w36g/var/folders/kn/6_p1475d0wd6sbc0jmc9t8jr0000gn/T/tmpdu36w36g/src.macosx-13-x86_64-3.11/fexp_funcmodule.o /var/folders/kn/6_p1475d0wd6sbc0jmc9t8jr0000gn/T/tmpdu36w36g/var/folders/kn/6_p1475d0wd6sbc0jmc9t8jr0000gn/T/tmpdu36w36g/src.macosx-13-x86_64-3.11/fortranobject.o /var/folders/kn/6_p1475d0wd6sbc0jmc9t8jr0000gn/T/tmpdu36w36g/fexp_func.o /var/folders/kn/6_p1475d0wd6sbc0jmc9t8jr0000gn/T/tmpdu36w36g/var/folders/kn/6_p1475d0wd6sbc0jmc9t8jr0000gn/T/tmpdu36w36g/src.macosx-13-x86_64-3.11/fexp_func-f2pywrappers.o -L/usr/local/Cellar/gcc/13.1.0/bin/../lib/gcc/current/gcc/x86_64-apple-darwin22/13 -L/usr/local/Cellar/gcc/13.1.0/bin/../lib/gcc/current/gcc/x86_64-apple-darwin22/13/../../.. -L/usr/local/Cellar/gcc/13.1.0/bin/../lib/gcc/current/gcc/x86_64-apple-darwin22/13/../../.. -lgfortran -o ./fexp_func.cpython-311-darwin.so\u001b[0m\n",
      "Removing build directory /var/folders/kn/6_p1475d0wd6sbc0jmc9t8jr0000gn/T/tmpdu36w36g\n"
     ]
    }
   ],
   "source": [
    "!f2py --opt='-O3' -c -m fexp_func fexp_func.f90"
   ]
  },
  {
   "cell_type": "code",
   "execution_count": 13,
   "id": "f6c8bda0",
   "metadata": {},
   "outputs": [
    {
     "name": "stdout",
     "output_type": "stream",
     "text": [
      "4.7 µs ± 171 ns per loop (mean ± std. dev. of 7 runs, 100,000 loops each)\n"
     ]
    }
   ],
   "source": [
    "import fexp_func\n",
    "%timeit fexp_func.fexp_func(num_eval, x_eval)"
   ]
  }
 ],
 "metadata": {
  "kernelspec": {
   "display_name": "Python 3 (ipykernel)",
   "language": "python",
   "name": "python3"
  },
  "language_info": {
   "codemirror_mode": {
    "name": "ipython",
    "version": 3
   },
   "file_extension": ".py",
   "mimetype": "text/x-python",
   "name": "python",
   "nbconvert_exporter": "python",
   "pygments_lexer": "ipython3",
   "version": "3.11.3"
  }
 },
 "nbformat": 4,
 "nbformat_minor": 5
}
