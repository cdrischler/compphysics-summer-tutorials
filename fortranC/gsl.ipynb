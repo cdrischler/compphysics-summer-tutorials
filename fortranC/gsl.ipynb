{
 "cells": [
  {
   "cell_type": "markdown",
   "metadata": {},
   "source": [
    "# GNU Scientific Library (GSL)\n",
    "\n",
    "## Introduction\n",
    "\n",
    "The [GNU Scientific Library](https://www.gnu.org/software/gsl/) (GSL) is a collection of routines for numerical computing.\n",
    "The routines have been written from scratch in `C`, and present a modern Applications\n",
    "Programming Interface (API) for `C` programmers, allowing wrappers to be written for very\n",
    "high level languages. The source code is distributed under the GNU General Public License.\n",
    "\n",
    "In order to use GSL routines in `C`-based programs, you only need to add the appropriate compile and link option.\n",
    "\n",
    "For compiling (in the source and/or header files):\n",
    "\n",
    "```c\n",
    "#include <gsl/...>\n",
    "```\n",
    "For linking (in the commmand line):\n",
    "```shell\n",
    "gcc gsl.c -I/home/yourname/gsl/include -L/home/yourname/gsl/lib -lgsl -lgslcblas -lm\n",
    "```\n",
    "The link and/or include directories may be different on your operating system.\n",
    "\n",
    "## Routines available in GSL\n",
    "\n",
    "The library covers a wide range of topics in numerical computing. Routines are available\n",
    "for the following areas:\n",
    "\n",
    "* Complex Numbers \n",
    "* Roots of Polynomials\n",
    "* **Special Functions** \n",
    "* Vectors and Matrices\n",
    "* Permutations \n",
    "* Combinations\n",
    "* Sorting \n",
    "* BLAS Support\n",
    "* **Linear Algebra** \n",
    "* CBLAS Library\n",
    "* Fast Fourier Transforms \n",
    "* **Eigensystems**\n",
    "* Random Numbers \n",
    "* Quadrature\n",
    "* Random Distributions \n",
    "* Quasi-Random Sequences\n",
    "* Histograms \n",
    "* Statistics\n",
    "* **Monte Carlo Integration** \n",
    "* N-Tuples\n",
    "* **Differential Equations** \n",
    "* Simulated Annealing\n",
    "* **Numerical Differentiation** \n",
    "* **Interpolation**\n",
    "* Series Acceleration \n",
    "* Chebyshev Approximations\n",
    "* **Root-Finding** \n",
    "* Discrete Hankel Transforms\n",
    "* Least-Squares Fitting \n",
    "* Minimization\n",
    "* IEEE Floating-Point \n",
    "* **Physical Constants**\n",
    "* **Basis Splines**\n",
    "* Wavelets\n",
    "\n",
    "The use of these routines is described in [this manual](https://www.gnu.org/software/gsl/doc/latex/gsl-ref.pdf). Each chapter provides detailed\n",
    "definitions of the functions, followed by example programs and references to the articles on\n",
    "which the algorithms are based.\n",
    "Where possible the routines have been based on reliable public-domain packages such as\n",
    "FFTPACK and QUADPACK, which the developers of GSL have reimplemented in C with\n",
    "modern coding conventions.\n",
    "\n",
    "## GSL is Free Software\n",
    "\n",
    "> Unlike the licenses of proprietary numerical libraries the license of GSL does not restrict scientific cooperation. It allows you to share your programs freely with others.\n",
    "> \n",
    "The subroutines in the GNU Scientific Library are “free software”; this means that everyone\n",
    "is free to use them, and to redistribute them in other free programs. The library is not\n",
    "in the public domain; it is copyrighted and there are conditions on its distribution. These\n",
    "conditions are designed to permit everything that a good cooperating citizen would want\n",
    "to do. What is not allowed is to try to prevent others from further sharing any version of\n",
    "the software that they might get from you.\n",
    "\n",
    "Specifically, we want to make sure that you have the right to share copies of programs\n",
    "that you are given which use the GNU Scientific Library, that you receive their source code\n",
    "or else can get it if you want it, that you can change these programs or use pieces of them\n",
    "in new free programs, and that you know you can do these things.\n",
    "\n",
    "To make sure that everyone has such rights, we have to forbid you to deprive anyone\n",
    "else of these rights. For example, if you distribute copies of any code which uses the GNU\n",
    "Scientific Library, you must give the recipients all the rights that you have received. You\n",
    "must make sure that they, too, receive or can get the source code, both to the library and\n",
    "the code which uses it. And you must tell them their rights. This means that the library\n",
    "should not be redistributed in proprietary programs.\n",
    "\n",
    "Also, for our own protection, we must make certain that everyone finds out that there\n",
    "is no warranty for the GNU Scientific Library. If these programs are modified by someone\n",
    "else and passed on, we want their recipients to know that what they have is not what we\n",
    "distributed, so that any problems introduced by others will not reflect on our reputation.\n",
    "\n",
    "The precise conditions for the distribution of software related to the GNU Scientific\n",
    "Library are found in the GNU General Public License (see [GNU General Public License],\n",
    "page 467). Further information about this license is available from the GNU Project web-\n",
    "page Frequently Asked Questions about the GNU GPL, <http://www.gnu.org/copyleft/gpl-faq.html>\n",
    "The Free Software Foundation also operates a license consulting service for commercial users\n",
    "(contact details available from <http://www.fsf.org/>).\n",
    "\n",
    "## No Warranty\n",
    "The software described in this manual has no warranty, it is provided “as is”. It is your\n",
    "responsibility to validate the behavior of the routines and their accuracy using the source\n",
    "code provided, or to purchase support and warranties from commercial redistributors. Con-\n",
    "sult the GNU General Public license for further details (see [GNU General Public License],\n",
    "page 467).\n",
    "\n",
    "\n",
    "# Installing GSL\n",
    "\n",
    "Installing `GSL` is straightforward. On Ubuntu, simply run\n",
    "```shell\n",
    "sudo apt-get install libgsl-dev\n",
    "```\n",
    "On MacOS, use `homebrew` and run\n",
    "```shell\n",
    "brew install gsl\n",
    "```\n",
    "\n",
    "## Manual installation\n",
    "\n",
    "Alternatively, you can manually install `GSL`. Let's download the latest version of `GSL`:\n",
    "```shell\n",
    "wget https://ftp.gnu.org/gnu/gsl/gsl-latest.tar.gz\n",
    "tar -zxvf gsl-latest.tar.gz\n",
    "```\n",
    "This will create the directory (e.g., `gsl-2.7.1`) in the current directory. Change into this directory.\n",
    "```shell\n",
    "cd gsl-*.*\n",
    "```\n",
    "Next, you need to configure the installation and tell the system where to install the files with the following commands\n",
    "```shell\n",
    "export CC=gcc  # we want to use GCC to compile GSL\n",
    "export CXX=g++\n",
    "./configure --prefix=/home/yourname/src/  # adjust as needed\n",
    "```\n",
    "If there are no errors, compile the library. This step will take several minutes.\n",
    "```shell\n",
    "make -j 4\n",
    "```\n",
    "Note that `-j` specifies the number of jobs (commands) to run simultaneously. \n",
    "\n",
    "Now it is necessary to check and test the library before actually installing it. This step will take some time.\n",
    "```shell    \n",
    "make check\n",
    "```\n",
    "If there are no errors, go ahead and install the library with:\n",
    "```shell\n",
    "make install\n",
    "```\n",
    "Now that you have the GSL installed, you can remove the `gsl-*.*` directory that was created in your home directory.\n",
    "\n",
    "# Using `GSL`\n",
    "\n",
    "This chapter describes how to compile programs that use GSL, and introduces its conventions.\n",
    "\n",
    "## An Example Program\n",
    "The following short program demonstrates the use of the library by computing the value of\n",
    "the Bessel function $J_0(x)$ for $x = 5$,\n",
    "```cpp\n",
    "#include <stdio.h>  // for printf()\n",
    "#include <gsl/gsl_sf_bessel.h>\n",
    "int main (void){\n",
    "    double x = 5.0;\n",
    "    double y = gsl_sf_bessel_J0 (x);\n",
    "    printf (\"J0(%g) = %.18e\\n\", x, y);\n",
    "    return 0;\n",
    "}\n",
    "```\n",
    "Copy this code block to `example.c`. The steps needed to compile this program are described in the following sections.\n",
    "\n",
    "## Compiling and Linking\n",
    "\n",
    "The library header files are installed in their own `include` directory. You should write any preprocessor include statements with a `gsl/` directory prefix thus,\n",
    "```cpp\n",
    "#include <gsl/gsl_math.h>\n",
    "```\n",
    "\n",
    "If the `include` directory is not installed on the standard search path of your compiler, you will also need to provide its location to the preprocessor as a command line flag. Depending on your operating system and the chosen install path (i.e., `--prefix`), the location of gsl may vary. Use `gsl-config` to determine\n",
    "\n",
    "```shell\n",
    "gsl-config --cflags  # include directory\n",
    "# the output is, e.g., -I/usr/local/Cellar/gsl/2.7.1/include\n",
    "gsl-config --libs  # for linking\n",
    "# the output is, e.g., -L/usr/local/Cellar/gsl/2.7.1/lib -lgsl -lgslcblas\n",
    "```\n",
    "\n",
    "A typical compilation command for a source file `example.c` with the GNU C compiler gcc is,\n",
    "``` shell\n",
    "gcc -Wall -I/usr/local/include -c example.c\n",
    "```\n",
    "This results in an object file `example.o`. The default include path for gcc searches `/usr/local/include` automatically so the `-I` option can actually be omitted when GSL is installed in its default location.\n",
    "\n",
    "Compile the program with the following commands (but use the correct path for your username):\n",
    "```shell\n",
    "gcc -Wall -I/home/yourname/gsl/include -c example.c\n",
    "```\n",
    "This created the `example.o` object file (because of the flag `-c`). To create an executable, we need to link the object file with GSL (and other libraries):\n",
    "```shell \n",
    "gcc example.o -L/home/yourname/gsl/lib -lgsl -lgslcblas -lm\n",
    "```\n",
    "The (static) GSL library is installed as a single archive (file), `libgsl.a`. You can look into the archive file by typing `ar -t libgsl.a` in the terminal. A shared version of the library `libgsl.so` is also installed on systems that support shared libraries. The typical location of these files is `/usr/local/lib` on Linux systems. If this directory is not on the standard search path of your linker, you will also need to provide its location as a command line flag. Again, `gsl-config` helps you identify the path to this location (see above).\n",
    "\n",
    "Now run your program!\n",
    "```\n",
    "./a.out\n",
    "```\n",
    "The output is shown below, and should be correct to double-precision accuracy,\n",
    "\n",
    "    J0(5) = -1.775967713143382920e-01\n",
    "\n",
    "The last few digits may vary slightly depending on the compiler and platform used—this is normal.\n",
    "\n",
    "Note that we can also compile and link in one step:\n",
    "```shell\n",
    "gcc example.c -Wall -I/home/yourname/gsl/include -L/home/yourname/gsl/lib -lgsl -lgslcblas -lm\n",
    "```\n",
    "\n",
    "Let's revisit the compiler flags:\n",
    "- `-Wall`: This turns on a set of warnings for common programming problems. You\n",
    "need `-Wall`, but it is not enough on its own (for g++).\n",
    "- `-I<path>`: specifies a path where the compiler searches for include (i.e., header) files\n",
    "- `-L<path>`: species a path where the compiler searches for libraries, in this case, `libgsl.a` because of the flag `-lgsl` (which translate to `-libgsl.a`). Alternatively, we could have specified the full path of the `libgsl.a` file without the corresponding flag `-l` and `-L`\n",
    "- `-lgslcblas`, `-lm`: are additional libraries needed, for the BLAS implementation and math. BLAS provides standard basic linear algebra subroutines. A suitable BLAS\n",
    "implementation is provided in the library `libgslcblas.a`.\n",
    "\n",
    "Using `gsl-config`, we can also use the following command:\n",
    "\n",
    "```shell\n",
    "gcc example.c -Wall `gsl-config --cflags` `gsl-config --libs` -lm\n",
    "\n",
    "```\n",
    "To run a program linked with the shared version of the library the operating system must\n",
    "be able to locate the corresponding `.so` file at runtime (not at compile time). If the library cannot be found, the following error will occur:\n",
    "```shell\n",
    "./a.out\n",
    "  ./a.out: error while loading shared libraries:\n",
    "  libgsl.so.0: cannot open shared object file: No such file or directory\n",
    "```\n",
    "To avoid this error, either modify the system dynamic linker configuration or define the\n",
    "shell variable `LD_LIBRARY_PATH` to include the directory where the library is installed.\n",
    "For example, \n",
    "```shell\n",
    "export LD_LIBRARY_PATH=/usr/local/lib:$LD_LIBRARY_PATH\n",
    "./a.out\n",
    "```\n",
    "prepends `/usr/local/lib` to the variable `LD_LIBRARY_PATH` in several shells and then executes the `example` again. This time successfully."
   ]
  },
  {
   "cell_type": "markdown",
   "metadata": {},
   "source": [
    "# More advanced examples\n",
    "\n",
    "The many GSL functions are available in different source files. \n",
    "\n",
    "For example, to use the matrix, linear equation solver, and matrix multiplication functionalities, respectively include\n",
    "```c\n",
    "#include <gsl/gsl_matrix.h>\n",
    "#include <gsl/gsl_linalg.h>\n",
    "#include <gsl/gsl_blas.h>\n",
    "```\n",
    "Available functions and their associated header files can be found [here](https://www.gnu.org/software/gsl/doc/html/intro.html).\n",
    "\n",
    "Below are a few examples to familiarize yourself with GSL. Feel free to explore more!\n",
    "\n",
    "\n",
    "### Constructing matrices and vectors\n",
    "\n",
    "In GSL, matrices are dynamic objects that must be allocated in advance and later freed. Let's write the file `gsl-simple-matrix.c`\n"
   ]
  },
  {
   "cell_type": "code",
   "execution_count": 134,
   "metadata": {},
   "outputs": [
    {
     "name": "stdout",
     "output_type": "stream",
     "text": [
      "Overwriting gsl-simple-matrix.c\n"
     ]
    }
   ],
   "source": [
    "%%file gsl-simple-matrix.c\n",
    "#include <stdio.h>\n",
    "#include <gsl/gsl_matrix.h>\n",
    "\n",
    "int main(){\n",
    "  // allocate (memory for the) mxn matrix \n",
    "  unsigned m = 10;\n",
    "  unsigned n = 20;\n",
    "  gsl_matrix* myMatr = gsl_matrix_alloc(m, n);\n",
    "\n",
    "  // simple matrix with increasing entries\n",
    "  unsigned counter = 1;\n",
    "  for (int i=0; i < m; i++){\n",
    "      for (int j=0; j < n; j++){\n",
    "          gsl_matrix_set(myMatr, i, j, (double)counter);\n",
    "          counter++;\n",
    "          // printf(\"%lf \", gsl_matrix_get(myMatr, i, j)); // uncomment to print matrix\n",
    "      }\n",
    "      // printf(\"\\n\");  // uncomment to print matrix\n",
    "  }\n",
    "  unsigned m_req = 3;\n",
    "  unsigned n_req = 3;\n",
    "  double elem = gsl_matrix_get(myMatr, m_req, n_req);\n",
    "  printf(\"The element (%u, %u) of the (%u, %u) matrix is %lf\\n\", \n",
    "         m_req, n_req, m, n, elem);\n",
    "\n",
    "  gsl_matrix_free(myMatr);  // never forget to free the allocated memory\n",
    "}"
   ]
  },
  {
   "cell_type": "markdown",
   "metadata": {},
   "source": [
    "Vectors can be defined similarly in GSL. Now, we can build an exectubale via:"
   ]
  },
  {
   "cell_type": "code",
   "execution_count": 135,
   "metadata": {},
   "outputs": [
    {
     "name": "stdout",
     "output_type": "stream",
     "text": [
      "The element (3, 3) of the (10, 20) matrix is 64.000000\n"
     ]
    }
   ],
   "source": [
    "!gcc gsl-simple-matrix.c -o simple-mat -Wall `gsl-config --cflags` `gsl-config --libs` -lm\n",
    "!./simple-mat"
   ]
  },
  {
   "cell_type": "markdown",
   "metadata": {},
   "source": [
    "What do you expect the output will be? [Hint: in which order does the code populate the matrix?]\n",
    "\n",
    "Let's write Python code for the same matrix:"
   ]
  },
  {
   "cell_type": "code",
   "execution_count": 136,
   "metadata": {},
   "outputs": [
    {
     "data": {
      "text/plain": [
       "64"
      ]
     },
     "execution_count": 136,
     "metadata": {},
     "output_type": "execute_result"
    }
   ],
   "source": [
    "import numpy as np\n",
    "m, n = 10, 20\n",
    "mat = np.arange(1, m*n+1).reshape((m,n))\n",
    "mat[3,3]\n"
   ]
  },
  {
   "cell_type": "markdown",
   "metadata": {},
   "source": [
    "### Operations with vectors and matrices\n",
    "\n",
    "GSL's matrix operations use Basic Linear Algebra Subprograms (BLAS), given [here](https://www.gnu.org/software/gsl/doc/html/blas.html)\n",
    "In BLAS, each routine has a name which specifies the operation, the type of matrices involved and the data precision. Some of the most common operations are:\n",
    "\n",
    "| Name of BLAS operation  | Description                   |\n",
    "|-------------------------|-------------------------------|\n",
    "| DOT                     | scalar product of two vectors |\n",
    "| MV                      | matrix-vector product         |\n",
    "| MM                      | matrix-matrix product         |\n",
    "\n",
    "In addition to the name of the operation, the routine must specify what type of matrices, if any, are being used.  Some examples of the different types of matrices supported are:\n",
    "\n",
    "| Name of supported matrix type  | Description                     |\n",
    "|--------------------------------|---------------------------------|\n",
    "| GE                             | General. Any type of matrix     |\n",
    "| SY                             | Symmetric Matrix (i.e. A^T = A) |\n",
    "| HE                             | Hermitian matrix (if complex)   |\n",
    "| TR                             | Triangular matrix               |\n",
    "\n",
    "In addition to the above-mentioned names, the routine must also specify what is the precision of the data in the matrices. They are:\n",
    "\n",
    "| Precision  | Description                                                                                   |\n",
    "|------------|-----------------------------------------------------------------------------------------------|\n",
    "| S          | Single precision real numbers. In C, this is the 'float' datatype                             |\n",
    "| D          | Double precision real numbers. In C, this is the 'double' datatype                            |\n",
    "| C          | Single precision complex numbers. In C, this can be complex structures from various libraries |\n",
    "| Z          | Double precision complex numbers. In C, this can be complex structures from various libraries |\n",
    "\n",
    "\n",
    "In GSL-BLAS, each routine is composed from the names described above as `gsl_blas_XYYZZZ` (gsl datatypes only), where the meaning of the different parts are as follows:\n",
    "\n",
    "| substring | Explanation          |\n",
    "|-----------|----------------------|\n",
    "| gsl_blas  | prefix               |\n",
    "| X         | precision type       |\n",
    "| YY        | matrix type (if any) |\n",
    "| ZZZ       | operation            |\n",
    "\n",
    "\n",
    "BLAS routines, including GSL-BLAS, are classified into 3 levels.\n",
    "\n",
    "* Level 1 BLAS consists of routines that perform vector operations, such as addition, scaling, scalar product, and norms.\n",
    "* Level 2 BLAS consists of routines that perform matrix-vector operations, such as matrix-vector products,triangular matrix-vector solves,rank-1 and symmetric rank-2 updates\n",
    "* Level 3 BLAS consists of routines that perform matrix-matrix operations, such as matrix-matrix products,triangular matrix solves, and low-rank updates\n",
    "\n",
    "You can figure out the name of the GSL-BLAS function that you need based on the rules described in the previous section. So, for example, if you want to perform scalar dot product of two real vectors with the data in single precision float, i.e., $r = x^T \\cdot y = x^T y then, the relevant GSL_BLAS routine is in level 1, and is called as follows:\n",
    "```c\n",
    "gsl_blas_sdot(x, y, &r);\n",
    "```\n",
    "Here, as per CBLAS rules:\n",
    "\n",
    "* The 's' in 'sdot' means 'single precision float',\n",
    "* The 'dot' in 'sdot' means 'dot product operation'. \n",
    "\n",
    "Among the arguments: \n",
    "* `x` and `y` are `gsl_vector types`\n",
    "* The resultant dot product is stored in float `r`. \n",
    "\n",
    "Note that the result is not given as a return value, but as a third argument, to which you will have to give the pointer to the result variable.  For the more conventional double precision case, the GSL_BLAS routine can be determined similarly."
   ]
  },
  {
   "cell_type": "code",
   "execution_count": 137,
   "metadata": {},
   "outputs": [
    {
     "name": "stdout",
     "output_type": "stream",
     "text": [
      "Overwriting gsl-dot_product.c\n"
     ]
    }
   ],
   "source": [
    "%%file gsl-dot_product.c\n",
    "#include <stdio.h>\n",
    "#include <gsl/gsl_blas.h>\n",
    "\n",
    "int main(){\n",
    "  // allocate (memory for the) vecotr \n",
    "  unsigned m = 10;\n",
    "  gsl_vector_float *x = gsl_vector_float_alloc(m);\n",
    "  gsl_vector_float *y = gsl_vector_float_alloc(m);\n",
    "\n",
    "  // simple matrix with increasing entries\n",
    "  for (int i=0; i < m; i++){\n",
    "        gsl_vector_float_set(x, i, (double)i);\n",
    "        gsl_vector_float_set(y, i, 3*(double)i);\n",
    "    }\n",
    "\n",
    "float r;\n",
    "gsl_blas_sdot(x, y, &r);\n",
    "printf(\"The dot product is %lf\\n\", r);\n",
    "\n",
    "gsl_vector_float_free(x);  // never forget to free the allocated memory\n",
    "gsl_vector_float_free(y);  // never forget to free the allocated memory\n",
    "}"
   ]
  },
  {
   "cell_type": "code",
   "execution_count": 138,
   "metadata": {},
   "outputs": [
    {
     "name": "stdout",
     "output_type": "stream",
     "text": [
      "The dot product is 855.000000\n"
     ]
    }
   ],
   "source": [
    "!gcc gsl-dot_product.c -o gsl-dot_product -Wall `gsl-config --cflags` `gsl-config --libs` -lm\n",
    "!./gsl-dot_product"
   ]
  },
  {
   "cell_type": "markdown",
   "metadata": {},
   "source": [
    "Let's write a similar function in Python:"
   ]
  },
  {
   "cell_type": "code",
   "execution_count": 139,
   "metadata": {},
   "outputs": [
    {
     "data": {
      "text/plain": [
       "855"
      ]
     },
     "execution_count": 139,
     "metadata": {},
     "output_type": "execute_result"
    }
   ],
   "source": [
    "m = 10\n",
    "x = np.arange(m)\n",
    "y = 3*x\n",
    "x @ y"
   ]
  },
  {
   "cell_type": "markdown",
   "metadata": {},
   "source": [
    "For implementing a matrix-vector product like $Ax$, the general BLAS operation, found in level 2 BLAS, is $y \\to \\alpha \\mathrm{op}(x) + \\beta y$. Here, the input arguments are two floats $\\alpha$ and $\\beta$, two vectors, $x$ and $y$, and a matrix. The routine performs an operation `op()` on matrix $A$, multiplies it with vector $x$, scales the result by the constant $\\alpha$, and adds the result to $\\beta y$. The result is re-written into the vector $y$. Note that $y$ gets overwritten! \n",
    "\n",
    "The routine `op()` can be one of three routines: doing nothing (identity operation), transpose of $A$, or conjugate-transpose of $A$. If you simply want to perform $y= Ax$, then the constants should be set to $\\alpha = 1$, $\\beta = 0$, and `op()` needs to be set to the identity. The relevant GSL_BLAS function is\n",
    "```c\n",
    "gsl_blas_dgemv(CblasNoTrans, alpha, A, x, beta, y);\n",
    "```\n",
    "\n",
    "Here, as per CBLAS rules:\n",
    "* The 'd' in 'dgemv' means 'double precision', \n",
    "* The 'ge' in 'dgemv' means 'general matrix', \n",
    "* The 'mv' in 'dgemv' means 'matrix-vector' operation. \n",
    "\n",
    "In the arguments:\n",
    "\n",
    "* The first 'CblasNoTrans' is an enumerated datatype and means 'do nothing to the matrix'. The alternative are 'CblasTrans', which means 'transpose the matrix', and'CblasConjTrans', which means 'conjugate transpose \n",
    "* The second argument is the constant $\\alpha$ (set to 1 here), \n",
    "* The third argument is the gsl_matrix datatype $A$.\n",
    "* The fourth argument is the gsl_vector datatype vector $x$, \n",
    "* The fifth argument is the constant $\\beta$ (set to 0 here), and \n",
    "* The last argument is the gsl_vector datatype vector $y$.\n",
    "\n",
    "As another example, if you want to do this with single precision float datatypes, and perform a transpose of a symmetric matrix A before matrix-vector-multiplication, the relevant function call would be\n",
    "```c\n",
    "gsl_blas_ssymv(CblasUpper, CblasTrans, alpha A, x, beta, y);\n",
    "```\n",
    "Here, as per CBLAS rules:\n",
    "* The 's' in 'ssymv' means 'single precision', \n",
    "* The 'sy' in 'ssymv' means 'symmetric matrix', \n",
    "* The 'mv' in 'ssymv' means 'matrix-vector' operation. \n",
    "\n",
    "In the arguments:\n",
    "* The first argument, 'CblasUpper', means 'store only the upper triangular part of the matrix (since it is symmetric) and use the lower triangular part for scratch work'. The other choice is CblasLower,\n",
    "* The second 'CblasTrans' means 'do a transpose',\n",
    "* The rest are the same as the previous example.\n",
    "\n",
    "Finally, we have matrix-matrix multiplications. The general BLAS operation, found in level 3, is: $C \\to \\alpha \\mathrm{op}(A)\\mathrm{op}(B) + \\beta C$\n",
    "\n",
    "Here, $A$, $B$, and $C$ are all matrix datatypes, and all other symbols have the same meanings as those in the examples discussed above. For simply multiplying two matrices $A$ and $B$ and storing the result in matrix $C$, the relevant GSL_BLAS function is\n",
    "```c\n",
    "gsl_blas_dgemm (CblasNoTrans, CblasNoTrans, alpha, A, B, beta, C);\n",
    "```\n",
    "Here, as per CBLAS rules:\n",
    "* The 'd' in 'dgemm' means 'double precision', \n",
    "* The 'ge' in 'dgemv' means 'general matrix', \n",
    "* The 'mm' in 'dgemm' means 'matrix-matrix' operation. \n",
    "\n",
    "In the arguments:\n",
    "* The first and second 'CblasNoTrans' means ' do nothing' ( as opposed to CblasTrans which means 'transpose' or CblasConjTrans which means 'conjugate transpose), \n",
    "* The third argument is the constant alpha (set to 1 here), \n",
    "* The fourth and fifth arguments is the gsl_matrix datatypes A and B respectively,\n",
    "* The sixth argument is the constant beta (set to 0 here), and \n",
    "* The last argument is the gsl_matrix datatype C, where the output will be stored.\n",
    "\n",
    "As an example: the program below computes the following product of two matrices using a GSL-BLAS function:\n",
    "$$\n",
    "\\begin{pmatrix} \n",
    "0.11 & 0.12 & 0.13\\\\\n",
    "0.21 & 0.22 & 0.23\n",
    "\\end{pmatrix}\n",
    "\\begin{pmatrix}\n",
    "1011 & 1012\\\\\n",
    "1021 & 1022\\\\\n",
    "1031 & 1031 \n",
    "\\end{pmatrix}\n",
    "=\n",
    "\\begin{pmatrix} \n",
    "367.76 & 368.12\\\\\n",
    "674.06 &  674.72\n",
    "\\end{pmatrix}\n",
    "$$\n"
   ]
  },
  {
   "cell_type": "code",
   "execution_count": 140,
   "metadata": {},
   "outputs": [
    {
     "name": "stdout",
     "output_type": "stream",
     "text": [
      "Overwriting gsl-mm-product.c\n"
     ]
    }
   ],
   "source": [
    "%%file gsl-mm-product.c\n",
    "#include <stdio.h>\n",
    "#include <gsl/gsl_blas.h>\n",
    "\n",
    "int main (void) {\n",
    "  // define matrices\n",
    "  double a[] = { 0.11, 0.12, 0.13,\n",
    "                 0.21, 0.22, 0.23 };\n",
    "\n",
    "  double b[] = { 1011, 1012,\n",
    "                 1021, 1022,\n",
    "                 1031, 1032 };\n",
    "\n",
    "  double c[] = { 0.00, 0.00,\n",
    "                 0.00, 0.00 };\n",
    "\n",
    "  gsl_matrix_view A = gsl_matrix_view_array(a, 2, 3);\n",
    "  gsl_matrix_view B = gsl_matrix_view_array(b, 3, 2);\n",
    "  gsl_matrix_view C = gsl_matrix_view_array(c, 2, 2);\n",
    "\n",
    "  // compute matrix product\n",
    "  gsl_blas_dgemm (CblasNoTrans, CblasNoTrans,\n",
    "                  1.0, &A.matrix, &B.matrix,\n",
    "                  0.0, &C.matrix);\n",
    "\n",
    "  printf (\"[ %g, %g\\n\", c[0], c[1]);\n",
    "  printf (\"  %g, %g ]\\n\", c[2], c[3]);\n",
    "\n",
    "  return 0;\n",
    "}"
   ]
  },
  {
   "cell_type": "code",
   "execution_count": 141,
   "metadata": {},
   "outputs": [
    {
     "name": "stdout",
     "output_type": "stream",
     "text": [
      "[ 367.76, 368.12\n",
      "  674.06, 674.72 ]\n"
     ]
    }
   ],
   "source": [
    "!gcc gsl-mm-product.c -o gsl-mm-product -Wall `gsl-config --cflags` `gsl-config --libs` -lm\n",
    "!./gsl-mm-product"
   ]
  },
  {
   "cell_type": "code",
   "execution_count": 142,
   "metadata": {},
   "outputs": [
    {
     "data": {
      "text/plain": [
       "array([[367.76, 368.12],\n",
       "       [674.06, 674.72]])"
      ]
     },
     "execution_count": 142,
     "metadata": {},
     "output_type": "execute_result"
    }
   ],
   "source": [
    "a = np.array([[0.11, 0.12, 0.13],\n",
    "              [0.21, 0.22, 0.23]])\n",
    "b = np.array([[1011, 1012],\n",
    "              [1021, 1022],\n",
    "              [1031, 1032]])\n",
    "a @ b"
   ]
  },
  {
   "cell_type": "markdown",
   "metadata": {},
   "source": [
    "A fast way to perform such basic linear algebra operations in Python is using `numpy`'s `einsum`, which based on the [Einstein sum convention](https://en.wikipedia.org/wiki/Einstein_notation). Here, we use `einsum` to carry out the same matrix multiplication:"
   ]
  },
  {
   "cell_type": "code",
   "execution_count": 143,
   "metadata": {},
   "outputs": [
    {
     "data": {
      "text/plain": [
       "array([[367.76, 368.12],\n",
       "       [674.06, 674.72]])"
      ]
     },
     "execution_count": 143,
     "metadata": {},
     "output_type": "execute_result"
    }
   ],
   "source": [
    "np.einsum('ij,jk->ik', a, b)"
   ]
  },
  {
   "cell_type": "markdown",
   "metadata": {},
   "source": [
    "For more details on `np.einsum()`, e.g., see [here](https://ajcr.net/Basic-guide-to-einsum/)."
   ]
  },
  {
   "cell_type": "markdown",
   "metadata": {},
   "source": [
    "### Solving linear equations\n",
    "\n",
    "[Solving linear systems of equations](https://www.gnu.org/software/gsl/doc/html/linalg.html) is provided by GSL's\n",
    "```C\n",
    "#include <gsl/gsl_linalg.h>\n",
    "```\n",
    "As an example, we solve $A x = b$, where $A$ is a matrix and $b$ a vector, by LU decomposition (in GSL), which involves creating an intermediate `permutation` for piivoting:\n",
    "```C\n",
    "gsl_permutation* perm = gsl_permutation_alloc(vecB->size);\n",
    "int signum;  // signum of the permutation\n",
    "gsl_linalg_LU_decomp(matrA, perm, &signum);\n",
    "gsl_linalg_LU_solve(matrA, perm, vecB, vecX);\n",
    "gsl_permutation_free(perm);\n",
    "```\n",
    "Below is the source code:"
   ]
  },
  {
   "cell_type": "code",
   "execution_count": 144,
   "metadata": {},
   "outputs": [
    {
     "name": "stdout",
     "output_type": "stream",
     "text": [
      "Overwriting gsl-mat-solver.c\n"
     ]
    }
   ],
   "source": [
    "%%file gsl-mat-solver.c\n",
    "#include <stdio.h>\n",
    "#include <gsl/gsl_linalg.h>\n",
    "\n",
    "int main (void) {\n",
    "  // define matrix A and vector b\n",
    "  double a_data[] = { 0.18, 0.60, 0.57, 0.96,\n",
    "                      0.41, 0.24, 0.99, 0.58,\n",
    "                      0.14, 0.30, 0.97, 0.66,\n",
    "                      0.51, 0.13, 0.19, 0.85 };\n",
    "\n",
    "  double b_data[] = { 1.0, 2.0, 3.0, 4.0 };\n",
    "\n",
    "  gsl_matrix_view m\n",
    "    = gsl_matrix_view_array (a_data, 4, 4);\n",
    "  gsl_vector_view b\n",
    "    = gsl_vector_view_array (b_data, 4);\n",
    "  gsl_vector *x = gsl_vector_alloc (4);\n",
    "\n",
    "  // solve Ax = b using LU decomposition\n",
    "  int s;\n",
    "  gsl_permutation * p = gsl_permutation_alloc (4);\n",
    "  gsl_linalg_LU_decomp (&m.matrix, p, &s);\n",
    "  gsl_linalg_LU_solve (&m.matrix, p, &b.vector, x);\n",
    "\n",
    "  // print result\n",
    "  printf (\"x = \\n\");\n",
    "  gsl_vector_fprintf (stdout, x, \"%g\");\n",
    "\n",
    "  // free memory\n",
    "  gsl_permutation_free (p);\n",
    "  gsl_vector_free (x);\n",
    "  return 0;\n",
    "}"
   ]
  },
  {
   "cell_type": "markdown",
   "metadata": {},
   "source": [
    "Let's compile and run the code:"
   ]
  },
  {
   "cell_type": "code",
   "execution_count": 145,
   "metadata": {},
   "outputs": [
    {
     "name": "stdout",
     "output_type": "stream",
     "text": [
      "x = \n",
      "-4.05205\n",
      "-12.6056\n",
      "1.66091\n",
      "8.69377\n"
     ]
    }
   ],
   "source": [
    "!gcc gsl-mat-solver.c -o gsl-mat-solver -Wall `gsl-config --cflags` `gsl-config --libs` -lm\n",
    "!./gsl-mat-solver"
   ]
  },
  {
   "cell_type": "markdown",
   "metadata": {},
   "source": [
    "Finally, let's solve $Ax =b$ using numpy:"
   ]
  },
  {
   "cell_type": "code",
   "execution_count": 146,
   "metadata": {},
   "outputs": [
    {
     "data": {
      "text/plain": [
       "array([ -4.05205023, -12.6056114 ,   1.66091163,   8.69376693])"
      ]
     },
     "execution_count": 146,
     "metadata": {},
     "output_type": "execute_result"
    }
   ],
   "source": [
    "a= np.array([[ 0.18, 0.60, 0.57, 0.96],\n",
    "            [0.41, 0.24, 0.99, 0.58],\n",
    "            [0.14, 0.30, 0.97, 0.66],\n",
    "            [0.51, 0.13, 0.19, 0.85]])\n",
    "b = np.array([1.0, 2.0, 3.0, 4.0])\n",
    "np.linalg.solve(a, b)"
   ]
  },
  {
   "cell_type": "markdown",
   "metadata": {},
   "source": [
    "### Numerical errors\n",
    "\n",
    "By default, a numerical error (e.g. attempting to invert a non-invertible matrix) will cause an error message and execution to terminate.\n",
    "To instead detect and handle numerical errors, include\n",
    "```C\n",
    "#include <gsl/gsl_errno.h>\n",
    "```\n",
    "and call\n",
    "```C\n",
    "gsl_set_error_handler_off();\n",
    "```\n",
    "before calling any numerical functions. Then functions (e.g. `gsl_linalg_LU_solve`) will return an integer `0` for success, otherwise an errorcode of those listed [here](https://www.gnu.org/software/gsl/doc/html/err.html) (e.g. `GSL_ERANGE`, `GSL_EIVANL`)."
   ]
  },
  {
   "cell_type": "markdown",
   "metadata": {},
   "source": [
    "## Acknowledgments\n",
    "\n",
    "This document is partly based on GSL's documentation, Dick Furnstahl's [GSL introduction](https://www.asc.ohio-state.edu/physics/ntg/6810/handouts/gsl_2010_intro.pdf), and Analabha Roy [lecture notes](https://sites.google.com/a/phys.buruniv.ac.in/numerical/laboratory/example-codes/matrix-vector-operations-with-gsl-blas)."
   ]
  }
 ],
 "metadata": {
  "kernelspec": {
   "display_name": "Python 3",
   "language": "python",
   "name": "python3"
  },
  "language_info": {
   "codemirror_mode": {
    "name": "ipython",
    "version": 3
   },
   "file_extension": ".py",
   "mimetype": "text/x-python",
   "name": "python",
   "nbconvert_exporter": "python",
   "pygments_lexer": "ipython3",
   "version": "3.11.4"
  },
  "orig_nbformat": 4
 },
 "nbformat": 4,
 "nbformat_minor": 2
}
